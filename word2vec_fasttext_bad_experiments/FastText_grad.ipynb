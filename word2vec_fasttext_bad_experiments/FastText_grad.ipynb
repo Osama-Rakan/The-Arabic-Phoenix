{
  "cells": [
    {
      "cell_type": "markdown",
      "metadata": {
        "id": "l0ML4cRETWYY"
      },
      "source": [
        "# Importing libraries"
      ]
    },
    {
      "cell_type": "code",
      "execution_count": 1,
      "metadata": {
        "id": "AtqYvwl_M76e"
      },
      "outputs": [],
      "source": [
        "import pandas as pd\n",
        "import numpy as np\n",
        "from gensim.models import FastText\n",
        "from sklearn.linear_model import LogisticRegression\n",
        "from sklearn.svm import SVC\n",
        "from sklearn import metrics\n",
        "from sklearn.metrics import auc\n",
        "import nltk\n",
        "import re\n",
        "from nltk.tokenize import wordpunct_tokenize\n",
        "from collections import Counter\n",
        "nltk.download('popular', quiet=True)\n",
        "import warnings\n",
        "from sklearn.metrics import accuracy_score, roc_curve, auc, f1_score, confusion_matrix, recall_score, precision_score\n",
        "import seaborn as sns\n",
        "import matplotlib.pyplot as plt\n",
        "warnings.filterwarnings(\"ignore\")"
      ]
    },
    {
      "cell_type": "code",
      "source": [
        "class TextCleaner:\n",
        "  def __init__(self, remove_links=True, remove_mentions_and_hashtags=True, \n",
        "               replace_emojis_with_meaningful_tokens=True, remove_emojis=False, remove_consecutive_duplicate_letters=True,\n",
        "               remove_numbers=True, remove_punctuation=True, only_arabic_chars=False, remove_stop_words=True, letters_normalization=True, remove_j_shift= True):\n",
        "    self.remove_links = remove_links\n",
        "    self.remove_mentions_and_hashtags = remove_mentions_and_hashtags\n",
        "    self.replace_emojis_with_meaningful_tokens = replace_emojis_with_meaningful_tokens\n",
        "    self.remove_emojis = remove_emojis\n",
        "    self.remove_consecutive_duplicate_letters = remove_consecutive_duplicate_letters\n",
        "    self.remove_numbers = remove_numbers\n",
        "    self.remove_punctuation = remove_punctuation\n",
        "    self.only_arabic_chars = only_arabic_chars\n",
        "    self.remove_stop_words = remove_stop_words\n",
        "    self.letters_normalization = letters_normalization\n",
        "    self.remove_j_shift = remove_j_shift\n",
        "\n",
        "  \n",
        "  def clean_text(self, document):\n",
        "    emoji_pattern = re.compile(\"[\"\n",
        "            u\"\\U0001F600-\\U0001F64F\"  # emoticons\n",
        "            u\"\\U0001F300-\\U0001F5FF\"  # symbols & pictographs\n",
        "            u\"\\U0001F680-\\U0001F6FF\"  # transport & map symbols\n",
        "            u\"\\U0001F1E0-\\U0001F1FF\"  # flags (iOS)\n",
        "                              \"]+\", flags=re.UNICODE)\n",
        "    \n",
        "    def delete_consecutive_strings(s):\n",
        "        i=0\n",
        "        j=0\n",
        "        new_elements=''\n",
        "        while(j<len(s)):\n",
        "            if( s[i]==s[j] ):\n",
        "                j+=1\n",
        "            elif((s[j]!=s[i]) or (j==len(s)-1)):\n",
        "                new_elements+=s[i]\n",
        "                i=j\n",
        "                j+=1\n",
        "        new_elements+=s[j-1]\n",
        "        return new_elements\n",
        "    # Remove URLs\n",
        "    if self.remove_links:\n",
        "      document = re.sub('http\\S+', '', document)\n",
        "\n",
        "    # Remove mentions and hashtags\n",
        "    if self.remove_mentions_and_hashtags:\n",
        "      document = re.sub('[@#]\\w+', '', document)\n",
        "\n",
        "    # Replacing emojis with meaningful tokens\n",
        "    if self.replace_emojis_with_meaningful_tokens:\n",
        "      document = re.sub('[😍❤️❤💜💙🖤💓💗💚💝💘💖💕🤍💛❣️💞🌹🥰💟💑]', ' حبحب ', document)\n",
        "      document = re.sub('[🐶🐕🐷🐖🐴🐄🐮🐂🐃🐵🐒🙉🐑🐐🐸🦄]', ' حيواناتحيوانات ', document)\n",
        "      document = re.sub('[😡🤬😠😤🤮🤢😣😷😒🙄]', ' معصبمعصب ', document)\n",
        "      document = re.sub('[👊👊🏽👊🏻👊🏼👊🏾👊🏿🔪]', ' عنفعنف ', document)\n",
        "      document = re.sub('[✋✋🏽✋🏻✋🏿✋🏼✋🏾]', ' يديد ', document)\n",
        "      document = re.sub('[🖕🖕🏽🖕🏻🖕🏿🖕🏼🖕🏾]', ' الوسطىالوسطى ', document)\n",
        "      document = re.sub('[😂🤣😭💀]', ' ضحكضحك ', document)\n",
        "      document = re.sub('[💩👠👞]', ' عدماحترامعدماحترام ', document)\n",
        "      document = re.sub('[😢💔]', ' حزينحزين ', document)\n",
        "      document = re.sub('🤔', ' يفكريفكر ', document)\n",
        "      document = re.sub('🔥', ' نارنار ', document)\n",
        "      document = re.sub('👎', ' عدمإعجابعدمإعجاب ', document)\n",
        "      #document = emoji_pattern.sub(' إيموجيإيموجي ', document)\n",
        "\n",
        "\n",
        "    # Remove emojis\n",
        "    if self.remove_emojis:\n",
        "      document = emoji_pattern.sub('', document)\n",
        "\n",
        "    # Remove consecutive duplicate letters\n",
        "    if self.remove_consecutive_duplicate_letters:\n",
        "      try:\n",
        "        document = delete_consecutive_strings(document)\n",
        "      except:\n",
        "        pass\n",
        "\n",
        "    # Remove numbers\n",
        "    if self.remove_numbers:\n",
        "      document = re.sub('\\d+', '', document)\n",
        "\n",
        "    # Remove punctuation marks\n",
        "    if self.remove_punctuation:\n",
        "      punctuation = '!\"#$%&\\'()*+,-./:;<=>?@[\\\\]^_`{|}~،؟!.؛'\n",
        "      document = document.translate(str.maketrans('', '', punctuation))\n",
        "\n",
        "\n",
        "    # # Remove stop words\n",
        "    if self.remove_stop_words:\n",
        "      stop_words = nltk.corpus.stopwords.words('arabic')\n",
        "      stopwords_dict = Counter(stop_words)\n",
        "      document = ' '.join([word for word in document.split() if word not in stopwords_dict])\n",
        "\n",
        "    # # Only keep Arabic characters\n",
        "    if self.only_arabic_chars:\n",
        "      document = re.sub('[^\\[\\]_ء-ي]', ' ', document)\n",
        "\n",
        "    # Normalize arabic letters\n",
        "    if self.letters_normalization:\n",
        "      document = re.sub('[أإءئى]', 'ا', document)\n",
        "      document = re.sub('ص', 'س', document)\n",
        "      document = re.sub('ظ', 'ض', document)\n",
        "\n",
        "    # # Remove ـ\n",
        "    if self.remove_j_shift:\n",
        "      document = re.sub('ـ', '', document)\n",
        "\n",
        "    # # Replacing the multiple spaces between words with 1 space\n",
        "    document = re.sub(' +', ' ', document)\n",
        "    document = document.strip()\n",
        "    return document"
      ],
      "metadata": {
        "id": "ym60zMlxpUBK"
      },
      "execution_count": 2,
      "outputs": []
    },
    {
      "cell_type": "code",
      "source": [
        "c1 = TextCleaner(remove_links=True, remove_mentions_and_hashtags=True, \n",
        "                 replace_emojis_with_meaningful_tokens=True, remove_emojis=True, remove_consecutive_duplicate_letters=True,\n",
        "                 remove_numbers=True, remove_punctuation=True, only_arabic_chars=True, remove_stop_words=True, \n",
        "                 letters_normalization=True, remove_j_shift= True)\n",
        "s='ttrtyhjyhj @user @ahmad حـــــررراااممم [] ______ !!!!!!! ? @ ! ؟ 😋😋 99 💩👎😡🖕🔪🐶 صين طويل https://twitter.com في الشارع و على الطريق طـويل أنـت سـريـع'\n",
        "c1.clean_text(s)"
      ],
      "metadata": {
        "colab": {
          "base_uri": "https://localhost:8080/",
          "height": 36
        },
        "id": "Z8lfywvtpZEn",
        "outputId": "e88efd28-de40-453d-db1f-d399c329dea3"
      },
      "execution_count": 3,
      "outputs": [
        {
          "output_type": "execute_result",
          "data": {
            "text/plain": [
              "'حرام عدماحترامعدماحترام عدماعجابعدماعجاب معسبمعسب الوسطاالوسطا عنفعنف حيواناتحيوانات سين طويل الشارع الطريق طويل انت سريع'"
            ],
            "application/vnd.google.colaboratory.intrinsic+json": {
              "type": "string"
            }
          },
          "metadata": {},
          "execution_count": 3
        }
      ]
    },
    {
      "cell_type": "markdown",
      "metadata": {
        "id": "Lee_NHTmTnoZ"
      },
      "source": [
        "# Reading the train and test datasets"
      ]
    },
    {
      "cell_type": "code",
      "execution_count": 4,
      "metadata": {
        "id": "b20ahtcqONHm"
      },
      "outputs": [],
      "source": [
        "X_train = pd.read_csv('X_train.csv')\n",
        "y_train = pd.read_csv('y_train.csv')\n",
        "\n",
        "X_test = pd.read_csv('X_test.csv')\n",
        "y_test = pd.read_csv('y_test.csv')\n",
        "\n",
        "X_val = pd.read_csv('X_val.csv')\n",
        "y_val = pd.read_csv('y_val.csv')"
      ]
    },
    {
      "cell_type": "markdown",
      "metadata": {
        "id": "JLRmSoSSTsiP"
      },
      "source": [
        "# Converting the text column into numpy array for both the train and test datasets"
      ]
    },
    {
      "cell_type": "code",
      "execution_count": 5,
      "metadata": {
        "colab": {
          "base_uri": "https://localhost:8080/"
        },
        "id": "SrKwS_zEPHeN",
        "outputId": "dcb491dd-e1ff-4fa1-c303-7af4f5c89c50"
      },
      "outputs": [
        {
          "output_type": "stream",
          "name": "stdout",
          "text": [
            "['كله بيشبه كله مين بدو يحاكم مين ما في الا؟سلطة الشعب '\n",
            " 'RT @USER العناق😯<LF>ان تاتي بعطر<LF>وترحل بعطرين<LF><LF>_مدري ايش قصدهم<LF>بس شكلها تخفيضات😷😂'\n",
            " '@USER برا من غير مطرود من رابطة الكتلان الأبيّة 🔪' ...\n",
            " 'شر البلية ما يضخك في كل يوم تتدحرجين إلى قعر الهزل من السياسة وضبابية الرؤية'\n",
            " '@USER كله إلا الشرف . البندقه ياهريدي😠' '@USER ربنا معاكي 👊']\n",
            "\n",
            "['الله يلعنكم (الكومنت) عقبال ماتتسممون وتحترقون واتطيحون فحفرة مخلفات كيماوية وتصيحون ليل ونهار بدون مخدر يعلكم تتبهدلون طول حياتكم الزق الارف مسودين الويه اااالللهفغخغبغخفهزناهااالللبهغهفيهفخغخخغبخغبغخ 🔪🔪🔪🔪🔪🔪🔪🔪🔪🔪🔪🔪🔪🔪🔪🔪🔪🔪🔪🔪🔪🔪🔪 URL'\n",
            " 'برب بروح لسجني الخاص🔪🚶🏻\\u200d♀️'\n",
            " 'ولعها ولع ولع وأعطيني شحطة العقاب لوهاب وهاب قاتل ابو دياب ' ...\n",
            " 'يعني هو عندو بنتين محبوسات بقصر مدري وين و بنت محجوزة ب مشفى معرف وين و بنت تشتغل موديل و عندها معرض فن تشكيلي مدري ايش؟ وات ذا هيل؟'\n",
            " 'كمبيوتر المدرسة وطابعتها تقصر العمر 😤'\n",
            " '@USER يمال شقول وين راحت سوالفكم الشكل مايهم اهم شي الاخلاق 🔪😡']\n",
            "\n",
            "['اخلصي علينا يا فاطمه مب صاحي ساعه فحوصات☺️🖕🏻 URL'\n",
            " '@USER عيش ياااابطال 👊👍💪☝<LF>كلها 4/1 وهكون من الأبطال <LF>اقول اية علينا دولت اقول اية..'\n",
            " 'وحتى ينال المواطن حقه دون منة من أحد ' ...\n",
            " '#اختاه_موتي <LF>😂😂😂😂😂<LF>يلاه تمسين على خير <LF>تربية نعال 👎🏼 URL'\n",
            " '@USER طالما عارف كده أترشحت ليه يا.....👊🏻👊🏻👊🏻'\n",
            " '@user @user @user الحريم هم اللي يتوزون ورا التركي والايراني عشان يحمون نفسهم']\n"
          ]
        }
      ],
      "source": [
        "trainCorpus = X_train['text'].values\n",
        "testCorpus = X_test['text'].values\n",
        "valCorpus = X_val['text'].values\n",
        "print(trainCorpus)\n",
        "print()\n",
        "print(testCorpus)\n",
        "print()\n",
        "print(valCorpus)"
      ]
    },
    {
      "cell_type": "markdown",
      "metadata": {
        "id": "UFq9n-IsXNuZ"
      },
      "source": [
        "# Cleaning and then tokenizing using wordpunct_tokenize from nltk because FastText excpects the input to be tokens"
      ]
    },
    {
      "cell_type": "code",
      "execution_count": 6,
      "metadata": {
        "colab": {
          "base_uri": "https://localhost:8080/"
        },
        "id": "_O2_xblWXKtw",
        "outputId": "3190928e-49f4-4d09-8c60-f343e129d40b"
      },
      "outputs": [
        {
          "output_type": "stream",
          "name": "stdout",
          "text": [
            "[list(['كله', 'بيشبه', 'كله', 'مين', 'بدو', 'يحاكم', 'مين', 'الاسلطة', 'الشعب'])\n",
            " list(['العناق', 'ان', 'تاتي', 'بعطر', 'وترحل', 'بعطرين', 'مدري', 'ايش', 'قسدهم', 'بس', 'شكلها', 'تخفيضات', 'معسبمعسب', 'ضحكضحك'])\n",
            " list(['برا', 'مطرود', 'رابطة', 'الكتلان', 'الابي', 'ة', 'عنفعنف']) ...\n",
            " list(['شر', 'البلية', 'يضخك', 'يوم', 'تدحرجين', 'قعر', 'الهزل', 'السياسة', 'وضبابية', 'الرؤية'])\n",
            " list(['كله', 'الشرف', 'البندقه', 'ياهريدي', 'معسبمعسب'])\n",
            " list(['ربنا', 'معاكي', 'عنفعنف'])]\n",
            "\n",
            "[list(['اله', 'يلعنكم', 'الكومنت', 'عقبال', 'ماتسمون', 'وتحترقون', 'واتطيحون', 'فحفرة', 'مخلفات', 'كيماوية', 'وتسيحون', 'ليل', 'ونهار', 'بدون', 'مخدر', 'يعلكم', 'تبهدلون', 'طول', 'حياتكم', 'الزق', 'الارف', 'مسودين', 'الويه', 'الهفغخغبغخفهزناهالبهغهفيهفخغخغبخغبغخ', 'عنفعنف', 'عنفعنف', 'عنفعنف', 'عنفعنف', 'عنفعنف', 'عنفعنف', 'عنفعنف', 'عنفعنف', 'عنفعنف', 'عنفعنف', 'عنفعنف', 'عنفعنف', 'عنفعنف', 'عنفعنف', 'عنفعنف', 'عنفعنف', 'عنفعنف', 'عنفعنف', 'عنفعنف', 'عنفعنف', 'عنفعنف', 'عنفعنف', 'عنفعنف'])\n",
            " list(['برب', 'بروح', 'لسجني', 'الخاس', 'عنفعنف', 'عنفعنف', 'حبحب'])\n",
            " list(['ولعها', 'ولع', 'ولع', 'واعطيني', 'شحطة', 'العقاب', 'لوهاب', 'وهاب', 'قاتل', 'ابو', 'دياب'])\n",
            " ...\n",
            " list(['يعني', 'عندو', 'بنتين', 'محبوسات', 'بقسر', 'مدري', 'وين', 'بنت', 'محجوزة', 'مشفا', 'معرف', 'وين', 'بنت', 'تشتغل', 'موديل', 'عندها', 'معرض', 'فن', 'تشكيلي', 'مدري', 'ايش', 'وات', 'هيل'])\n",
            " list(['كمبيوتر', 'المدرسة', 'وطابعتها', 'تقسر', 'العمر', 'معسبمعسب'])\n",
            " list(['يمال', 'شقول', 'وين', 'راحت', 'سوالفكم', 'الشكل', 'مايهم', 'اهم', 'شي', 'الاخلاق', 'عنفعنف', 'معسبمعسب'])]\n",
            "\n",
            "[list(['اخلسي', 'علينا', 'فاطمه', 'مب', 'ساحي', 'ساعه', 'فحوسات', 'حبحب', 'الوسطاالوسطا', 'عنفعنف'])\n",
            " list(['عيش', 'يابطال', 'عنفعنف', 'كلها', 'وهكون', 'الابطال', 'اقول', 'اية', 'علينا', 'دولت', 'اقول', 'اية'])\n",
            " list(['وحتا', 'ينال', 'المواطن', 'حقه', 'منة']) ...\n",
            " list(['ضحكضحك', 'ضحكضحك', 'ضحكضحك', 'ضحكضحك', 'ضحكضحك', 'يلاه', 'تمسين', 'خير', 'تربية', 'نعال', 'عدماعجابعدماعجاب', 'عنفعنف'])\n",
            " list(['عارف', 'كده', 'اترشحت', 'ليه', 'عنفعنف', 'عنفعنف', 'عنفعنف', 'عنفعنف', 'عنفعنف', 'عنفعنف'])\n",
            " list(['الحريم', 'الي', 'يتوزون', 'ورا', 'التركي', 'والايراني', 'عشان', 'يحمون', 'نفسهم'])]\n",
            "\n",
            "Max_seq = 3879\n",
            "vocab size = 52584\n"
          ]
        }
      ],
      "source": [
        "max_seq = -1\n",
        "vocab = set()\n",
        "for i in range(len(trainCorpus)):\n",
        "  trainCorpus[i] = c1.clean_text(trainCorpus[i])\n",
        "  trainCorpus[i] = wordpunct_tokenize(trainCorpus[i])\n",
        "  if len(trainCorpus[i]) > max_seq:\n",
        "    max_seq = len(trainCorpus[i])\n",
        "\n",
        "for list1 in trainCorpus:\n",
        "  for token in list1:\n",
        "    vocab.add(token)\n",
        "\n",
        "for i in range(len(testCorpus)):\n",
        "  testCorpus[i] = c1.clean_text(testCorpus[i])\n",
        "  testCorpus[i] = wordpunct_tokenize(testCorpus[i])\n",
        "  if len(testCorpus[i]) > max_seq:\n",
        "    max_seq = len(testCorpus[i])\n",
        "\n",
        "for list1 in testCorpus:\n",
        "  for token in list1:\n",
        "    vocab.add(token)\n",
        "\n",
        "for i in range(len(valCorpus)):\n",
        "  valCorpus[i] = c1.clean_text(valCorpus[i])\n",
        "  valCorpus[i] = wordpunct_tokenize(valCorpus[i])\n",
        "  if len(valCorpus[i]) > max_seq:\n",
        "    max_seq = len(valCorpus[i])\n",
        "\n",
        "for list1 in valCorpus:\n",
        "  for token in list1:\n",
        "    vocab.add(token)\n",
        "\n",
        "print(trainCorpus)\n",
        "print()\n",
        "print(testCorpus)\n",
        "print()\n",
        "print(valCorpus)\n",
        "print()\n",
        "print('Max_seq =', max_seq)\n",
        "print('vocab size =', len(vocab))"
      ]
    },
    {
      "cell_type": "markdown",
      "metadata": {
        "id": "i0GE7FdTUA9Y"
      },
      "source": [
        "# Training FastText. Vector size is 20, moving window size is 5, minimum count of a word to be taken is 1, which means all the words in the corpus will be taken\n",
        "# sg=0 means to choose CBOW (Skip-gram = False)"
      ]
    },
    {
      "cell_type": "code",
      "execution_count": 7,
      "metadata": {
        "id": "sz8GVFe_OXlV"
      },
      "outputs": [],
      "source": [
        "FastText_model = FastText(sentences=trainCorpus, vector_size=300, window=2, min_count=1, sg=0)"
      ]
    },
    {
      "cell_type": "code",
      "source": [
        "FastText_model.build_vocab(trainCorpus)"
      ],
      "metadata": {
        "colab": {
          "base_uri": "https://localhost:8080/"
        },
        "id": "M9R6lfo3sFQW",
        "outputId": "d6d78470-3494-40c5-fc04-2e6f02056de1"
      },
      "execution_count": 8,
      "outputs": [
        {
          "output_type": "stream",
          "name": "stderr",
          "text": [
            "WARNING:gensim.models.keyedvectors:sorting after vectors have been allocated is expensive & error-prone\n"
          ]
        }
      ]
    },
    {
      "cell_type": "code",
      "source": [
        "FastText_model.train(trainCorpus, total_examples=FastText_model.corpus_count, epochs=30)"
      ],
      "metadata": {
        "colab": {
          "base_uri": "https://localhost:8080/"
        },
        "id": "LZAigYEasqwE",
        "outputId": "e07204a0-a53d-4843-b2b2-36ac137c9a68"
      },
      "execution_count": 9,
      "outputs": [
        {
          "output_type": "stream",
          "name": "stderr",
          "text": [
            "WARNING:gensim.models.word2vec:Effective 'alpha' higher than previous training cycles\n"
          ]
        },
        {
          "output_type": "execute_result",
          "data": {
            "text/plain": [
              "(2925855, 3326220)"
            ]
          },
          "metadata": {},
          "execution_count": 9
        }
      ]
    },
    {
      "cell_type": "code",
      "source": [
        "FastText_model.wv.most_similar('يلعن')"
      ],
      "metadata": {
        "colab": {
          "base_uri": "https://localhost:8080/"
        },
        "id": "DS8fkoBEs-XV",
        "outputId": "5fd988e3-1d3e-46c6-ee97-d58109e7ce64"
      },
      "execution_count": 10,
      "outputs": [
        {
          "output_type": "execute_result",
          "data": {
            "text/plain": [
              "[('يلعنم', 0.9942151308059692),\n",
              " ('يلعنكن', 0.9891696572303772),\n",
              " ('يلعنك', 0.9865669012069702),\n",
              " ('لعن', 0.9831696152687073),\n",
              " ('لعنك', 0.9626113772392273),\n",
              " ('يلعنمه', 0.9609421491622925),\n",
              " ('يرحم', 0.960375189781189),\n",
              " ('رحم', 0.9586336016654968),\n",
              " ('يحفضه', 0.9567623734474182),\n",
              " ('يلعنكم', 0.955888032913208)]"
            ]
          },
          "metadata": {},
          "execution_count": 10
        }
      ]
    },
    {
      "cell_type": "code",
      "source": [
        "FastText_model.wv.most_similar('قتل')"
      ],
      "metadata": {
        "colab": {
          "base_uri": "https://localhost:8080/"
        },
        "id": "6MMljpvU2E9Y",
        "outputId": "edfabad9-65e2-49ca-c944-560b0a4eaba3"
      },
      "execution_count": 11,
      "outputs": [
        {
          "output_type": "execute_result",
          "data": {
            "text/plain": [
              "[('هقتل', 0.9966872930526733),\n",
              " ('بياية', 0.9941959381103516),\n",
              " ('مسيحية', 0.9928918480873108),\n",
              " ('بوفية', 0.9928337931632996),\n",
              " ('سيرة', 0.992598831653595),\n",
              " ('ثورة', 0.9913656711578369),\n",
              " ('ضروريا', 0.9906452894210815),\n",
              " ('بمقتل', 0.9904462695121765),\n",
              " ('لقتل', 0.9902122616767883),\n",
              " ('كلية', 0.990082323551178)]"
            ]
          },
          "metadata": {},
          "execution_count": 11
        }
      ]
    },
    {
      "cell_type": "code",
      "source": [
        "FastText_model.wv.most_similar('وسخ')"
      ],
      "metadata": {
        "colab": {
          "base_uri": "https://localhost:8080/"
        },
        "id": "LtN1R9qw6pIr",
        "outputId": "323860d6-903a-4482-8106-a1c95c6e8dc7"
      },
      "execution_count": 19,
      "outputs": [
        {
          "output_type": "execute_result",
          "data": {
            "text/plain": [
              "[('وسخة', 0.9740120768547058),\n",
              " ('وسهلا', 0.9726600646972656),\n",
              " ('لابن', 0.9725161790847778),\n",
              " ('بلادها', 0.9683541059494019),\n",
              " ('وسذج', 0.9668481945991516),\n",
              " ('وفعلا', 0.9656927585601807),\n",
              " ('ولادن', 0.9641855955123901),\n",
              " ('وسال', 0.9633702039718628),\n",
              " ('فاس', 0.9625791311264038),\n",
              " ('ولااو', 0.9621647596359253)]"
            ]
          },
          "metadata": {},
          "execution_count": 19
        }
      ]
    },
    {
      "cell_type": "code",
      "source": [
        "FastText_model.wv.most_similar('قاتل')"
      ],
      "metadata": {
        "colab": {
          "base_uri": "https://localhost:8080/"
        },
        "id": "nDkEaQ4V2Qo1",
        "outputId": "1a022a3d-fb8f-4cd9-a9f6-ac6dadfbf5c0"
      },
      "execution_count": 20,
      "outputs": [
        {
          "output_type": "execute_result",
          "data": {
            "text/plain": [
              "[('قااد', 0.9831037521362305),\n",
              " ('قاهرة', 0.98190838098526),\n",
              " ('يحكو', 0.9783686995506287),\n",
              " ('بيقاتل', 0.9760727286338806),\n",
              " ('بينطر', 0.9760434627532959),\n",
              " ('بوجود', 0.9759060144424438),\n",
              " ('بيحكوا', 0.9753230810165405),\n",
              " ('تقاتل', 0.9751132726669312),\n",
              " ('قابضة', 0.9744106531143188),\n",
              " ('قاتلة', 0.9735556244850159)]"
            ]
          },
          "metadata": {},
          "execution_count": 20
        }
      ]
    },
    {
      "cell_type": "code",
      "source": [],
      "metadata": {
        "id": "e4tOjBkC6sDW"
      },
      "execution_count": null,
      "outputs": []
    },
    {
      "cell_type": "markdown",
      "metadata": {
        "id": "f5Zg2idNgBy-"
      },
      "source": [
        "# We used summation of FastText representation to make each sentence into one vector"
      ]
    },
    {
      "cell_type": "code",
      "execution_count": 13,
      "metadata": {
        "id": "dSElOimOa_54"
      },
      "outputs": [],
      "source": [
        "def vector_maker(data):\n",
        "  OneTokenEmbedding = np.zeros(300)\n",
        "  vectors = []\n",
        "  for sentence in data:\n",
        "    for token in sentence:\n",
        "      if token in FastText_model.wv.index_to_key:\n",
        "        OneTokenEmbedding += FastText_model.wv[token]\n",
        "    vectors.append(OneTokenEmbedding)\n",
        "  return vectors\n",
        "\n",
        "X_train = vector_maker(trainCorpus)\n",
        "y_train = y_train.label.values\n",
        "\n",
        "X_val = vector_maker(valCorpus)\n",
        "y_val = y_val.label.values\n",
        "\n",
        "X_test = vector_maker(testCorpus)\n",
        "y_test = y_test.label.values"
      ]
    },
    {
      "cell_type": "code",
      "execution_count": 15,
      "metadata": {
        "colab": {
          "base_uri": "https://localhost:8080/"
        },
        "id": "_rLtzVPOixJq",
        "outputId": "b0125103-0a7a-4fbe-d4ce-8d0088abc67f"
      },
      "outputs": [
        {
          "output_type": "stream",
          "name": "stdout",
          "text": [
            "9756 9756\n",
            "4647 4647\n",
            "4182 4182\n"
          ]
        }
      ],
      "source": [
        "print(len(X_train), len(y_train))\n",
        "print(len(X_test), len(y_test))\n",
        "print(len(X_val), len(y_val))"
      ]
    },
    {
      "cell_type": "markdown",
      "metadata": {
        "id": "S3iYLCVAUPW4"
      },
      "source": [
        "# Training ML models"
      ]
    },
    {
      "cell_type": "code",
      "source": [
        "model1 = SVC(kernel='rbf', gamma=10, C=1)\n",
        "model1.fit(X_train, y_train)"
      ],
      "metadata": {
        "colab": {
          "base_uri": "https://localhost:8080/",
          "height": 74
        },
        "id": "2mnORhmUygbq",
        "outputId": "173857cc-31bf-4c0d-abe1-3a0129899bac"
      },
      "execution_count": 16,
      "outputs": [
        {
          "output_type": "execute_result",
          "data": {
            "text/plain": [
              "SVC(C=1, gamma=10)"
            ],
            "text/html": [
              "<style>#sk-container-id-1 {color: black;background-color: white;}#sk-container-id-1 pre{padding: 0;}#sk-container-id-1 div.sk-toggleable {background-color: white;}#sk-container-id-1 label.sk-toggleable__label {cursor: pointer;display: block;width: 100%;margin-bottom: 0;padding: 0.3em;box-sizing: border-box;text-align: center;}#sk-container-id-1 label.sk-toggleable__label-arrow:before {content: \"▸\";float: left;margin-right: 0.25em;color: #696969;}#sk-container-id-1 label.sk-toggleable__label-arrow:hover:before {color: black;}#sk-container-id-1 div.sk-estimator:hover label.sk-toggleable__label-arrow:before {color: black;}#sk-container-id-1 div.sk-toggleable__content {max-height: 0;max-width: 0;overflow: hidden;text-align: left;background-color: #f0f8ff;}#sk-container-id-1 div.sk-toggleable__content pre {margin: 0.2em;color: black;border-radius: 0.25em;background-color: #f0f8ff;}#sk-container-id-1 input.sk-toggleable__control:checked~div.sk-toggleable__content {max-height: 200px;max-width: 100%;overflow: auto;}#sk-container-id-1 input.sk-toggleable__control:checked~label.sk-toggleable__label-arrow:before {content: \"▾\";}#sk-container-id-1 div.sk-estimator input.sk-toggleable__control:checked~label.sk-toggleable__label {background-color: #d4ebff;}#sk-container-id-1 div.sk-label input.sk-toggleable__control:checked~label.sk-toggleable__label {background-color: #d4ebff;}#sk-container-id-1 input.sk-hidden--visually {border: 0;clip: rect(1px 1px 1px 1px);clip: rect(1px, 1px, 1px, 1px);height: 1px;margin: -1px;overflow: hidden;padding: 0;position: absolute;width: 1px;}#sk-container-id-1 div.sk-estimator {font-family: monospace;background-color: #f0f8ff;border: 1px dotted black;border-radius: 0.25em;box-sizing: border-box;margin-bottom: 0.5em;}#sk-container-id-1 div.sk-estimator:hover {background-color: #d4ebff;}#sk-container-id-1 div.sk-parallel-item::after {content: \"\";width: 100%;border-bottom: 1px solid gray;flex-grow: 1;}#sk-container-id-1 div.sk-label:hover label.sk-toggleable__label {background-color: #d4ebff;}#sk-container-id-1 div.sk-serial::before {content: \"\";position: absolute;border-left: 1px solid gray;box-sizing: border-box;top: 0;bottom: 0;left: 50%;z-index: 0;}#sk-container-id-1 div.sk-serial {display: flex;flex-direction: column;align-items: center;background-color: white;padding-right: 0.2em;padding-left: 0.2em;position: relative;}#sk-container-id-1 div.sk-item {position: relative;z-index: 1;}#sk-container-id-1 div.sk-parallel {display: flex;align-items: stretch;justify-content: center;background-color: white;position: relative;}#sk-container-id-1 div.sk-item::before, #sk-container-id-1 div.sk-parallel-item::before {content: \"\";position: absolute;border-left: 1px solid gray;box-sizing: border-box;top: 0;bottom: 0;left: 50%;z-index: -1;}#sk-container-id-1 div.sk-parallel-item {display: flex;flex-direction: column;z-index: 1;position: relative;background-color: white;}#sk-container-id-1 div.sk-parallel-item:first-child::after {align-self: flex-end;width: 50%;}#sk-container-id-1 div.sk-parallel-item:last-child::after {align-self: flex-start;width: 50%;}#sk-container-id-1 div.sk-parallel-item:only-child::after {width: 0;}#sk-container-id-1 div.sk-dashed-wrapped {border: 1px dashed gray;margin: 0 0.4em 0.5em 0.4em;box-sizing: border-box;padding-bottom: 0.4em;background-color: white;}#sk-container-id-1 div.sk-label label {font-family: monospace;font-weight: bold;display: inline-block;line-height: 1.2em;}#sk-container-id-1 div.sk-label-container {text-align: center;}#sk-container-id-1 div.sk-container {/* jupyter's `normalize.less` sets `[hidden] { display: none; }` but bootstrap.min.css set `[hidden] { display: none !important; }` so we also need the `!important` here to be able to override the default hidden behavior on the sphinx rendered scikit-learn.org. See: https://github.com/scikit-learn/scikit-learn/issues/21755 */display: inline-block !important;position: relative;}#sk-container-id-1 div.sk-text-repr-fallback {display: none;}</style><div id=\"sk-container-id-1\" class=\"sk-top-container\"><div class=\"sk-text-repr-fallback\"><pre>SVC(C=1, gamma=10)</pre><b>In a Jupyter environment, please rerun this cell to show the HTML representation or trust the notebook. <br />On GitHub, the HTML representation is unable to render, please try loading this page with nbviewer.org.</b></div><div class=\"sk-container\" hidden><div class=\"sk-item\"><div class=\"sk-estimator sk-toggleable\"><input class=\"sk-toggleable__control sk-hidden--visually\" id=\"sk-estimator-id-1\" type=\"checkbox\" checked><label for=\"sk-estimator-id-1\" class=\"sk-toggleable__label sk-toggleable__label-arrow\">SVC</label><div class=\"sk-toggleable__content\"><pre>SVC(C=1, gamma=10)</pre></div></div></div></div></div>"
            ]
          },
          "metadata": {},
          "execution_count": 16
        }
      ]
    },
    {
      "cell_type": "markdown",
      "metadata": {
        "id": "QVTZu7nvUYYM"
      },
      "source": [
        "# Evaluating the models"
      ]
    },
    {
      "cell_type": "code",
      "execution_count": 17,
      "metadata": {
        "colab": {
          "base_uri": "https://localhost:8080/",
          "height": 1000
        },
        "id": "pwGK9Tz4SEFl",
        "outputId": "8e059c50-5832-4ae9-9bf2-883787101c57"
      },
      "outputs": [
        {
          "output_type": "stream",
          "name": "stdout",
          "text": [
            "AUC = 0.5\n",
            "Recall = 0.0000\n",
            "Precision = 0.0000\n",
            "F1_score = 0.0000\n",
            "Accuracy = 0.7956\n"
          ]
        },
        {
          "output_type": "display_data",
          "data": {
            "text/plain": [
              "<Figure size 640x480 with 2 Axes>"
            ],
            "image/png": "[encoded data removed]"
          },
          "metadata": {}
        },
        {
          "output_type": "stream",
          "name": "stdout",
          "text": [
            "AUC = 0.5\n",
            "Recall = 0.0000\n",
            "Precision = 0.0000\n",
            "F1_score = 0.0000\n",
            "Accuracy = 0.7900\n"
          ]
        },
        {
          "output_type": "display_data",
          "data": {
            "text/plain": [
              "<Figure size 640x480 with 2 Axes>"
            ],
            "image/png": "[encoded data removed]"
          },
          "metadata": {}
        }
      ],
      "source": [
        "y_pred = model1.predict(X_val)\n",
        "fpr, tpr, thresholds = metrics.roc_curve(y_val, y_pred)\n",
        "print('AUC =', auc(fpr, tpr))\n",
        "print(f'Recall = {recall_score(y_val, y_pred):0.4f}')\n",
        "print(f'Precision = {precision_score(y_val, y_pred):0.4f}')\n",
        "print(f'F1_score = {f1_score(y_val, y_pred):0.4f}')\n",
        "print(f'Accuracy = {accuracy_score(y_val, y_pred):0.4f}')\n",
        "\n",
        "cf_matrix = confusion_matrix(y_val, y_pred)\n",
        "group_names = ['True Neg','False Pos','False Neg','True Pos']\n",
        "group_counts = ['{0:0.0f}'.format(value) for value in\n",
        "                cf_matrix.flatten()]\n",
        "group_percentages = ['{0:.2%}'.format(value) for value in\n",
        "                      cf_matrix.flatten()/np.sum(cf_matrix)]\n",
        "labels = [f'{v1}\\n{v2}\\n{v3}' for v1, v2, v3 in\n",
        "          zip(group_names,group_counts,group_percentages)]\n",
        "labels = np.asarray(labels).reshape(2,2)\n",
        "sns.heatmap(cf_matrix, annot=labels, fmt='', cmap='Blues')\n",
        "plt.show()\n",
        "\n",
        "\n",
        "y_pred = model1.predict(X_test)\n",
        "fpr, tpr, thresholds = metrics.roc_curve(y_test, y_pred)\n",
        "print('AUC =', auc(fpr, tpr))\n",
        "print(f'Recall = {recall_score(y_test, y_pred):0.4f}')\n",
        "print(f'Precision = {precision_score(y_test, y_pred):0.4f}')\n",
        "print(f'F1_score = {f1_score(y_test, y_pred):0.4f}')\n",
        "print(f'Accuracy = {accuracy_score(y_test, y_pred):0.4f}')\n",
        "\n",
        "cf_matrix = confusion_matrix(y_test, y_pred)\n",
        "group_names = ['True Neg','False Pos','False Neg','True Pos']\n",
        "group_counts = ['{0:0.0f}'.format(value) for value in\n",
        "                cf_matrix.flatten()]\n",
        "group_percentages = ['{0:.2%}'.format(value) for value in\n",
        "                      cf_matrix.flatten()/np.sum(cf_matrix)]\n",
        "labels = [f'{v1}\\n{v2}\\n{v3}' for v1, v2, v3 in\n",
        "          zip(group_names,group_counts,group_percentages)]\n",
        "labels = np.asarray(labels).reshape(2,2)\n",
        "sns.heatmap(cf_matrix, annot=labels, fmt='', cmap='Blues')\n",
        "plt.show()"
      ]
    },
    {
      "cell_type": "code",
      "source": [
        "unique, counts = np.unique(y_train, return_counts=True)\n",
        "unique"
      ],
      "metadata": {
        "colab": {
          "base_uri": "https://localhost:8080/"
        },
        "id": "0T8ZYwgIytdp",
        "outputId": "ec828c94-9de8-426c-cd8c-1f03fbcb776e"
      },
      "execution_count": 18,
      "outputs": [
        {
          "output_type": "execute_result",
          "data": {
            "text/plain": [
              "array([0, 1])"
            ]
          },
          "metadata": {},
          "execution_count": 18
        }
      ]
    },
    {
      "cell_type": "code",
      "execution_count": 18,
      "metadata": {
        "id": "FS_K1VIAkoAQ"
      },
      "outputs": [],
      "source": []
    }
  ],
  "metadata": {
    "colab": {
      "provenance": [],
      "machine_shape": "hm",
      "gpuType": "T4"
    },
    "kernelspec": {
      "display_name": "Python 3",
      "name": "python3"
    },
    "language_info": {
      "codemirror_mode": {
        "name": "ipython",
        "version": 3
      },
      "file_extension": ".py",
      "mimetype": "text/x-python",
      "name": "python",
      "nbconvert_exporter": "python",
      "pygments_lexer": "ipython3",
      "version": "3.8.8"
    },
    "accelerator": "GPU"
  },
  "nbformat": 4,
  "nbformat_minor": 0
}