{
  "cells": [
    {
      "cell_type": "code",
      "execution_count": 71,
      "id": "molecular-malawi",
      "metadata": {
        "_cell_guid": "b1076dfc-b9ad-4769-8c92-a6c4dae69d19",
        "_uuid": "8f2839f25d086af736a60e9eeb907d3b93b6e0e5",
        "execution": {
          "iopub.execute_input": "2021-06-12T09:56:06.201077Z",
          "iopub.status.busy": "2021-06-12T09:56:06.199718Z",
          "iopub.status.idle": "2021-06-12T09:56:06.202843Z",
          "shell.execute_reply": "2021-06-12T09:56:06.202342Z"
        },
        "papermill": {
          "duration": 0.075,
          "end_time": "2021-06-12T09:56:06.202977",
          "exception": false,
          "start_time": "2021-06-12T09:56:06.127977",
          "status": "completed"
        },
        "tags": [],
        "id": "molecular-malawi"
      },
      "outputs": [],
      "source": [
        "import os\n",
        "import re\n",
        "from tqdm import tqdm\n",
        "import numpy as np\n",
        "import pandas as pd\n",
        "import matplotlib.pyplot as plt\n",
        "import csv\n",
        "\n",
        "%matplotlib inline"
      ]
    },
    {
      "cell_type": "code",
      "execution_count": 72,
      "id": "royal-premises",
      "metadata": {
        "execution": {
          "iopub.execute_input": "2021-06-12T10:01:14.389592Z",
          "iopub.status.busy": "2021-06-12T10:01:14.389061Z",
          "iopub.status.idle": "2021-06-12T10:01:15.643084Z",
          "shell.execute_reply": "2021-06-12T10:01:15.643914Z"
        },
        "papermill": {
          "duration": 1.323788,
          "end_time": "2021-06-12T10:01:15.644112",
          "exception": false,
          "start_time": "2021-06-12T10:01:14.320324",
          "status": "completed"
        },
        "tags": [],
        "id": "royal-premises"
      },
      "outputs": [],
      "source": [
        "import torch\n",
        "device = torch.device(\"cpu\")"
      ]
    },
    {
      "cell_type": "code",
      "source": [
        "!pip install transformers"
      ],
      "metadata": {
        "colab": {
          "base_uri": "https://localhost:8080/"
        },
        "id": "7cAphhHouDb_",
        "outputId": "836af366-58da-43a7-b75e-9797793aab31"
      },
      "id": "7cAphhHouDb_",
      "execution_count": 73,
      "outputs": [
        {
          "output_type": "stream",
          "name": "stdout",
          "text": [
            "Looking in indexes: https://pypi.org/simple, https://us-python.pkg.dev/colab-wheels/public/simple/\n",
            "Requirement already satisfied: transformers in /usr/local/lib/python3.9/dist-packages (4.27.3)\n",
            "Requirement already satisfied: pyyaml>=5.1 in /usr/local/lib/python3.9/dist-packages (from transformers) (6.0)\n",
            "Requirement already satisfied: huggingface-hub<1.0,>=0.11.0 in /usr/local/lib/python3.9/dist-packages (from transformers) (0.13.3)\n",
            "Requirement already satisfied: filelock in /usr/local/lib/python3.9/dist-packages (from transformers) (3.10.2)\n",
            "Requirement already satisfied: requests in /usr/local/lib/python3.9/dist-packages (from transformers) (2.27.1)\n",
            "Requirement already satisfied: regex!=2019.12.17 in /usr/local/lib/python3.9/dist-packages (from transformers) (2022.10.31)\n",
            "Requirement already satisfied: tqdm>=4.27 in /usr/local/lib/python3.9/dist-packages (from transformers) (4.65.0)\n",
            "Requirement already satisfied: numpy>=1.17 in /usr/local/lib/python3.9/dist-packages (from transformers) (1.22.4)\n",
            "Requirement already satisfied: tokenizers!=0.11.3,<0.14,>=0.11.1 in /usr/local/lib/python3.9/dist-packages (from transformers) (0.13.2)\n",
            "Requirement already satisfied: packaging>=20.0 in /usr/local/lib/python3.9/dist-packages (from transformers) (23.0)\n",
            "Requirement already satisfied: typing-extensions>=3.7.4.3 in /usr/local/lib/python3.9/dist-packages (from huggingface-hub<1.0,>=0.11.0->transformers) (4.5.0)\n",
            "Requirement already satisfied: certifi>=2017.4.17 in /usr/local/lib/python3.9/dist-packages (from requests->transformers) (2022.12.7)\n",
            "Requirement already satisfied: urllib3<1.27,>=1.21.1 in /usr/local/lib/python3.9/dist-packages (from requests->transformers) (1.26.15)\n",
            "Requirement already satisfied: charset-normalizer~=2.0.0 in /usr/local/lib/python3.9/dist-packages (from requests->transformers) (2.0.12)\n",
            "Requirement already satisfied: idna<4,>=2.5 in /usr/local/lib/python3.9/dist-packages (from requests->transformers) (3.4)\n"
          ]
        }
      ]
    },
    {
      "cell_type": "code",
      "execution_count": 74,
      "id": "cardiovascular-direction",
      "metadata": {
        "execution": {
          "iopub.execute_input": "2021-06-12T10:01:15.781069Z",
          "iopub.status.busy": "2021-06-12T10:01:15.780402Z",
          "iopub.status.idle": "2021-06-12T10:01:16.428113Z",
          "shell.execute_reply": "2021-06-12T10:01:16.427440Z"
        },
        "papermill": {
          "duration": 0.71763,
          "end_time": "2021-06-12T10:01:16.428248",
          "exception": false,
          "start_time": "2021-06-12T10:01:15.710618",
          "status": "completed"
        },
        "tags": [],
        "id": "cardiovascular-direction"
      },
      "outputs": [],
      "source": [
        "from transformers import AutoTokenizer, AutoModel"
      ]
    },
    {
      "cell_type": "code",
      "execution_count": 75,
      "id": "valuable-tomato",
      "metadata": {
        "execution": {
          "iopub.execute_input": "2021-06-12T10:01:16.857649Z",
          "iopub.status.busy": "2021-06-12T10:01:16.856746Z",
          "iopub.status.idle": "2021-06-12T10:01:18.134513Z",
          "shell.execute_reply": "2021-06-12T10:01:18.134084Z"
        },
        "papermill": {
          "duration": 1.39331,
          "end_time": "2021-06-12T10:01:18.134658",
          "exception": false,
          "start_time": "2021-06-12T10:01:16.741348",
          "status": "completed"
        },
        "tags": [],
        "id": "valuable-tomato"
      },
      "outputs": [],
      "source": [
        "tokenizer = AutoTokenizer.from_pretrained(\"asafaya/bert-mini-arabic\")"
      ]
    },
    {
      "cell_type": "markdown",
      "id": "spare-singapore",
      "metadata": {
        "papermill": {
          "duration": 0.066995,
          "end_time": "2021-06-12T10:01:18.269322",
          "exception": false,
          "start_time": "2021-06-12T10:01:18.202327",
          "status": "completed"
        },
        "tags": [],
        "id": "spare-singapore"
      },
      "source": [
        "<a id=\"2.1.1\"> </a>\n",
        "##### Preprocessing"
      ]
    },
    {
      "cell_type": "code",
      "execution_count": 76,
      "id": "better-taste",
      "metadata": {
        "execution": {
          "iopub.execute_input": "2021-06-12T10:01:18.408836Z",
          "iopub.status.busy": "2021-06-12T10:01:18.408062Z",
          "iopub.status.idle": "2021-06-12T10:01:18.410678Z",
          "shell.execute_reply": "2021-06-12T10:01:18.410266Z"
        },
        "papermill": {
          "duration": 0.074711,
          "end_time": "2021-06-12T10:01:18.410795",
          "exception": false,
          "start_time": "2021-06-12T10:01:18.336084",
          "status": "completed"
        },
        "tags": [],
        "id": "better-taste"
      },
      "outputs": [],
      "source": [
        "# Define preprocessing util function\n",
        "def text_preprocessing(text):\n",
        "    \"\"\"\n",
        "    - Remove entity mentions (eg. '@united')\n",
        "    - Correct errors (eg. '&amp;' to '&')\n",
        "    @param    text (str): a string to be processed.\n",
        "    @return   text (Str): the processed string.\n",
        "    \"\"\"\n",
        "  \n",
        "\n",
        "    # Normalize unicode encoding\n",
        "    text = unicodedata.normalize('NFC', text)\n",
        "    # Remove '@name'\n",
        "    text = re.sub(r'(@.*?)[\\s]', ' ', text)\n",
        "\n",
        "    # Replace '&amp;' with '&'\n",
        "    text = re.sub(r'&amp;', '&', text)\n",
        "\n",
        "    # Remove trailing whitespace\n",
        "    text = re.sub(r'\\s+', ' ', text).strip()\n",
        "    \n",
        "    #Remove URLs\n",
        "    text = re.sub(r'^https?:\\/\\/.*[\\r\\n]*', '<URL>', text)\n",
        "\n",
        "\n",
        "    return text"
      ]
    },
    {
      "cell_type": "code",
      "source": [
        "!pip install emoji"
      ],
      "metadata": {
        "colab": {
          "base_uri": "https://localhost:8080/"
        },
        "id": "Zr7lXDQnuVUy",
        "outputId": "2e212a9b-3c45-4bad-8384-02d3f41cea2a"
      },
      "id": "Zr7lXDQnuVUy",
      "execution_count": 77,
      "outputs": [
        {
          "output_type": "stream",
          "name": "stdout",
          "text": [
            "Looking in indexes: https://pypi.org/simple, https://us-python.pkg.dev/colab-wheels/public/simple/\n",
            "Requirement already satisfied: emoji in /usr/local/lib/python3.9/dist-packages (2.2.0)\n"
          ]
        }
      ]
    },
    {
      "cell_type": "code",
      "execution_count": 78,
      "id": "great-delivery",
      "metadata": {
        "execution": {
          "iopub.execute_input": "2021-06-12T10:01:18.551727Z",
          "iopub.status.busy": "2021-06-12T10:01:18.551158Z",
          "iopub.status.idle": "2021-06-12T10:01:18.572180Z",
          "shell.execute_reply": "2021-06-12T10:01:18.571778Z"
        },
        "papermill": {
          "duration": 0.094486,
          "end_time": "2021-06-12T10:01:18.572288",
          "exception": false,
          "start_time": "2021-06-12T10:01:18.477802",
          "status": "completed"
        },
        "tags": [],
        "id": "great-delivery"
      },
      "outputs": [],
      "source": [
        "# Create a function to tokenize a set of texts\n",
        "import emoji\n",
        "import unicodedata\n",
        "def preprocessing_for_bert(data, version=\"mini\", text_preprocessing_fn = text_preprocessing ):\n",
        "    \"\"\"Perform required preprocessing steps for pretrained BERT.\n",
        "    @param    data (np.array): Array of texts to be processed.\n",
        "    @return   input_ids (torch.Tensor): Tensor of token ids to be fed to a model.\n",
        "    @return   attention_masks (torch.Tensor): Tensor of indices specifying which\n",
        "                  tokens should be attended to by the model.\n",
        "    \"\"\"\n",
        "    # Create empty lists to store outputs\n",
        "    input_ids = []\n",
        "    attention_masks = []\n",
        "    tokenizer = AutoTokenizer.from_pretrained(\"asafaya/bert-mini-arabic\") if version == \"mini\" else AutoTokenizer.from_pretrained(\"asafaya/bert-base-arabic\")\n",
        "\n",
        "    # For every sentence...\n",
        "    for i,sent in enumerate(data):\n",
        "        # `encode_plus` will:\n",
        "        #    (1) Tokenize the sentence\n",
        "        #    (2) Add the `[CLS]` and `[SEP]` token to the start and end\n",
        "        #    (3) Truncate/Pad sentence to max length\n",
        "        #    (4) Map tokens to their IDs\n",
        "        #    (5) Create attention mask\n",
        "        #    (6) Return a dictionary of outputs\n",
        "        encoded_sent = tokenizer.encode_plus(\n",
        "            text=text_preprocessing_fn(sent),  # Preprocess sentence\n",
        "            add_special_tokens=True,        # Add `[CLS]` and `[SEP]`\n",
        "            max_length=MAX_LEN,                  # Max length to truncate/pad\n",
        "            padding='max_length',        # Pad sentence to max length\n",
        "            #return_tensors='pt',           # Return PyTorch tensor\n",
        "            return_attention_mask=True,     # Return attention mask\n",
        "            truncation = True \n",
        "            )\n",
        "        \n",
        "        # Add the outputs to the lists\n",
        "        input_ids.append(encoded_sent.get('input_ids'))\n",
        "        attention_masks.append(encoded_sent.get('attention_mask'))\n",
        "    # Convert lists to tensors\n",
        "    input_ids = torch.tensor(input_ids)\n",
        "    attention_masks = torch.tensor(attention_masks)\n",
        "\n",
        "    return input_ids, attention_masks"
      ]
    },
    {
      "cell_type": "code",
      "source": [
        "train = pd.read_csv('/content/OSACT2022-sharedTask-train.txt', sep='\\t', header=None)\n",
        "train.columns = ['drop1', 'text', 'drop2', 'label', 'drop3', 'drop4']\n",
        "train.drop(['drop1', 'drop2', 'drop3', 'drop4'], axis=1, inplace=True)\n",
        "train['label'].replace('NOT_HS', 0, inplace=True)\n",
        "train['label'].replace('HS1', 1, inplace=True)\n",
        "train['label'].replace('HS2', 1, inplace=True)\n",
        "train['label'].replace('HS3', 1, inplace=True)\n",
        "train['label'].replace('HS4', 1, inplace=True)\n",
        "train['label'].replace('HS5', 1, inplace=True)\n",
        "train['label'].replace('HS6', 1, inplace=True)\n",
        "\n",
        "print(train['label'].value_counts())\n",
        "train"
      ],
      "metadata": {
        "colab": {
          "base_uri": "https://localhost:8080/",
          "height": 475
        },
        "id": "_w6HHj2BvwsJ",
        "outputId": "5606b096-de58-43ae-fb7f-5fabd03abdc4"
      },
      "id": "_w6HHj2BvwsJ",
      "execution_count": 79,
      "outputs": [
        {
          "output_type": "stream",
          "name": "stdout",
          "text": [
            "0    7634\n",
            "1     923\n",
            "Name: label, dtype: int64\n"
          ]
        },
        {
          "output_type": "execute_result",
          "data": {
            "text/plain": [
              "                                                   text  label\n",
              "0                              @USER ردينا ع التطنز 😏👊🏻      0\n",
              "1                  وصارت فطاير البقالات غذاء صحي 👎🏻 URL      0\n",
              "2     @USER روحي لبريده تلقين اشباه كثير بس ماحد زيك...      0\n",
              "3            @USER مش باين حاجه خالص 😣<LF>مش عارف بقى 😔      0\n",
              "4     #اليوم_الاثنين<LF><LF>👏 يقولك :%90  من المسلمي...      0\n",
              "...                                                 ...    ...\n",
              "8552                                @USER الله يلعنهم 🤢      0\n",
              "8553  واحد سال زوجته بعد كم سنة زواج:<LF>- حبيبتي كم...      0\n",
              "8554  @USER يالله روح زي الشاطر واحذف الشو الي سويته...      0\n",
              "8555  لـمـا الـكـلاب تـهـوهـو عـلـيـك🐶🐶 وأنـت_اللـى_...      0\n",
              "8556  #بايع_الكليجا<LF><LF>الله ياخذكم ي بنات خلوني ...      0\n",
              "\n",
              "[8557 rows x 2 columns]"
            ],
            "text/html": [
              "\n",
              "  <div id=\"df-0c5b3a62-ac59-45ff-b161-d8091b8f12de\">\n",
              "    <div class=\"colab-df-container\">\n",
              "      <div>\n",
              "<style scoped>\n",
              "    .dataframe tbody tr th:only-of-type {\n",
              "        vertical-align: middle;\n",
              "    }\n",
              "\n",
              "    .dataframe tbody tr th {\n",
              "        vertical-align: top;\n",
              "    }\n",
              "\n",
              "    .dataframe thead th {\n",
              "        text-align: right;\n",
              "    }\n",
              "</style>\n",
              "<table border=\"1\" class=\"dataframe\">\n",
              "  <thead>\n",
              "    <tr style=\"text-align: right;\">\n",
              "      <th></th>\n",
              "      <th>text</th>\n",
              "      <th>label</th>\n",
              "    </tr>\n",
              "  </thead>\n",
              "  <tbody>\n",
              "    <tr>\n",
              "      <th>0</th>\n",
              "      <td>@USER ردينا ع التطنز 😏👊🏻</td>\n",
              "      <td>0</td>\n",
              "    </tr>\n",
              "    <tr>\n",
              "      <th>1</th>\n",
              "      <td>وصارت فطاير البقالات غذاء صحي 👎🏻 URL</td>\n",
              "      <td>0</td>\n",
              "    </tr>\n",
              "    <tr>\n",
              "      <th>2</th>\n",
              "      <td>@USER روحي لبريده تلقين اشباه كثير بس ماحد زيك...</td>\n",
              "      <td>0</td>\n",
              "    </tr>\n",
              "    <tr>\n",
              "      <th>3</th>\n",
              "      <td>@USER مش باين حاجه خالص 😣&lt;LF&gt;مش عارف بقى 😔</td>\n",
              "      <td>0</td>\n",
              "    </tr>\n",
              "    <tr>\n",
              "      <th>4</th>\n",
              "      <td>#اليوم_الاثنين&lt;LF&gt;&lt;LF&gt;👏 يقولك :%90  من المسلمي...</td>\n",
              "      <td>0</td>\n",
              "    </tr>\n",
              "    <tr>\n",
              "      <th>...</th>\n",
              "      <td>...</td>\n",
              "      <td>...</td>\n",
              "    </tr>\n",
              "    <tr>\n",
              "      <th>8552</th>\n",
              "      <td>@USER الله يلعنهم 🤢</td>\n",
              "      <td>0</td>\n",
              "    </tr>\n",
              "    <tr>\n",
              "      <th>8553</th>\n",
              "      <td>واحد سال زوجته بعد كم سنة زواج:&lt;LF&gt;- حبيبتي كم...</td>\n",
              "      <td>0</td>\n",
              "    </tr>\n",
              "    <tr>\n",
              "      <th>8554</th>\n",
              "      <td>@USER يالله روح زي الشاطر واحذف الشو الي سويته...</td>\n",
              "      <td>0</td>\n",
              "    </tr>\n",
              "    <tr>\n",
              "      <th>8555</th>\n",
              "      <td>لـمـا الـكـلاب تـهـوهـو عـلـيـك🐶🐶 وأنـت_اللـى_...</td>\n",
              "      <td>0</td>\n",
              "    </tr>\n",
              "    <tr>\n",
              "      <th>8556</th>\n",
              "      <td>#بايع_الكليجا&lt;LF&gt;&lt;LF&gt;الله ياخذكم ي بنات خلوني ...</td>\n",
              "      <td>0</td>\n",
              "    </tr>\n",
              "  </tbody>\n",
              "</table>\n",
              "<p>8557 rows × 2 columns</p>\n",
              "</div>\n",
              "      <button class=\"colab-df-convert\" onclick=\"convertToInteractive('df-0c5b3a62-ac59-45ff-b161-d8091b8f12de')\"\n",
              "              title=\"Convert this dataframe to an interactive table.\"\n",
              "              style=\"display:none;\">\n",
              "        \n",
              "  <svg xmlns=\"http://www.w3.org/2000/svg\" height=\"24px\"viewBox=\"0 0 24 24\"\n",
              "       width=\"24px\">\n",
              "    <path d=\"M0 0h24v24H0V0z\" fill=\"none\"/>\n",
              "    <path d=\"M18.56 5.44l.94 2.06.94-2.06 2.06-.94-2.06-.94-.94-2.06-.94 2.06-2.06.94zm-11 1L8.5 8.5l.94-2.06 2.06-.94-2.06-.94L8.5 2.5l-.94 2.06-2.06.94zm10 10l.94 2.06.94-2.06 2.06-.94-2.06-.94-.94-2.06-.94 2.06-2.06.94z\"/><path d=\"M17.41 7.96l-1.37-1.37c-.4-.4-.92-.59-1.43-.59-.52 0-1.04.2-1.43.59L10.3 9.45l-7.72 7.72c-.78.78-.78 2.05 0 2.83L4 21.41c.39.39.9.59 1.41.59.51 0 1.02-.2 1.41-.59l7.78-7.78 2.81-2.81c.8-.78.8-2.07 0-2.86zM5.41 20L4 18.59l7.72-7.72 1.47 1.35L5.41 20z\"/>\n",
              "  </svg>\n",
              "      </button>\n",
              "      \n",
              "  <style>\n",
              "    .colab-df-container {\n",
              "      display:flex;\n",
              "      flex-wrap:wrap;\n",
              "      gap: 12px;\n",
              "    }\n",
              "\n",
              "    .colab-df-convert {\n",
              "      background-color: #E8F0FE;\n",
              "      border: none;\n",
              "      border-radius: 50%;\n",
              "      cursor: pointer;\n",
              "      display: none;\n",
              "      fill: #1967D2;\n",
              "      height: 32px;\n",
              "      padding: 0 0 0 0;\n",
              "      width: 32px;\n",
              "    }\n",
              "\n",
              "    .colab-df-convert:hover {\n",
              "      background-color: #E2EBFA;\n",
              "      box-shadow: 0px 1px 2px rgba(60, 64, 67, 0.3), 0px 1px 3px 1px rgba(60, 64, 67, 0.15);\n",
              "      fill: #174EA6;\n",
              "    }\n",
              "\n",
              "    [theme=dark] .colab-df-convert {\n",
              "      background-color: #3B4455;\n",
              "      fill: #D2E3FC;\n",
              "    }\n",
              "\n",
              "    [theme=dark] .colab-df-convert:hover {\n",
              "      background-color: #434B5C;\n",
              "      box-shadow: 0px 1px 3px 1px rgba(0, 0, 0, 0.15);\n",
              "      filter: drop-shadow(0px 1px 2px rgba(0, 0, 0, 0.3));\n",
              "      fill: #FFFFFF;\n",
              "    }\n",
              "  </style>\n",
              "\n",
              "      <script>\n",
              "        const buttonEl =\n",
              "          document.querySelector('#df-0c5b3a62-ac59-45ff-b161-d8091b8f12de button.colab-df-convert');\n",
              "        buttonEl.style.display =\n",
              "          google.colab.kernel.accessAllowed ? 'block' : 'none';\n",
              "\n",
              "        async function convertToInteractive(key) {\n",
              "          const element = document.querySelector('#df-0c5b3a62-ac59-45ff-b161-d8091b8f12de');\n",
              "          const dataTable =\n",
              "            await google.colab.kernel.invokeFunction('convertToInteractive',\n",
              "                                                     [key], {});\n",
              "          if (!dataTable) return;\n",
              "\n",
              "          const docLinkHtml = 'Like what you see? Visit the ' +\n",
              "            '<a target=\"_blank\" href=https://colab.research.google.com/notebooks/data_table.ipynb>data table notebook</a>'\n",
              "            + ' to learn more about interactive tables.';\n",
              "          element.innerHTML = '';\n",
              "          dataTable['output_type'] = 'display_data';\n",
              "          await google.colab.output.renderOutput(dataTable, element);\n",
              "          const docLink = document.createElement('div');\n",
              "          docLink.innerHTML = docLinkHtml;\n",
              "          element.appendChild(docLink);\n",
              "        }\n",
              "      </script>\n",
              "    </div>\n",
              "  </div>\n",
              "  "
            ]
          },
          "metadata": {},
          "execution_count": 79
        }
      ]
    },
    {
      "cell_type": "code",
      "source": [
        "from sklearn.model_selection import train_test_split\n",
        "\n",
        "X = train.text.values\n",
        "y = train.label.values\n",
        "X_train, X_val, y_train, y_val = train_test_split(X,y,test_size=0.1, random_state=2023)"
      ],
      "metadata": {
        "id": "AsYhHVULvwud"
      },
      "id": "AsYhHVULvwud",
      "execution_count": 80,
      "outputs": []
    },
    {
      "cell_type": "code",
      "execution_count": 81,
      "id": "boring-noise",
      "metadata": {
        "execution": {
          "iopub.execute_input": "2021-06-12T10:01:18.712320Z",
          "iopub.status.busy": "2021-06-12T10:01:18.711648Z",
          "iopub.status.idle": "2021-06-12T10:01:33.714410Z",
          "shell.execute_reply": "2021-06-12T10:01:33.713835Z"
        },
        "papermill": {
          "duration": 15.075458,
          "end_time": "2021-06-12T10:01:33.714557",
          "exception": false,
          "start_time": "2021-06-12T10:01:18.639099",
          "status": "completed"
        },
        "tags": [],
        "colab": {
          "base_uri": "https://localhost:8080/"
        },
        "id": "boring-noise",
        "outputId": "9ec9e8e0-090a-4084-ade1-39e3f0f883f0"
      },
      "outputs": [
        {
          "output_type": "stream",
          "name": "stdout",
          "text": [
            "Original:  @USER ردينا ع التطنز 😏👊🏻\n",
            "Token IDs:  [2, 3147, 2230, 241, 3115, 7983, 1, 3, 0, 0, 0, 0, 0, 0, 0, 0, 0, 0, 0, 0, 0, 0, 0, 0, 0, 0, 0, 0, 0, 0, 0, 0, 0, 0, 0, 0, 0, 0, 0, 0, 0, 0, 0, 0, 0, 0, 0, 0, 0, 0, 0, 0, 0, 0, 0, 0, 0, 0, 0, 0, 0, 0, 0, 0, 0, 0, 0, 0, 0, 0, 0, 0, 0, 0, 0, 0, 0, 0, 0, 0, 0, 0, 0, 0, 0, 0, 0, 0, 0, 0, 0, 0, 0, 0, 0, 0, 0, 0, 0, 0, 0, 0, 0, 0, 0, 0, 0, 0, 0, 0, 0, 0, 0, 0, 0, 0, 0, 0, 0, 0, 0, 0, 0, 0, 0, 0, 0, 0, 0, 0, 0, 0, 0, 0, 0, 0, 0, 0, 0, 0, 0, 0, 0, 0, 0, 0, 0, 0, 0, 0, 0, 0, 0, 0, 0, 0, 0, 0, 0, 0, 0, 0, 0, 0, 0, 0, 0, 0, 0, 0, 0, 0, 0, 0, 0, 0, 0, 0, 0, 0, 0, 0, 0, 0, 0, 0, 0, 0, 0, 0, 0, 0, 0, 0, 0, 0, 0, 0, 0, 0, 0, 0, 0, 0, 0, 0, 0, 0, 0, 0, 0, 0, 0, 0, 0, 0, 0, 0, 0, 0, 0, 0, 0, 0, 0, 0, 0, 0, 0, 0, 0, 0, 0, 0, 0, 0, 0, 0, 0, 0, 0, 0, 0, 0, 0, 0, 0, 0, 0, 0, 0, 0, 0, 0, 0, 0, 0, 0, 0, 0, 0, 0, 0, 0, 0, 0, 0, 0, 0, 0, 0, 0, 0, 0, 0, 0, 0, 0, 0, 0]\n",
            "Tokenizing data...\n"
          ]
        }
      ],
      "source": [
        "# Specify `MAX_LEN`\n",
        "MAX_LEN =  280\n",
        "\n",
        "# Print sentence 0 and its encoded token ids\n",
        "token_ids = list(preprocessing_for_bert([X[0]])[0].squeeze().numpy())\n",
        "print('Original: ', X[0])\n",
        "print('Token IDs: ', token_ids)\n",
        "\n",
        "# Run function `preprocessing_for_bert` on the train set and the validation set\n",
        "print('Tokenizing data...')\n",
        "train_inputs, train_masks = preprocessing_for_bert(X_train)\n",
        "val_inputs, val_masks = preprocessing_for_bert(X_val)"
      ]
    },
    {
      "cell_type": "markdown",
      "id": "fancy-suffering",
      "metadata": {
        "papermill": {
          "duration": 0.067827,
          "end_time": "2021-06-12T10:01:33.850744",
          "exception": false,
          "start_time": "2021-06-12T10:01:33.782917",
          "status": "completed"
        },
        "tags": [],
        "id": "fancy-suffering"
      },
      "source": [
        "<a id=\"2.1.2\"> </a>\n",
        "##### Create data loaders for test and validation sets"
      ]
    },
    {
      "cell_type": "code",
      "execution_count": 82,
      "id": "rental-officer",
      "metadata": {
        "execution": {
          "iopub.execute_input": "2021-06-12T10:01:33.993019Z",
          "iopub.status.busy": "2021-06-12T10:01:33.992469Z",
          "iopub.status.idle": "2021-06-12T10:01:34.003154Z",
          "shell.execute_reply": "2021-06-12T10:01:34.002748Z"
        },
        "papermill": {
          "duration": 0.08432,
          "end_time": "2021-06-12T10:01:34.003265",
          "exception": false,
          "start_time": "2021-06-12T10:01:33.918945",
          "status": "completed"
        },
        "tags": [],
        "id": "rental-officer"
      },
      "outputs": [],
      "source": [
        "from torch.utils.data import TensorDataset, DataLoader, RandomSampler, SequentialSampler\n",
        "\n",
        "# Convert other data types to torch.Tensor\n",
        "train_labels = torch.tensor(y_train)\n",
        "val_labels = torch.tensor(y_val)\n",
        "\n",
        "# For fine-tuning BERT, the authors recommend a batch size of 16 or 32.\n",
        "batch_size = 16\n",
        "\n",
        "# Create the DataLoader for our training set\n",
        "train_data = TensorDataset(train_inputs, train_masks, train_labels)\n",
        "train_sampler = RandomSampler(train_data)\n",
        "train_dataloader = DataLoader(train_data, sampler=train_sampler, batch_size=batch_size)\n",
        "\n",
        "# Create the DataLoader for our validation set\n",
        "val_data = TensorDataset(val_inputs, val_masks, val_labels)\n",
        "val_sampler = SequentialSampler(val_data)\n",
        "val_dataloader = DataLoader(val_data, sampler=val_sampler, batch_size=batch_size)"
      ]
    },
    {
      "cell_type": "markdown",
      "id": "rational-chapel",
      "metadata": {
        "papermill": {
          "duration": 0.067618,
          "end_time": "2021-06-12T10:01:34.138922",
          "exception": false,
          "start_time": "2021-06-12T10:01:34.071304",
          "status": "completed"
        },
        "tags": [],
        "id": "rational-chapel"
      },
      "source": [
        "<a id=\"2.1.3\"> </a>\n",
        "##### Define model initialization class and functions"
      ]
    },
    {
      "cell_type": "code",
      "execution_count": 83,
      "id": "protective-kazakhstan",
      "metadata": {
        "execution": {
          "iopub.execute_input": "2021-06-12T10:01:34.282032Z",
          "iopub.status.busy": "2021-06-12T10:01:34.281463Z",
          "iopub.status.idle": "2021-06-12T10:01:34.284277Z",
          "shell.execute_reply": "2021-06-12T10:01:34.284653Z"
        },
        "papermill": {
          "duration": 0.078092,
          "end_time": "2021-06-12T10:01:34.284791",
          "exception": false,
          "start_time": "2021-06-12T10:01:34.206699",
          "status": "completed"
        },
        "tags": [],
        "colab": {
          "base_uri": "https://localhost:8080/"
        },
        "id": "protective-kazakhstan",
        "outputId": "b287a9ec-1c4b-45cf-e228-4b94429ca7fe"
      },
      "outputs": [
        {
          "output_type": "stream",
          "name": "stdout",
          "text": [
            "CPU times: user 82 µs, sys: 0 ns, total: 82 µs\n",
            "Wall time: 96.3 µs\n"
          ]
        }
      ],
      "source": [
        "%%time\n",
        "import torch\n",
        "import torch.nn as nn\n",
        "from transformers import BertModel\n",
        "\n",
        "# Create the BertClassfier class\n",
        "class BertClassifier(nn.Module):\n",
        "    \"\"\"Bert Model for Classification Tasks.\n",
        "    \"\"\"\n",
        "    def __init__(self, freeze_bert=False, version=\"mini\"):\n",
        "        \"\"\"\n",
        "        @param    bert: a BertModel object\n",
        "        @param    classifier: a torch.nn.Module classifier\n",
        "        @param    freeze_bert (bool): Set `False` to fine-tune the BERT model\n",
        "        \"\"\"\n",
        "        super(BertClassifier, self).__init__()\n",
        "        # Specify hidden size of BERT, hidden size of our classifier, and number of labels\n",
        "        D_in = 256 if version == \"mini\" else 768\n",
        "        H, D_out = 50, 2\n",
        "\n",
        "        # Instantiate BERT model\n",
        "        self.bert = AutoModel.from_pretrained(\"asafaya/bert-mini-arabic\") if version == \"mini\" else AutoModel.from_pretrained(\"asafaya/bert-base-arabic\")\n",
        "        # Instantiate an one-layer feed-forward classifier\n",
        "        self.classifier = nn.Sequential(\n",
        "            nn.Linear(D_in, H),\n",
        "            nn.ReLU(),\n",
        "            nn.Dropout(0.5),\n",
        "            nn.Linear(H, D_out)\n",
        "        )\n",
        "\n",
        "        # Freeze the BERT model\n",
        "        if freeze_bert:\n",
        "            for param in self.bert.parameters():\n",
        "                param.requires_grad = False\n",
        "        \n",
        "    def forward(self, input_ids, attention_mask):\n",
        "        \"\"\"\n",
        "        Feed input to BERT and the classifier to compute logits.\n",
        "        @param    input_ids (torch.Tensor): an input tensor with shape (batch_size,\n",
        "                      max_length)\n",
        "        @param    attention_mask (torch.Tensor): a tensor that hold attention mask\n",
        "                      information with shape (batch_size, max_length)\n",
        "        @return   logits (torch.Tensor): an output tensor with shape (batch_size,\n",
        "                      num_labels)\n",
        "        \"\"\"\n",
        "        # Feed input to BERT\n",
        "        outputs = self.bert(input_ids=input_ids,\n",
        "                            attention_mask=attention_mask)\n",
        "        \n",
        "        # Extract the last hidden state of the token `[CLS]` for classification task\n",
        "        last_hidden_state_cls = outputs[0][:, 0, :]\n",
        "\n",
        "        # Feed input to classifier to compute logits\n",
        "        logits = self.classifier(last_hidden_state_cls)\n",
        "\n",
        "        return logits"
      ]
    },
    {
      "cell_type": "code",
      "execution_count": 84,
      "id": "indoor-stupid",
      "metadata": {
        "execution": {
          "iopub.execute_input": "2021-06-12T10:01:34.427503Z",
          "iopub.status.busy": "2021-06-12T10:01:34.427008Z",
          "iopub.status.idle": "2021-06-12T10:01:38.636656Z",
          "shell.execute_reply": "2021-06-12T10:01:38.638707Z"
        },
        "papermill": {
          "duration": 4.28506,
          "end_time": "2021-06-12T10:01:38.638934",
          "exception": false,
          "start_time": "2021-06-12T10:01:34.353874",
          "status": "completed"
        },
        "tags": [],
        "id": "indoor-stupid"
      },
      "outputs": [],
      "source": [
        "from transformers import AdamW, get_linear_schedule_with_warmup\n",
        "\n",
        "from torch.optim import SparseAdam, Adam\n",
        "def initialize_model(epochs=4, version=\"mini\"):\n",
        "    \"\"\"Initialize the Bert Classifier, the optimizer and the learning rate scheduler.\n",
        "    \"\"\"\n",
        "    # Instantiate Bert Classifier\n",
        "    bert_classifier = BertClassifier(freeze_bert=False, version=version)\n",
        "    # Tell PyTorch to run the model on GPU\n",
        "    bert_classifier.to(device)\n",
        "\n",
        "    # Create the optimizer\n",
        "    optimizer = AdamW(params=list(bert_classifier.parameters()),\n",
        "                      lr=5e-5,    # Default learning rate\n",
        "                      eps=1e-8    # Default epsilon value\n",
        "                      )\n",
        "\n",
        "    # Total number of training steps\n",
        "    total_steps = len(train_dataloader) * epochs\n",
        "\n",
        "    # Set up the learning rate scheduler\n",
        "    scheduler = get_linear_schedule_with_warmup(optimizer,\n",
        "                                                num_warmup_steps=0, # Default value\n",
        "                                                num_training_steps=total_steps)\n",
        "    return bert_classifier, optimizer, scheduler"
      ]
    },
    {
      "cell_type": "markdown",
      "id": "rational-beatles",
      "metadata": {
        "papermill": {
          "duration": 0.123336,
          "end_time": "2021-06-12T10:01:38.892698",
          "exception": false,
          "start_time": "2021-06-12T10:01:38.769362",
          "status": "completed"
        },
        "tags": [],
        "id": "rational-beatles"
      },
      "source": [
        "<a id=\"2.1.4\"> </a>\n",
        "##### Define model train and evaluate functions"
      ]
    },
    {
      "cell_type": "code",
      "execution_count": 85,
      "id": "asian-saturn",
      "metadata": {
        "execution": {
          "iopub.execute_input": "2021-06-12T10:01:39.075291Z",
          "iopub.status.busy": "2021-06-12T10:01:39.073845Z",
          "iopub.status.idle": "2021-06-12T10:01:39.076136Z",
          "shell.execute_reply": "2021-06-12T10:01:39.076530Z"
        },
        "papermill": {
          "duration": 0.088498,
          "end_time": "2021-06-12T10:01:39.076689",
          "exception": false,
          "start_time": "2021-06-12T10:01:38.988191",
          "status": "completed"
        },
        "tags": [],
        "id": "asian-saturn"
      },
      "outputs": [],
      "source": [
        "import random\n",
        "import time\n",
        "import torch\n",
        "import torch.nn as nn\n",
        "# Specify loss function\n",
        "loss_fn = nn.CrossEntropyLoss()\n",
        "\n",
        "def set_seed(seed_value=42):\n",
        "    \"\"\"Set seed for reproducibility.\n",
        "    \"\"\"\n",
        "    random.seed(seed_value)\n",
        "    np.random.seed(seed_value)\n",
        "    torch.manual_seed(seed_value)\n",
        "    torch.cuda.manual_seed_all(seed_value)\n",
        "\n",
        "def train(model, train_dataloader, val_dataloader=None, epochs=4, evaluation=False):\n",
        "    \"\"\"Train the BertClassifier model.\n",
        "    \"\"\"\n",
        "    # Start training loop\n",
        "    print(\"Start training...\\n\")\n",
        "    for epoch_i in range(epochs):\n",
        "        # =======================================\n",
        "        #               Training\n",
        "        # =======================================\n",
        "        # Print the header of the result table\n",
        "        print(f\"{'Epoch':^7} | {'Batch':^7} | {'Train Loss':^12} | {'Val Loss':^10} | {'Val Acc':^9} | {'Elapsed':^9}\")\n",
        "        print(\"-\"*70)\n",
        "\n",
        "        # Measure the elapsed time of each epoch\n",
        "        t0_epoch, t0_batch = time.time(), time.time()\n",
        "\n",
        "        # Reset tracking variables at the beginning of each epoch\n",
        "        total_loss, batch_loss, batch_counts = 0, 0, 0\n",
        "\n",
        "        # Put the model into the training mode\n",
        "        model.train()\n",
        "\n",
        "        # For each batch of training data...\n",
        "        for step, batch in enumerate(train_dataloader):\n",
        "            batch_counts +=1\n",
        "            # Load batch to GPU\n",
        "            b_input_ids, b_attn_mask, b_labels = tuple(t.to(device) for t in batch)\n",
        "\n",
        "            # Zero out any previously calculated gradients\n",
        "            model.zero_grad()\n",
        "\n",
        "            # Perform a forward pass. This will return logits.\n",
        "            logits = model(b_input_ids, b_attn_mask)\n",
        "\n",
        "            # Compute loss and accumulate the loss values\n",
        "            loss = loss_fn(logits, b_labels)\n",
        "            batch_loss += loss.item()\n",
        "            total_loss += loss.item()\n",
        "\n",
        "            # Perform a backward pass to calculate gradients\n",
        "            loss.backward()\n",
        "\n",
        "            # Clip the norm of the gradients to 1.0 to prevent \"exploding gradients\"\n",
        "            torch.nn.utils.clip_grad_norm_(model.parameters(), 1.0)\n",
        "\n",
        "            # Update parameters and the learning rate\n",
        "            optimizer.step()\n",
        "            scheduler.step()\n",
        "\n",
        "            # Print the loss values and time elapsed for every 20 batches\n",
        "            if (step % 20 == 0 and step != 0) or (step == len(train_dataloader) - 1):\n",
        "                # Calculate time elapsed for 20 batches\n",
        "                time_elapsed = time.time() - t0_batch\n",
        "\n",
        "                # Print training results\n",
        "                print(f\"{epoch_i + 1:^7} | {step:^7} | {batch_loss / batch_counts:^12.6f} | {'-':^10} | {'-':^9} | {time_elapsed:^9.2f}\")\n",
        "\n",
        "                # Reset batch tracking variables\n",
        "                batch_loss, batch_counts = 0, 0\n",
        "                t0_batch = time.time()\n",
        "\n",
        "        # Calculate the average loss over the entire training data\n",
        "        avg_train_loss = total_loss / len(train_dataloader)\n",
        "\n",
        "        print(\"-\"*70)\n",
        "        # =======================================\n",
        "        #               Evaluation\n",
        "        # =======================================\n",
        "        if evaluation == True:\n",
        "            # After the completion of each training epoch, measure the model's performance\n",
        "            # on our validation set.\n",
        "            val_loss, val_accuracy = evaluate(model, val_dataloader)\n",
        "\n",
        "            # Print performance over the entire training data\n",
        "            time_elapsed = time.time() - t0_epoch\n",
        "            \n",
        "            print(f\"{epoch_i + 1:^7} | {'-':^7} | {avg_train_loss:^12.6f} | {val_loss:^10.6f} | {val_accuracy:^9.2f} | {time_elapsed:^9.2f}\")\n",
        "            print(\"-\"*70)\n",
        "        print(\"\\n\")\n",
        "    \n",
        "    print(\"Training complete!\")\n",
        "\n",
        "\n",
        "def evaluate(model, val_dataloader):\n",
        "    \"\"\"After the completion of each training epoch, measure the model's performance\n",
        "    on our validation set.\n",
        "    \"\"\"\n",
        "    # Put the model into the evaluation mode. The dropout layers are disabled during\n",
        "    # the test time.\n",
        "    model.eval()\n",
        "\n",
        "    # Tracking variables\n",
        "    val_accuracy = []\n",
        "    val_loss = []\n",
        "\n",
        "    # For each batch in our validation set...\n",
        "    for batch in val_dataloader:\n",
        "        # Load batch to GPU\n",
        "        b_input_ids, b_attn_mask, b_labels = tuple(t.to(device) for t in batch)\n",
        "\n",
        "        # Compute logits\n",
        "        with torch.no_grad():\n",
        "            logits = model(b_input_ids, b_attn_mask)\n",
        "\n",
        "        # Compute loss\n",
        "        loss = loss_fn(logits, b_labels)\n",
        "        val_loss.append(loss.item())\n",
        "\n",
        "        # Get the predictions\n",
        "        preds = torch.argmax(logits, dim=1).flatten()\n",
        "\n",
        "        # Calculate the accuracy rate\n",
        "        accuracy = (preds == b_labels).cpu().numpy().mean() * 100\n",
        "        val_accuracy.append(accuracy)\n",
        "\n",
        "    # Compute the average accuracy and loss over the validation set.\n",
        "    val_loss = np.mean(val_loss)\n",
        "    val_accuracy = np.mean(val_accuracy)\n",
        "\n",
        "    return val_loss, val_accuracy"
      ]
    },
    {
      "cell_type": "markdown",
      "id": "optimum-acquisition",
      "metadata": {
        "papermill": {
          "duration": 0.068708,
          "end_time": "2021-06-12T10:01:39.214008",
          "exception": false,
          "start_time": "2021-06-12T10:01:39.145300",
          "status": "completed"
        },
        "tags": [],
        "id": "optimum-acquisition"
      },
      "source": [
        "<a id=\"2.1.5\"> </a>\n",
        "##### Initialize and train model"
      ]
    },
    {
      "cell_type": "code",
      "execution_count": 86,
      "id": "vocational-scratch",
      "metadata": {
        "execution": {
          "iopub.execute_input": "2021-06-12T10:01:39.355242Z",
          "iopub.status.busy": "2021-06-12T10:01:39.354450Z",
          "iopub.status.idle": "2021-06-12T10:06:05.589416Z",
          "shell.execute_reply": "2021-06-12T10:06:05.588821Z"
        },
        "papermill": {
          "duration": 266.307554,
          "end_time": "2021-06-12T10:06:05.589598",
          "exception": false,
          "start_time": "2021-06-12T10:01:39.282044",
          "status": "completed"
        },
        "tags": [],
        "colab": {
          "base_uri": "https://localhost:8080/"
        },
        "id": "vocational-scratch",
        "outputId": "86614e54-7b4c-49d0-b124-3c0163a0d8c2"
      },
      "outputs": [
        {
          "output_type": "stream",
          "name": "stderr",
          "text": [
            "Some weights of the model checkpoint at asafaya/bert-mini-arabic were not used when initializing BertModel: ['cls.predictions.transform.LayerNorm.bias', 'cls.predictions.bias', 'cls.predictions.decoder.bias', 'cls.predictions.decoder.weight', 'cls.predictions.transform.dense.weight', 'cls.predictions.transform.LayerNorm.weight', 'cls.predictions.transform.dense.bias']\n",
            "- This IS expected if you are initializing BertModel from the checkpoint of a model trained on another task or with another architecture (e.g. initializing a BertForSequenceClassification model from a BertForPreTraining model).\n",
            "- This IS NOT expected if you are initializing BertModel from the checkpoint of a model that you expect to be exactly identical (initializing a BertForSequenceClassification model from a BertForSequenceClassification model).\n",
            "/usr/local/lib/python3.9/dist-packages/transformers/optimization.py:391: FutureWarning: This implementation of AdamW is deprecated and will be removed in a future version. Use the PyTorch implementation torch.optim.AdamW instead, or set `no_deprecation_warning=True` to disable this warning\n",
            "  warnings.warn(\n"
          ]
        },
        {
          "output_type": "stream",
          "name": "stdout",
          "text": [
            "Start training...\n",
            "\n",
            " Epoch  |  Batch  |  Train Loss  |  Val Loss  |  Val Acc  |  Elapsed \n",
            "----------------------------------------------------------------------\n",
            "   1    |   20    |   0.475725   |     -      |     -     |   66.11  \n",
            "   1    |   40    |   0.374535   |     -      |     -     |   44.30  \n",
            "   1    |   60    |   0.335375   |     -      |     -     |   46.01  \n",
            "   1    |   80    |   0.334050   |     -      |     -     |   46.07  \n",
            "   1    |   100   |   0.251369   |     -      |     -     |   45.62  \n",
            "   1    |   120   |   0.267647   |     -      |     -     |   44.19  \n",
            "   1    |   140   |   0.326481   |     -      |     -     |   45.11  \n",
            "   1    |   160   |   0.328160   |     -      |     -     |   44.29  \n",
            "   1    |   180   |   0.253213   |     -      |     -     |   44.08  \n",
            "   1    |   200   |   0.270555   |     -      |     -     |   44.22  \n",
            "   1    |   220   |   0.355000   |     -      |     -     |   46.04  \n",
            "   1    |   240   |   0.330202   |     -      |     -     |   44.70  \n",
            "   1    |   260   |   0.301501   |     -      |     -     |   44.16  \n",
            "   1    |   280   |   0.267429   |     -      |     -     |   44.16  \n",
            "   1    |   300   |   0.241701   |     -      |     -     |   43.99  \n",
            "   1    |   320   |   0.313917   |     -      |     -     |   44.71  \n",
            "   1    |   340   |   0.257990   |     -      |     -     |   46.14  \n",
            "   1    |   360   |   0.308598   |     -      |     -     |   43.96  \n",
            "   1    |   380   |   0.249606   |     -      |     -     |   44.16  \n",
            "   1    |   400   |   0.301028   |     -      |     -     |   44.07  \n",
            "   1    |   420   |   0.258044   |     -      |     -     |   45.33  \n",
            "   1    |   440   |   0.265337   |     -      |     -     |   44.79  \n",
            "   1    |   460   |   0.278832   |     -      |     -     |   44.69  \n",
            "   1    |   480   |   0.237555   |     -      |     -     |   44.12  \n",
            "   1    |   481   |   0.086261   |     -      |     -     |   0.75   \n",
            "----------------------------------------------------------------------\n",
            "   1    |    -    |   0.299251   |  0.282536  |   90.39   |  1134.12 \n",
            "----------------------------------------------------------------------\n",
            "\n",
            "\n",
            " Epoch  |  Batch  |  Train Loss  |  Val Loss  |  Val Acc  |  Elapsed \n",
            "----------------------------------------------------------------------\n",
            "   2    |   20    |   0.220999   |     -      |     -     |   47.45  \n",
            "   2    |   40    |   0.221335   |     -      |     -     |   44.38  \n",
            "   2    |   60    |   0.167818   |     -      |     -     |   45.13  \n",
            "   2    |   80    |   0.184944   |     -      |     -     |   44.49  \n",
            "   2    |   100   |   0.258593   |     -      |     -     |   45.02  \n",
            "   2    |   120   |   0.271472   |     -      |     -     |   58.23  \n",
            "   2    |   140   |   0.228522   |     -      |     -     |   45.92  \n",
            "   2    |   160   |   0.278284   |     -      |     -     |   44.25  \n",
            "   2    |   180   |   0.221610   |     -      |     -     |   54.84  \n",
            "   2    |   200   |   0.193580   |     -      |     -     |   44.94  \n",
            "   2    |   220   |   0.208634   |     -      |     -     |   45.62  \n",
            "   2    |   240   |   0.241026   |     -      |     -     |   44.62  \n",
            "   2    |   260   |   0.211844   |     -      |     -     |   44.35  \n",
            "   2    |   280   |   0.269542   |     -      |     -     |   44.39  \n",
            "   2    |   300   |   0.207239   |     -      |     -     |   45.72  \n",
            "   2    |   320   |   0.208082   |     -      |     -     |   44.38  \n",
            "   2    |   340   |   0.254701   |     -      |     -     |   45.16  \n",
            "   2    |   360   |   0.225314   |     -      |     -     |   44.31  \n",
            "   2    |   380   |   0.282284   |     -      |     -     |   44.41  \n",
            "   2    |   400   |   0.142990   |     -      |     -     |   44.75  \n",
            "   2    |   420   |   0.212750   |     -      |     -     |   46.11  \n",
            "   2    |   440   |   0.253600   |     -      |     -     |   44.60  \n",
            "   2    |   460   |   0.221599   |     -      |     -     |   44.30  \n",
            "   2    |   480   |   0.221535   |     -      |     -     |   43.99  \n",
            "   2    |   481   |   0.073465   |     -      |     -     |   0.69   \n",
            "----------------------------------------------------------------------\n",
            "   2    |    -    |   0.225022   |  0.236789  |   90.16   |  1140.58 \n",
            "----------------------------------------------------------------------\n",
            "\n",
            "\n",
            "Training complete!\n"
          ]
        }
      ],
      "source": [
        "set_seed(42) \n",
        "bert_classifier, optimizer, scheduler = initialize_model(epochs=2)\n",
        "train(bert_classifier, train_dataloader, val_dataloader, epochs=2, evaluation=True)"
      ]
    },
    {
      "cell_type": "markdown",
      "id": "studied-interference",
      "metadata": {
        "papermill": {
          "duration": 0.13388,
          "end_time": "2021-06-12T10:06:05.859220",
          "exception": false,
          "start_time": "2021-06-12T10:06:05.725340",
          "status": "completed"
        },
        "tags": [],
        "id": "studied-interference"
      },
      "source": [
        "<a id=\"2.1.6\"> </a>\n",
        "##### Save model"
      ]
    },
    {
      "cell_type": "code",
      "execution_count": 87,
      "id": "closing-olive",
      "metadata": {
        "execution": {
          "iopub.execute_input": "2021-06-12T10:06:06.133774Z",
          "iopub.status.busy": "2021-06-12T10:06:06.133257Z",
          "iopub.status.idle": "2021-06-12T10:06:06.235407Z",
          "shell.execute_reply": "2021-06-12T10:06:06.234964Z"
        },
        "papermill": {
          "duration": 0.241321,
          "end_time": "2021-06-12T10:06:06.235528",
          "exception": false,
          "start_time": "2021-06-12T10:06:05.994207",
          "status": "completed"
        },
        "tags": [],
        "id": "closing-olive"
      },
      "outputs": [],
      "source": [
        "# Saving the model for future runs\n",
        "\n",
        "import pickle\n",
        "filename = 'trained_model_mini_with_emojis_ALL_LABELS.sav'\n",
        "pickle.dump(bert_classifier, open(filename, 'wb'))"
      ]
    },
    {
      "cell_type": "code",
      "execution_count": 88,
      "id": "defensive-attachment",
      "metadata": {
        "execution": {
          "iopub.execute_input": "2021-06-12T10:06:06.787696Z",
          "iopub.status.busy": "2021-06-12T10:06:06.786450Z",
          "iopub.status.idle": "2021-06-12T10:06:06.789147Z",
          "shell.execute_reply": "2021-06-12T10:06:06.788757Z"
        },
        "papermill": {
          "duration": 0.140133,
          "end_time": "2021-06-12T10:06:06.789252",
          "exception": false,
          "start_time": "2021-06-12T10:06:06.649119",
          "status": "completed"
        },
        "tags": [],
        "id": "defensive-attachment"
      },
      "outputs": [],
      "source": [
        "# import pickle\n",
        "# filename = 'trained_model_mini_with_emojis.sav'\n",
        "# f = open(filename, 'rb')\n",
        "# bert_classifier = pickle.load(f)"
      ]
    },
    {
      "cell_type": "code",
      "source": [
        "with open('/content/OSACT2022-sharedTask-test-taskB-gold-labels.txt') as f:\n",
        "  taskB = f.readlines()\n",
        "print(len(taskB))\n",
        "print(dict((x,taskB.count(x)) for x in set(taskB)))\n",
        "print('')\n",
        "\n",
        "with open('/content/OSACT2022-sharedTask-test-taskC-gold-labels.txt') as f:\n",
        "  taskC = f.readlines()\n",
        "print(len(taskC))\n",
        "print(dict((x,taskC.count(x)) for x in set(taskC)))"
      ],
      "metadata": {
        "id": "GGVMPDcd7QgM",
        "colab": {
          "base_uri": "https://localhost:8080/"
        },
        "outputId": "85fedcc5-ddb0-44a4-f62c-ba4be39513a8"
      },
      "id": "GGVMPDcd7QgM",
      "execution_count": 89,
      "outputs": [
        {
          "output_type": "stream",
          "name": "stdout",
          "text": [
            "2541\n",
            "{'NOT_HS\\n': 2270, 'HS\\n': 271}\n",
            "\n",
            "2541\n",
            "{'HS3\\n': 32, 'NOT_HS\\n': 2270, 'HS6\\n': 133, 'HS2\\n': 7, 'HS1\\n': 78, 'HS4\\n': 2, 'HS5\\n': 19}\n"
          ]
        }
      ]
    },
    {
      "cell_type": "code",
      "source": [
        "test = pd.read_csv('/content/OSACT2022-sharedTask-test-tweets.txt', sep='\\t', header=None)\n",
        "test.columns = ['drop', 'text']\n",
        "test.drop('drop', axis=1, inplace=True)\n",
        "test['label'] = taskB\n",
        "test['label'].replace('NOT_HS\\n', 'NOT_HS', inplace=True)\n",
        "test['label'].replace('HS\\n', 'HS', inplace=True)\n",
        "test['label'].replace('NOT_HS', 0, inplace=True)\n",
        "test['label'].replace('HS', 1, inplace=True)\n",
        "print(test['label'].value_counts())\n",
        "X_test = test.text.values\n",
        "y_test = test.label.values\n",
        "test"
      ],
      "metadata": {
        "id": "cZhXcPhM6RVY",
        "colab": {
          "base_uri": "https://localhost:8080/",
          "height": 475
        },
        "outputId": "664571aa-28e7-4e5a-fe78-277588ecfe26"
      },
      "id": "cZhXcPhM6RVY",
      "execution_count": 90,
      "outputs": [
        {
          "output_type": "stream",
          "name": "stdout",
          "text": [
            "0    2270\n",
            "1     271\n",
            "Name: label, dtype: int64\n"
          ]
        },
        {
          "output_type": "execute_result",
          "data": {
            "text/plain": [
              "                                                   text  label\n",
              "0                        @USER هتهزر معايا ولا ايه 😡😡😡😡      0\n",
              "1              مشفتش العرض بتاعهم لا مش مهتمة لا😩🐸😂 URL      0\n",
              "2     RT @USER عندما تكون لوحدك تحس انك لحالك صح 😊<L...      0\n",
              "3     RT @USER ماشاء الله الرجال باين عليه محترم <LF...      0\n",
              "4                             @USER شسالفة احد يفهمني 😤      0\n",
              "...                                                 ...    ...\n",
              "2536  قله حيا وين اهلهم ذولي الله لايبلانا لهالدرجه ...      0\n",
              "2537                         RT @USER ثم الطحلبه🐸🐸🐸 URL      0\n",
              "2538     يا وجه الله 😷 من اليوم ورايح شاورما انسى 🔪 URL      0\n",
              "2539                    @USER متخلف حتى الحلال حرمتوه 😷      0\n",
              "2540  @USER حنا خقينا على بنت رئيس مو على بياع كليجا...      0\n",
              "\n",
              "[2541 rows x 2 columns]"
            ],
            "text/html": [
              "\n",
              "  <div id=\"df-c45f2de2-504e-4b8d-8d6f-17650a05a3f3\">\n",
              "    <div class=\"colab-df-container\">\n",
              "      <div>\n",
              "<style scoped>\n",
              "    .dataframe tbody tr th:only-of-type {\n",
              "        vertical-align: middle;\n",
              "    }\n",
              "\n",
              "    .dataframe tbody tr th {\n",
              "        vertical-align: top;\n",
              "    }\n",
              "\n",
              "    .dataframe thead th {\n",
              "        text-align: right;\n",
              "    }\n",
              "</style>\n",
              "<table border=\"1\" class=\"dataframe\">\n",
              "  <thead>\n",
              "    <tr style=\"text-align: right;\">\n",
              "      <th></th>\n",
              "      <th>text</th>\n",
              "      <th>label</th>\n",
              "    </tr>\n",
              "  </thead>\n",
              "  <tbody>\n",
              "    <tr>\n",
              "      <th>0</th>\n",
              "      <td>@USER هتهزر معايا ولا ايه 😡😡😡😡</td>\n",
              "      <td>0</td>\n",
              "    </tr>\n",
              "    <tr>\n",
              "      <th>1</th>\n",
              "      <td>مشفتش العرض بتاعهم لا مش مهتمة لا😩🐸😂 URL</td>\n",
              "      <td>0</td>\n",
              "    </tr>\n",
              "    <tr>\n",
              "      <th>2</th>\n",
              "      <td>RT @USER عندما تكون لوحدك تحس انك لحالك صح 😊&lt;L...</td>\n",
              "      <td>0</td>\n",
              "    </tr>\n",
              "    <tr>\n",
              "      <th>3</th>\n",
              "      <td>RT @USER ماشاء الله الرجال باين عليه محترم &lt;LF...</td>\n",
              "      <td>0</td>\n",
              "    </tr>\n",
              "    <tr>\n",
              "      <th>4</th>\n",
              "      <td>@USER شسالفة احد يفهمني 😤</td>\n",
              "      <td>0</td>\n",
              "    </tr>\n",
              "    <tr>\n",
              "      <th>...</th>\n",
              "      <td>...</td>\n",
              "      <td>...</td>\n",
              "    </tr>\n",
              "    <tr>\n",
              "      <th>2536</th>\n",
              "      <td>قله حيا وين اهلهم ذولي الله لايبلانا لهالدرجه ...</td>\n",
              "      <td>0</td>\n",
              "    </tr>\n",
              "    <tr>\n",
              "      <th>2537</th>\n",
              "      <td>RT @USER ثم الطحلبه🐸🐸🐸 URL</td>\n",
              "      <td>0</td>\n",
              "    </tr>\n",
              "    <tr>\n",
              "      <th>2538</th>\n",
              "      <td>يا وجه الله 😷 من اليوم ورايح شاورما انسى 🔪 URL</td>\n",
              "      <td>0</td>\n",
              "    </tr>\n",
              "    <tr>\n",
              "      <th>2539</th>\n",
              "      <td>@USER متخلف حتى الحلال حرمتوه 😷</td>\n",
              "      <td>0</td>\n",
              "    </tr>\n",
              "    <tr>\n",
              "      <th>2540</th>\n",
              "      <td>@USER حنا خقينا على بنت رئيس مو على بياع كليجا...</td>\n",
              "      <td>0</td>\n",
              "    </tr>\n",
              "  </tbody>\n",
              "</table>\n",
              "<p>2541 rows × 2 columns</p>\n",
              "</div>\n",
              "      <button class=\"colab-df-convert\" onclick=\"convertToInteractive('df-c45f2de2-504e-4b8d-8d6f-17650a05a3f3')\"\n",
              "              title=\"Convert this dataframe to an interactive table.\"\n",
              "              style=\"display:none;\">\n",
              "        \n",
              "  <svg xmlns=\"http://www.w3.org/2000/svg\" height=\"24px\"viewBox=\"0 0 24 24\"\n",
              "       width=\"24px\">\n",
              "    <path d=\"M0 0h24v24H0V0z\" fill=\"none\"/>\n",
              "    <path d=\"M18.56 5.44l.94 2.06.94-2.06 2.06-.94-2.06-.94-.94-2.06-.94 2.06-2.06.94zm-11 1L8.5 8.5l.94-2.06 2.06-.94-2.06-.94L8.5 2.5l-.94 2.06-2.06.94zm10 10l.94 2.06.94-2.06 2.06-.94-2.06-.94-.94-2.06-.94 2.06-2.06.94z\"/><path d=\"M17.41 7.96l-1.37-1.37c-.4-.4-.92-.59-1.43-.59-.52 0-1.04.2-1.43.59L10.3 9.45l-7.72 7.72c-.78.78-.78 2.05 0 2.83L4 21.41c.39.39.9.59 1.41.59.51 0 1.02-.2 1.41-.59l7.78-7.78 2.81-2.81c.8-.78.8-2.07 0-2.86zM5.41 20L4 18.59l7.72-7.72 1.47 1.35L5.41 20z\"/>\n",
              "  </svg>\n",
              "      </button>\n",
              "      \n",
              "  <style>\n",
              "    .colab-df-container {\n",
              "      display:flex;\n",
              "      flex-wrap:wrap;\n",
              "      gap: 12px;\n",
              "    }\n",
              "\n",
              "    .colab-df-convert {\n",
              "      background-color: #E8F0FE;\n",
              "      border: none;\n",
              "      border-radius: 50%;\n",
              "      cursor: pointer;\n",
              "      display: none;\n",
              "      fill: #1967D2;\n",
              "      height: 32px;\n",
              "      padding: 0 0 0 0;\n",
              "      width: 32px;\n",
              "    }\n",
              "\n",
              "    .colab-df-convert:hover {\n",
              "      background-color: #E2EBFA;\n",
              "      box-shadow: 0px 1px 2px rgba(60, 64, 67, 0.3), 0px 1px 3px 1px rgba(60, 64, 67, 0.15);\n",
              "      fill: #174EA6;\n",
              "    }\n",
              "\n",
              "    [theme=dark] .colab-df-convert {\n",
              "      background-color: #3B4455;\n",
              "      fill: #D2E3FC;\n",
              "    }\n",
              "\n",
              "    [theme=dark] .colab-df-convert:hover {\n",
              "      background-color: #434B5C;\n",
              "      box-shadow: 0px 1px 3px 1px rgba(0, 0, 0, 0.15);\n",
              "      filter: drop-shadow(0px 1px 2px rgba(0, 0, 0, 0.3));\n",
              "      fill: #FFFFFF;\n",
              "    }\n",
              "  </style>\n",
              "\n",
              "      <script>\n",
              "        const buttonEl =\n",
              "          document.querySelector('#df-c45f2de2-504e-4b8d-8d6f-17650a05a3f3 button.colab-df-convert');\n",
              "        buttonEl.style.display =\n",
              "          google.colab.kernel.accessAllowed ? 'block' : 'none';\n",
              "\n",
              "        async function convertToInteractive(key) {\n",
              "          const element = document.querySelector('#df-c45f2de2-504e-4b8d-8d6f-17650a05a3f3');\n",
              "          const dataTable =\n",
              "            await google.colab.kernel.invokeFunction('convertToInteractive',\n",
              "                                                     [key], {});\n",
              "          if (!dataTable) return;\n",
              "\n",
              "          const docLinkHtml = 'Like what you see? Visit the ' +\n",
              "            '<a target=\"_blank\" href=https://colab.research.google.com/notebooks/data_table.ipynb>data table notebook</a>'\n",
              "            + ' to learn more about interactive tables.';\n",
              "          element.innerHTML = '';\n",
              "          dataTable['output_type'] = 'display_data';\n",
              "          await google.colab.output.renderOutput(dataTable, element);\n",
              "          const docLink = document.createElement('div');\n",
              "          docLink.innerHTML = docLinkHtml;\n",
              "          element.appendChild(docLink);\n",
              "        }\n",
              "      </script>\n",
              "    </div>\n",
              "  </div>\n",
              "  "
            ]
          },
          "metadata": {},
          "execution_count": 90
        }
      ]
    },
    {
      "cell_type": "markdown",
      "id": "hourly-ladder",
      "metadata": {
        "papermill": {
          "duration": 0.136494,
          "end_time": "2021-06-12T10:06:07.060203",
          "exception": false,
          "start_time": "2021-06-12T10:06:06.923709",
          "status": "completed"
        },
        "tags": [],
        "id": "hourly-ladder"
      },
      "source": [
        "<a id=\"2.1.7\"> </a>\n",
        "##### Define prediction and test set evaluation functions"
      ]
    },
    {
      "cell_type": "code",
      "execution_count": 91,
      "id": "eight-newman",
      "metadata": {
        "execution": {
          "iopub.execute_input": "2021-06-12T10:06:07.335924Z",
          "iopub.status.busy": "2021-06-12T10:06:07.335254Z",
          "iopub.status.idle": "2021-06-12T10:06:07.338731Z",
          "shell.execute_reply": "2021-06-12T10:06:07.338322Z"
        },
        "papermill": {
          "duration": 0.143819,
          "end_time": "2021-06-12T10:06:07.338846",
          "exception": false,
          "start_time": "2021-06-12T10:06:07.195027",
          "status": "completed"
        },
        "tags": [],
        "id": "eight-newman"
      },
      "outputs": [],
      "source": [
        "import torch.nn.functional as F\n",
        "\n",
        "def bert_predict(model, test_dataloader):\n",
        "    \"\"\"Perform a forward pass on the trained BERT model to predict probabilities\n",
        "    on the test set.\n",
        "    \"\"\"\n",
        "    # Put the model into the evaluation mode. The dropout layers are disabled during\n",
        "    # the test time.\n",
        "    model.eval()\n",
        "\n",
        "    all_logits = []\n",
        "\n",
        "    # For each batch in our test set...\n",
        "    for batch in test_dataloader:\n",
        "        # Load batch to GPU\n",
        "        b_input_ids, b_attn_mask = tuple(t.to(device) for t in batch)[:2]\n",
        "\n",
        "        # Compute logits\n",
        "        with torch.no_grad():\n",
        "            logits = model(b_input_ids, b_attn_mask)\n",
        "        all_logits.append(logits)\n",
        "    \n",
        "    # Concatenate logits from each batch\n",
        "    all_logits = torch.cat(all_logits, dim=0)\n",
        "\n",
        "    # Apply softmax to calculate probabilities\n",
        "    probs = F.softmax(all_logits, dim=1).cpu().numpy()\n",
        "\n",
        "    return probs"
      ]
    },
    {
      "cell_type": "code",
      "execution_count": 92,
      "id": "trained-representative",
      "metadata": {
        "execution": {
          "iopub.execute_input": "2021-06-12T10:06:07.617739Z",
          "iopub.status.busy": "2021-06-12T10:06:07.616515Z",
          "iopub.status.idle": "2021-06-12T10:06:07.618828Z",
          "shell.execute_reply": "2021-06-12T10:06:07.619191Z"
        },
        "papermill": {
          "duration": 0.145241,
          "end_time": "2021-06-12T10:06:07.619326",
          "exception": false,
          "start_time": "2021-06-12T10:06:07.474085",
          "status": "completed"
        },
        "tags": [],
        "id": "trained-representative"
      },
      "outputs": [],
      "source": [
        "from sklearn.metrics import accuracy_score, roc_curve, auc\n",
        "\n",
        "def evaluate_roc(probs, y_true, model_name, dataset_name, test_dataset_name):\n",
        "    \"\"\"\n",
        "    - Print AUC and accuracy on the test set\n",
        "    - Plot ROC\n",
        "    @params    probs (np.array): an array of predicted probabilities with shape (len(y_true), 2)\n",
        "    @params    y_true (np.array): an array of the true values with shape (len(y_true),)\n",
        "    \"\"\"\n",
        "    preds = probs[:, 1]\n",
        "    fpr, tpr, threshold = roc_curve(y_true, preds)\n",
        "    roc_auc = auc(fpr, tpr)\n",
        "    print(f'AUC: {roc_auc:.4f}')\n",
        "       \n",
        "    # Get accuracy over the test set\n",
        "    y_pred = np.where(preds >= 0.5, 1, 0)\n",
        "    accuracy = accuracy_score(y_true, y_pred)\n",
        "    print(f'Accuracy: {accuracy*100:.2f}%')\n",
        "    \n",
        "    # Plot ROC AUC\n",
        "    plt.title(f\" ROC of {model_name}  trained on {dataset_name} dataset & evaluated on the {test_dataset_name} dataset \")\n",
        "    plt.plot(fpr, tpr, 'b', label = 'AUC = %0.2f' % roc_auc)\n",
        "    plt.legend(loc = 'lower right')\n",
        "    plt.plot([0, 1], [0, 1],'r--')\n",
        "    plt.xlim([0, 1])\n",
        "    plt.ylim([0, 1])\n",
        "    plt.ylabel('True Positive Rate')\n",
        "    plt.xlabel('False Positive Rate')\n",
        "    plt.show()"
      ]
    },
    {
      "cell_type": "markdown",
      "id": "noble-alias",
      "metadata": {
        "papermill": {
          "duration": 0.140526,
          "end_time": "2021-06-12T10:06:07.894462",
          "exception": false,
          "start_time": "2021-06-12T10:06:07.753936",
          "status": "completed"
        },
        "tags": [],
        "id": "noble-alias"
      },
      "source": [
        "<a id=\"2.1.8\"> </a>\n",
        "##### Predict and evaluate validation subset"
      ]
    },
    {
      "cell_type": "code",
      "execution_count": 93,
      "id": "fossil-awareness",
      "metadata": {
        "execution": {
          "iopub.execute_input": "2021-06-12T10:06:08.170084Z",
          "iopub.status.busy": "2021-06-12T10:06:08.169287Z",
          "iopub.status.idle": "2021-06-12T10:06:11.469030Z",
          "shell.execute_reply": "2021-06-12T10:06:11.468617Z"
        },
        "papermill": {
          "duration": 3.439244,
          "end_time": "2021-06-12T10:06:11.469148",
          "exception": false,
          "start_time": "2021-06-12T10:06:08.029904",
          "status": "completed"
        },
        "tags": [],
        "id": "fossil-awareness",
        "colab": {
          "base_uri": "https://localhost:8080/",
          "height": 330
        },
        "outputId": "dabea808-ba1f-4176-ef07-b8c5fe6bc589"
      },
      "outputs": [
        {
          "output_type": "stream",
          "name": "stdout",
          "text": [
            "AUC: 0.9173\n",
            "Accuracy: 90.07%\n"
          ]
        },
        {
          "output_type": "display_data",
          "data": {
            "text/plain": [
              "<Figure size 432x288 with 1 Axes>"
            ],
            "image/png": "[encoded data removed]"
          },
          "metadata": {
            "needs_background": "light"
          }
        }
      ],
      "source": [
        "# Compute predicted probabilities on the validation set\n",
        "probs = bert_predict(bert_classifier, val_dataloader)\n",
        "\n",
        "# Evaluate the Bert classifier\n",
        "evaluate_roc(probs, y_val, \"BERT-mini\", \"All types of hate speech\", \"All types of hate speech validation data\")"
      ]
    },
    {
      "cell_type": "markdown",
      "id": "sticky-picnic",
      "metadata": {
        "papermill": {
          "duration": 0.13645,
          "end_time": "2021-06-12T10:06:11.742885",
          "exception": false,
          "start_time": "2021-06-12T10:06:11.606435",
          "status": "completed"
        },
        "tags": [],
        "id": "sticky-picnic"
      },
      "source": [
        "<a id=\"2.1.9\"> </a>\n",
        "##### Predict and evaluate test subset"
      ]
    },
    {
      "cell_type": "code",
      "execution_count": 94,
      "id": "useful-weight",
      "metadata": {
        "execution": {
          "iopub.execute_input": "2021-06-12T10:06:12.022558Z",
          "iopub.status.busy": "2021-06-12T10:06:12.021762Z",
          "iopub.status.idle": "2021-06-12T10:06:15.832306Z",
          "shell.execute_reply": "2021-06-12T10:06:15.831415Z"
        },
        "papermill": {
          "duration": 3.952785,
          "end_time": "2021-06-12T10:06:15.832448",
          "exception": false,
          "start_time": "2021-06-12T10:06:11.879663",
          "status": "completed"
        },
        "tags": [],
        "id": "useful-weight",
        "colab": {
          "base_uri": "https://localhost:8080/"
        },
        "outputId": "fe8c18c4-692b-4fad-8fda-0a8bf26b4d14"
      },
      "outputs": [
        {
          "output_type": "stream",
          "name": "stdout",
          "text": [
            "Tokenizing data...\n"
          ]
        }
      ],
      "source": [
        "# Run `preprocessing_for_bert` on the test set\n",
        "print('Tokenizing data...')\n",
        "test_inputs, test_masks = preprocessing_for_bert(X_test)\n",
        "\n",
        "# Create the DataLoader for our test set\n",
        "test_dataset = TensorDataset(test_inputs, test_masks)\n",
        "test_sampler = SequentialSampler(test_dataset)\n",
        "test_dataloader = DataLoader(test_dataset, sampler=test_sampler, batch_size=32)"
      ]
    },
    {
      "cell_type": "code",
      "execution_count": 95,
      "id": "defensive-freight",
      "metadata": {
        "execution": {
          "iopub.execute_input": "2021-06-12T10:06:16.114175Z",
          "iopub.status.busy": "2021-06-12T10:06:16.113390Z",
          "iopub.status.idle": "2021-06-12T10:06:23.511894Z",
          "shell.execute_reply": "2021-06-12T10:06:23.512487Z"
        },
        "papermill": {
          "duration": 7.542307,
          "end_time": "2021-06-12T10:06:23.512693",
          "exception": false,
          "start_time": "2021-06-12T10:06:15.970386",
          "status": "completed"
        },
        "tags": [],
        "id": "defensive-freight",
        "colab": {
          "base_uri": "https://localhost:8080/"
        },
        "outputId": "abef941b-a42d-4d58-d0ff-98916bb01195"
      },
      "outputs": [
        {
          "output_type": "stream",
          "name": "stdout",
          "text": [
            "hate speech tweets ratio  0.09759937032664305\n"
          ]
        }
      ],
      "source": [
        "# Compute predicted probabilities on the test set\n",
        "probs = bert_predict(bert_classifier, test_dataloader)\n",
        "\n",
        "# Get predictions from the probabilities\n",
        "threshold = 0.5\n",
        "preds = np.where(probs[:, 1] > threshold, 1, 0)\n",
        "\n",
        "# Number of tweets predicted hate speech\n",
        "print(\"hate speech tweets ratio \", preds.sum()/len(preds))"
      ]
    },
    {
      "cell_type": "code",
      "execution_count": 96,
      "id": "framed-colonial",
      "metadata": {
        "execution": {
          "iopub.execute_input": "2021-06-12T10:06:23.794347Z",
          "iopub.status.busy": "2021-06-12T10:06:23.793539Z",
          "iopub.status.idle": "2021-06-12T10:06:23.931110Z",
          "shell.execute_reply": "2021-06-12T10:06:23.930710Z"
        },
        "papermill": {
          "duration": 0.280124,
          "end_time": "2021-06-12T10:06:23.931225",
          "exception": false,
          "start_time": "2021-06-12T10:06:23.651101",
          "status": "completed"
        },
        "tags": [],
        "id": "framed-colonial",
        "colab": {
          "base_uri": "https://localhost:8080/",
          "height": 330
        },
        "outputId": "06d4e7ed-af1a-446a-a687-729110102508"
      },
      "outputs": [
        {
          "output_type": "stream",
          "name": "stdout",
          "text": [
            "AUC: 0.9027\n",
            "Accuracy: 91.46%\n"
          ]
        },
        {
          "output_type": "display_data",
          "data": {
            "text/plain": [
              "<Figure size 432x288 with 1 Axes>"
            ],
            "image/png": "[encoded data removed]"
          },
          "metadata": {
            "needs_background": "light"
          }
        }
      ],
      "source": [
        "# Evaluate the Bert classifier for unseen test data\n",
        "evaluate_roc(probs, y_test,\"BERT-mini\", \"All types of hate speech\", \"All types of hate speech test data\")"
      ]
    },
    {
      "cell_type": "markdown",
      "id": "copyrighted-novelty",
      "metadata": {
        "papermill": {
          "duration": 0.144574,
          "end_time": "2021-06-12T10:08:03.168099",
          "exception": false,
          "start_time": "2021-06-12T10:08:03.023525",
          "status": "completed"
        },
        "tags": [],
        "id": "copyrighted-novelty"
      },
      "source": [
        "<a id=\"2.2\"> </a>\n",
        "### BERT-mini without emojis"
      ]
    },
    {
      "cell_type": "markdown",
      "id": "mighty-packet",
      "metadata": {
        "papermill": {
          "duration": 0.143264,
          "end_time": "2021-06-12T10:08:03.457101",
          "exception": false,
          "start_time": "2021-06-12T10:08:03.313837",
          "status": "completed"
        },
        "tags": [],
        "id": "mighty-packet"
      },
      "source": [
        "<a id=\"2.2.1\"> </a>\n",
        "##### Define modified preprocessing function"
      ]
    },
    {
      "cell_type": "code",
      "execution_count": 97,
      "id": "average-penetration",
      "metadata": {
        "execution": {
          "iopub.execute_input": "2021-06-12T10:08:03.934670Z",
          "iopub.status.busy": "2021-06-12T10:08:03.933152Z",
          "iopub.status.idle": "2021-06-12T10:08:03.936004Z",
          "shell.execute_reply": "2021-06-12T10:08:03.935361Z"
        },
        "papermill": {
          "duration": 0.245972,
          "end_time": "2021-06-12T10:08:03.936153",
          "exception": false,
          "start_time": "2021-06-12T10:08:03.690181",
          "status": "completed"
        },
        "tags": [],
        "id": "average-penetration"
      },
      "outputs": [],
      "source": [
        "def remove_emojis(sent):\n",
        "    text =  emoji.demojize(sent)\n",
        "    text= re.sub(r'(:[!_\\-\\w]+:)', '', text)\n",
        "    return text"
      ]
    },
    {
      "cell_type": "code",
      "execution_count": 98,
      "id": "french-cookie",
      "metadata": {
        "execution": {
          "iopub.execute_input": "2021-06-12T10:08:04.258756Z",
          "iopub.status.busy": "2021-06-12T10:08:04.257906Z",
          "iopub.status.idle": "2021-06-12T10:08:04.260532Z",
          "shell.execute_reply": "2021-06-12T10:08:04.260112Z"
        },
        "papermill": {
          "duration": 0.15105,
          "end_time": "2021-06-12T10:08:04.260665",
          "exception": false,
          "start_time": "2021-06-12T10:08:04.109615",
          "status": "completed"
        },
        "tags": [],
        "id": "french-cookie"
      },
      "outputs": [],
      "source": [
        "# Redefine the text_processing function to include the remove emojis step\n",
        "def text_preprocessing_no_emojis(text):\n",
        "    \"\"\"\n",
        "    - Remove entity mentions (eg. '@united')\n",
        "    - Correct errors (eg. '&amp;' to '&')\n",
        "    @param    text (str): a string to be processed.\n",
        "    @return   text (Str): the processed string.\n",
        "    \"\"\"\n",
        "  \n",
        "    # Remove emojis\n",
        "    text = remove_emojis(text)\n",
        "\n",
        "    return text_preprocessing(text)"
      ]
    },
    {
      "cell_type": "markdown",
      "id": "recreational-aquarium",
      "metadata": {
        "papermill": {
          "duration": 0.143872,
          "end_time": "2021-06-12T10:08:04.549145",
          "exception": false,
          "start_time": "2021-06-12T10:08:04.405273",
          "status": "completed"
        },
        "tags": [],
        "id": "recreational-aquarium"
      },
      "source": [
        "<a id=\"2.2.2\"> </a>\n",
        "##### Preprocess and create data loaders"
      ]
    },
    {
      "cell_type": "code",
      "execution_count": 99,
      "id": "advised-alcohol",
      "metadata": {
        "execution": {
          "iopub.execute_input": "2021-06-12T10:08:04.845855Z",
          "iopub.status.busy": "2021-06-12T10:08:04.845188Z",
          "iopub.status.idle": "2021-06-12T10:08:31.434923Z",
          "shell.execute_reply": "2021-06-12T10:08:31.434440Z"
        },
        "papermill": {
          "duration": 26.741652,
          "end_time": "2021-06-12T10:08:31.435059",
          "exception": false,
          "start_time": "2021-06-12T10:08:04.693407",
          "status": "completed"
        },
        "tags": [],
        "id": "advised-alcohol",
        "colab": {
          "base_uri": "https://localhost:8080/"
        },
        "outputId": "4572f4ff-5b3f-4366-d43b-9853ae5ea4e3"
      },
      "outputs": [
        {
          "output_type": "stream",
          "name": "stdout",
          "text": [
            "Original:  @USER ردينا ع التطنز 😏👊🏻\n",
            "Token IDs:  [2, 3147, 2230, 241, 3115, 7983, 3, 0, 0, 0, 0, 0, 0, 0, 0, 0, 0, 0, 0, 0, 0, 0, 0, 0, 0, 0, 0, 0, 0, 0, 0, 0, 0, 0, 0, 0, 0, 0, 0, 0, 0, 0, 0, 0, 0, 0, 0, 0, 0, 0, 0, 0, 0, 0, 0, 0, 0, 0, 0, 0, 0, 0, 0, 0, 0, 0, 0, 0, 0, 0, 0, 0, 0, 0, 0, 0, 0, 0, 0, 0, 0, 0, 0, 0, 0, 0, 0, 0, 0, 0, 0, 0, 0, 0, 0, 0, 0, 0, 0, 0, 0, 0, 0, 0, 0, 0, 0, 0, 0, 0, 0, 0, 0, 0, 0, 0, 0, 0, 0, 0, 0, 0, 0, 0, 0, 0, 0, 0, 0, 0, 0, 0, 0, 0, 0, 0, 0, 0, 0, 0, 0, 0, 0, 0, 0, 0, 0, 0, 0, 0, 0, 0, 0, 0, 0, 0, 0, 0, 0, 0, 0, 0, 0, 0, 0, 0, 0, 0, 0, 0, 0, 0, 0, 0, 0, 0, 0, 0, 0, 0, 0, 0, 0, 0, 0, 0, 0, 0, 0, 0, 0, 0, 0, 0, 0, 0, 0, 0, 0, 0, 0, 0, 0, 0, 0, 0, 0, 0, 0, 0, 0, 0, 0, 0, 0, 0, 0, 0, 0, 0, 0, 0, 0, 0, 0, 0, 0, 0, 0, 0, 0, 0, 0, 0, 0, 0, 0, 0, 0, 0, 0, 0, 0, 0, 0, 0, 0, 0, 0, 0, 0, 0, 0, 0, 0, 0, 0, 0, 0, 0, 0, 0, 0, 0, 0, 0, 0, 0, 0, 0, 0, 0, 0, 0, 0, 0, 0, 0, 0, 0]\n",
            "Tokenizing data...\n"
          ]
        }
      ],
      "source": [
        "# Specify `MAX_LEN`\n",
        "MAX_LEN =  280\n",
        "\n",
        "# Print sentence 0 and its encoded token ids\n",
        "token_ids = list(preprocessing_for_bert([X[0]], text_preprocessing_fn=text_preprocessing_no_emojis)[0].squeeze().numpy())\n",
        "print('Original: ', X[0])\n",
        "print('Token IDs: ', token_ids)\n",
        "\n",
        "# Run function `preprocessing_for_bert` on the train set and the validation set\n",
        "print('Tokenizing data...')\n",
        "train_inputs, train_masks = preprocessing_for_bert(X_train, text_preprocessing_fn=text_preprocessing_no_emojis)\n",
        "val_inputs, val_masks = preprocessing_for_bert(X_val, text_preprocessing_fn=text_preprocessing_no_emojis)\n",
        "from torch.utils.data import TensorDataset, DataLoader, RandomSampler, SequentialSampler\n",
        "\n",
        "# Convert other data types to torch.Tensor\n",
        "train_labels = torch.tensor(y_train)\n",
        "val_labels = torch.tensor(y_val)\n",
        "\n",
        "# For fine-tuning BERT, the authors recommend a batch size of 16 or 32.\n",
        "batch_size = 16\n",
        "\n",
        "# Create the DataLoader for our training set\n",
        "train_data = TensorDataset(train_inputs, train_masks, train_labels)\n",
        "train_sampler = RandomSampler(train_data)\n",
        "train_dataloader = DataLoader(train_data, sampler=train_sampler, batch_size=batch_size)\n",
        "\n",
        "# Create the DataLoader for our validation set\n",
        "val_data = TensorDataset(val_inputs, val_masks, val_labels)\n",
        "val_sampler = SequentialSampler(val_data)\n",
        "val_dataloader = DataLoader(val_data, sampler=val_sampler, batch_size=batch_size)"
      ]
    },
    {
      "cell_type": "markdown",
      "id": "checked-craps",
      "metadata": {
        "papermill": {
          "duration": 0.144038,
          "end_time": "2021-06-12T10:08:31.724528",
          "exception": false,
          "start_time": "2021-06-12T10:08:31.580490",
          "status": "completed"
        },
        "tags": [],
        "id": "checked-craps"
      },
      "source": [
        "<a id=\"2.2.3\"> </a>\n",
        "##### Train"
      ]
    },
    {
      "cell_type": "code",
      "execution_count": 100,
      "id": "talented-sending",
      "metadata": {
        "execution": {
          "iopub.execute_input": "2021-06-12T10:08:32.020488Z",
          "iopub.status.busy": "2021-06-12T10:08:32.018534Z",
          "iopub.status.idle": "2021-06-12T10:12:50.954646Z",
          "shell.execute_reply": "2021-06-12T10:12:50.955185Z"
        },
        "papermill": {
          "duration": 259.086339,
          "end_time": "2021-06-12T10:12:50.955395",
          "exception": false,
          "start_time": "2021-06-12T10:08:31.869056",
          "status": "completed"
        },
        "tags": [],
        "id": "talented-sending",
        "colab": {
          "base_uri": "https://localhost:8080/"
        },
        "outputId": "8036e539-f29a-4bc0-c708-5f087896eb73"
      },
      "outputs": [
        {
          "output_type": "stream",
          "name": "stderr",
          "text": [
            "Some weights of the model checkpoint at asafaya/bert-mini-arabic were not used when initializing BertModel: ['cls.predictions.transform.LayerNorm.bias', 'cls.predictions.bias', 'cls.predictions.decoder.bias', 'cls.predictions.decoder.weight', 'cls.predictions.transform.dense.weight', 'cls.predictions.transform.LayerNorm.weight', 'cls.predictions.transform.dense.bias']\n",
            "- This IS expected if you are initializing BertModel from the checkpoint of a model trained on another task or with another architecture (e.g. initializing a BertForSequenceClassification model from a BertForPreTraining model).\n",
            "- This IS NOT expected if you are initializing BertModel from the checkpoint of a model that you expect to be exactly identical (initializing a BertForSequenceClassification model from a BertForSequenceClassification model).\n",
            "/usr/local/lib/python3.9/dist-packages/transformers/optimization.py:391: FutureWarning: This implementation of AdamW is deprecated and will be removed in a future version. Use the PyTorch implementation torch.optim.AdamW instead, or set `no_deprecation_warning=True` to disable this warning\n",
            "  warnings.warn(\n"
          ]
        },
        {
          "output_type": "stream",
          "name": "stdout",
          "text": [
            "Start training...\n",
            "\n",
            " Epoch  |  Batch  |  Train Loss  |  Val Loss  |  Val Acc  |  Elapsed \n",
            "----------------------------------------------------------------------\n",
            "   1    |   20    |   0.471607   |     -      |     -     |   48.44  \n",
            "   1    |   40    |   0.374879   |     -      |     -     |   43.75  \n",
            "   1    |   60    |   0.334814   |     -      |     -     |   43.86  \n",
            "   1    |   80    |   0.330900   |     -      |     -     |   45.31  \n",
            "   1    |   100   |   0.248781   |     -      |     -     |   44.38  \n",
            "   1    |   120   |   0.271466   |     -      |     -     |   44.47  \n",
            "   1    |   140   |   0.324742   |     -      |     -     |   43.66  \n",
            "   1    |   160   |   0.321212   |     -      |     -     |   43.70  \n",
            "   1    |   180   |   0.264048   |     -      |     -     |   43.94  \n",
            "   1    |   200   |   0.275499   |     -      |     -     |   47.98  \n",
            "   1    |   220   |   0.326318   |     -      |     -     |   44.89  \n",
            "   1    |   240   |   0.310923   |     -      |     -     |   43.90  \n",
            "   1    |   260   |   0.305522   |     -      |     -     |   43.65  \n",
            "   1    |   280   |   0.263890   |     -      |     -     |   43.65  \n",
            "   1    |   300   |   0.243287   |     -      |     -     |   43.70  \n",
            "   1    |   320   |   0.300877   |     -      |     -     |   45.37  \n",
            "   1    |   340   |   0.259113   |     -      |     -     |   44.93  \n",
            "   1    |   360   |   0.330821   |     -      |     -     |   43.95  \n",
            "   1    |   380   |   0.245251   |     -      |     -     |   43.78  \n",
            "   1    |   400   |   0.302750   |     -      |     -     |   43.52  \n",
            "   1    |   420   |   0.270129   |     -      |     -     |   43.63  \n",
            "   1    |   440   |   0.256643   |     -      |     -     |   45.14  \n",
            "   1    |   460   |   0.269009   |     -      |     -     |   44.15  \n",
            "   1    |   480   |   0.229841   |     -      |     -     |   44.32  \n",
            "   1    |   481   |   0.023872   |     -      |     -     |   0.70   \n",
            "----------------------------------------------------------------------\n",
            "   1    |    -    |   0.296975   |  0.295602  |   90.16   |  1106.27 \n",
            "----------------------------------------------------------------------\n",
            "\n",
            "\n",
            " Epoch  |  Batch  |  Train Loss  |  Val Loss  |  Val Acc  |  Elapsed \n",
            "----------------------------------------------------------------------\n",
            "   2    |   20    |   0.209776   |     -      |     -     |   46.57  \n",
            "   2    |   40    |   0.231594   |     -      |     -     |   43.63  \n",
            "   2    |   60    |   0.165850   |     -      |     -     |   44.99  \n",
            "   2    |   80    |   0.182759   |     -      |     -     |   43.60  \n",
            "   2    |   100   |   0.261979   |     -      |     -     |   44.60  \n",
            "   2    |   120   |   0.265112   |     -      |     -     |   44.11  \n",
            "   2    |   140   |   0.221917   |     -      |     -     |   43.86  \n",
            "   2    |   160   |   0.295504   |     -      |     -     |   43.79  \n",
            "   2    |   180   |   0.226713   |     -      |     -     |   45.18  \n",
            "   2    |   200   |   0.196789   |     -      |     -     |   43.77  \n",
            "   2    |   220   |   0.209628   |     -      |     -     |   44.61  \n",
            "   2    |   240   |   0.248972   |     -      |     -     |   44.01  \n",
            "   2    |   260   |   0.229132   |     -      |     -     |   43.69  \n",
            "   2    |   280   |   0.262511   |     -      |     -     |   43.69  \n",
            "   2    |   300   |   0.198098   |     -      |     -     |   45.07  \n",
            "   2    |   320   |   0.210672   |     -      |     -     |   44.24  \n",
            "   2    |   340   |   0.258187   |     -      |     -     |   44.44  \n",
            "   2    |   360   |   0.226459   |     -      |     -     |   43.69  \n",
            "   2    |   380   |   0.294464   |     -      |     -     |   43.78  \n",
            "   2    |   400   |   0.146803   |     -      |     -     |   43.70  \n",
            "   2    |   420   |   0.209756   |     -      |     -     |   45.62  \n",
            "   2    |   440   |   0.249423   |     -      |     -     |   44.67  \n",
            "   2    |   460   |   0.218767   |     -      |     -     |   43.84  \n",
            "   2    |   480   |   0.207820   |     -      |     -     |   43.65  \n",
            "   2    |   481   |   0.115899   |     -      |     -     |   0.68   \n",
            "----------------------------------------------------------------------\n",
            "   2    |    -    |   0.225932   |  0.238240  |   90.16   |  1102.13 \n",
            "----------------------------------------------------------------------\n",
            "\n",
            "\n",
            "Training complete!\n"
          ]
        }
      ],
      "source": [
        "set_seed(42) \n",
        "bert_classifier, optimizer, scheduler = initialize_model(epochs=2)\n",
        "train(bert_classifier, train_dataloader, val_dataloader, epochs=2, evaluation=True)"
      ]
    },
    {
      "cell_type": "markdown",
      "id": "interior-calcium",
      "metadata": {
        "papermill": {
          "duration": 0.209213,
          "end_time": "2021-06-12T10:12:51.798655",
          "exception": false,
          "start_time": "2021-06-12T10:12:51.589442",
          "status": "completed"
        },
        "tags": [],
        "id": "interior-calcium"
      },
      "source": [
        "<a id=\"2.2.4\"> </a>\n",
        "##### Evaluate on test datasets"
      ]
    },
    {
      "cell_type": "code",
      "source": [
        "# Evaluate the performance of a model on test datasets\n",
        "def evaluate_dataset(sents, labels, model_name, dataset_name, test_dataset_name):\n",
        "    test_inputs, test_masks = preprocessing_for_bert(sents)\n",
        "\n",
        "    # Create the DataLoader for our test set\n",
        "    test_dataset = TensorDataset(test_inputs, test_masks)\n",
        "    test_sampler = SequentialSampler(test_dataset)\n",
        "    test_dataloader = DataLoader(test_dataset, sampler=test_sampler, batch_size=32)\n",
        "    # Compute predicted probabilities on the test set\n",
        "    probs = bert_predict(bert_classifier, test_dataloader)\n",
        "\n",
        "    # Get predictions from the probabilities\n",
        "    threshold = 0.5\n",
        "    preds = np.where(probs[:, 1] > threshold, 1, 0)\n",
        "    auc_graph = evaluate_roc(probs, labels, model_name, dataset_name, test_dataset_name )\n",
        "\n",
        "    return auc_graph"
      ],
      "metadata": {
        "id": "zBSGaoUklwEY"
      },
      "id": "zBSGaoUklwEY",
      "execution_count": 101,
      "outputs": []
    },
    {
      "cell_type": "code",
      "execution_count": 102,
      "id": "suitable-trinidad",
      "metadata": {
        "execution": {
          "iopub.execute_input": "2021-06-12T10:12:52.226984Z",
          "iopub.status.busy": "2021-06-12T10:12:52.225029Z",
          "iopub.status.idle": "2021-06-12T10:13:03.818280Z",
          "shell.execute_reply": "2021-06-12T10:13:03.818789Z"
        },
        "papermill": {
          "duration": 11.810132,
          "end_time": "2021-06-12T10:13:03.818939",
          "exception": false,
          "start_time": "2021-06-12T10:12:52.008807",
          "status": "completed"
        },
        "tags": [],
        "id": "suitable-trinidad",
        "colab": {
          "base_uri": "https://localhost:8080/",
          "height": 330
        },
        "outputId": "24a1aca3-9b09-4ee2-bf47-303ef02f9d58"
      },
      "outputs": [
        {
          "output_type": "stream",
          "name": "stdout",
          "text": [
            "AUC: 0.9022\n",
            "Accuracy: 91.70%\n"
          ]
        },
        {
          "output_type": "display_data",
          "data": {
            "text/plain": [
              "<Figure size 432x288 with 1 Axes>"
            ],
            "image/png": "[encoded data removed]"
          },
          "metadata": {
            "needs_background": "light"
          }
        }
      ],
      "source": [
        "# Evaluate on the unseen test data\n",
        "evaluate_dataset(X_test, y_test,\"BERT-mini no emojis\", \"All types of hate speech\", \"All types of hate speech test data\")"
      ]
    },
    {
      "cell_type": "markdown",
      "id": "southwest-brazilian",
      "metadata": {
        "papermill": {
          "duration": 0.22348,
          "end_time": "2021-06-12T10:14:43.357240",
          "exception": false,
          "start_time": "2021-06-12T10:14:43.133760",
          "status": "completed"
        },
        "tags": [],
        "id": "southwest-brazilian"
      },
      "source": [
        "<a id=\"2.3\"> </a>\n",
        "### BERT-base"
      ]
    },
    {
      "cell_type": "markdown",
      "id": "demanding-permit",
      "metadata": {
        "papermill": {
          "duration": 0.215441,
          "end_time": "2021-06-12T10:14:43.798873",
          "exception": false,
          "start_time": "2021-06-12T10:14:43.583432",
          "status": "completed"
        },
        "tags": [],
        "id": "demanding-permit"
      },
      "source": [
        "<a id=\"2.3.1\"> </a>\n",
        "##### Preprocess and create data loaders"
      ]
    },
    {
      "cell_type": "code",
      "execution_count": null,
      "id": "popular-guitar",
      "metadata": {
        "execution": {
          "iopub.execute_input": "2021-06-12T10:14:44.243085Z",
          "iopub.status.busy": "2021-06-12T10:14:44.242497Z",
          "iopub.status.idle": "2021-06-12T10:15:12.427777Z",
          "shell.execute_reply": "2021-06-12T10:15:12.426810Z"
        },
        "papermill": {
          "duration": 28.412526,
          "end_time": "2021-06-12T10:15:12.427931",
          "exception": false,
          "start_time": "2021-06-12T10:14:44.015405",
          "status": "completed"
        },
        "tags": [],
        "id": "popular-guitar"
      },
      "outputs": [],
      "source": [
        "# Specify `MAX_LEN`\n",
        "MAX_LEN =  280\n",
        "\n",
        "# Print sentence 0 and its encoded token ids\n",
        "token_ids = list(preprocessing_for_bert([X[0]], version=\"base\", text_preprocessing_fn=text_preprocessing_no_emojis)[0].squeeze().numpy())\n",
        "print('Original: ', X[0])\n",
        "print('Token IDs: ', token_ids)\n",
        "\n",
        "# Run function `preprocessing_for_bert` on the train set and the validation set\n",
        "print('Tokenizing data...')\n",
        "train_inputs, train_masks = preprocessing_for_bert(X_train, version=\"base\", text_preprocessing_fn=text_preprocessing_no_emojis)\n",
        "val_inputs, val_masks = preprocessing_for_bert(X_val, version=\"base\", text_preprocessing_fn=text_preprocessing_no_emojis)\n",
        "from torch.utils.data import TensorDataset, DataLoader, RandomSampler, SequentialSampler\n",
        "\n",
        "# Convert other data types to torch.Tensor\n",
        "train_labels = torch.tensor(y_train)\n",
        "val_labels = torch.tensor(y_val)\n",
        "\n",
        "# For fine-tuning BERT, the authors recommend a batch size of 16 or 32.\n",
        "batch_size = 16\n",
        "\n",
        "# Create the DataLoader for our training set\n",
        "train_data = TensorDataset(train_inputs, train_masks, train_labels)\n",
        "train_sampler = RandomSampler(train_data)\n",
        "train_dataloader = DataLoader(train_data, sampler=train_sampler, batch_size=batch_size)\n",
        "\n",
        "# Create the DataLoader for our validation set\n",
        "val_data = TensorDataset(val_inputs, val_masks, val_labels)\n",
        "val_sampler = SequentialSampler(val_data)\n",
        "val_dataloader = DataLoader(val_data, sampler=val_sampler, batch_size=batch_size)\n",
        "\n"
      ]
    },
    {
      "cell_type": "markdown",
      "id": "mounted-annual",
      "metadata": {
        "papermill": {
          "duration": 0.313019,
          "end_time": "2021-06-12T10:15:13.075070",
          "exception": false,
          "start_time": "2021-06-12T10:15:12.762051",
          "status": "completed"
        },
        "tags": [],
        "id": "mounted-annual"
      },
      "source": [
        "<a id=\"2.3.2\"> </a>\n",
        "##### Train"
      ]
    },
    {
      "cell_type": "code",
      "execution_count": null,
      "id": "norwegian-duncan",
      "metadata": {
        "execution": {
          "iopub.execute_input": "2021-06-12T10:15:13.535826Z",
          "iopub.status.busy": "2021-06-12T10:15:13.535132Z",
          "iopub.status.idle": "2021-06-12T10:57:27.147040Z",
          "shell.execute_reply": "2021-06-12T10:57:27.147482Z"
        },
        "papermill": {
          "duration": 2533.853388,
          "end_time": "2021-06-12T10:57:27.147637",
          "exception": false,
          "start_time": "2021-06-12T10:15:13.294249",
          "status": "completed"
        },
        "tags": [],
        "id": "norwegian-duncan"
      },
      "outputs": [],
      "source": [
        "set_seed(42) \n",
        "bert_classifier, optimizer, scheduler = initialize_model(epochs=2, version=\"base\")\n",
        "train(bert_classifier, train_dataloader, val_dataloader, epochs=2, evaluation=True)"
      ]
    },
    {
      "cell_type": "markdown",
      "id": "circular-march",
      "metadata": {
        "papermill": {
          "duration": 0.287437,
          "end_time": "2021-06-12T10:57:27.722525",
          "exception": false,
          "start_time": "2021-06-12T10:57:27.435088",
          "status": "completed"
        },
        "tags": [],
        "id": "circular-march"
      },
      "source": [
        "<a id=\"2.3.3\"> </a>\n",
        "##### Save trained model"
      ]
    },
    {
      "cell_type": "code",
      "execution_count": null,
      "id": "retired-jewelry",
      "metadata": {
        "execution": {
          "iopub.execute_input": "2021-06-12T10:57:28.446410Z",
          "iopub.status.busy": "2021-06-12T10:57:28.445422Z",
          "iopub.status.idle": "2021-06-12T10:57:28.984049Z",
          "shell.execute_reply": "2021-06-12T10:57:28.983534Z"
        },
        "papermill": {
          "duration": 0.976394,
          "end_time": "2021-06-12T10:57:28.984179",
          "exception": false,
          "start_time": "2021-06-12T10:57:28.007785",
          "status": "completed"
        },
        "tags": [],
        "id": "retired-jewelry"
      },
      "outputs": [],
      "source": [
        "import pickle\n",
        "filename = 'trained_model_base_without_emojis.sav'\n",
        "pickle.dump(bert_classifier, open(filename, 'wb'))"
      ]
    },
    {
      "cell_type": "markdown",
      "id": "abandoned-breath",
      "metadata": {
        "papermill": {
          "duration": 0.28972,
          "end_time": "2021-06-12T10:57:29.562321",
          "exception": false,
          "start_time": "2021-06-12T10:57:29.272601",
          "status": "completed"
        },
        "tags": [],
        "id": "abandoned-breath"
      },
      "source": [
        "<a id=\"2.3.4\"> </a>\n",
        "##### Evaluate on test datasets"
      ]
    },
    {
      "cell_type": "code",
      "execution_count": null,
      "id": "homeless-bacteria",
      "metadata": {
        "execution": {
          "iopub.execute_input": "2021-06-12T10:57:30.146519Z",
          "iopub.status.busy": "2021-06-12T10:57:30.145739Z",
          "iopub.status.idle": "2021-06-12T10:59:17.266327Z",
          "shell.execute_reply": "2021-06-12T10:59:17.265881Z"
        },
        "papermill": {
          "duration": 107.417185,
          "end_time": "2021-06-12T10:59:17.266444",
          "exception": false,
          "start_time": "2021-06-12T10:57:29.849259",
          "status": "completed"
        },
        "tags": [],
        "id": "homeless-bacteria"
      },
      "outputs": [],
      "source": [
        "# Evaluate on the unseen test data\n",
        "evaluate_dataset(X_test, y_test,\"BERT-base\", \"All types of hate speech\", \"All types of hate speech test data\")"
      ]
    }
  ],
  "metadata": {
    "kernelspec": {
      "display_name": "Python 3",
      "language": "python",
      "name": "python3"
    },
    "language_info": {
      "codemirror_mode": {
        "name": "ipython",
        "version": 3
      },
      "file_extension": ".py",
      "mimetype": "text/x-python",
      "name": "python",
      "nbconvert_exporter": "python",
      "pygments_lexer": "ipython3",
      "version": "3.7.10"
    },
    "papermill": {
      "default_parameters": {},
      "duration": 7262.338698,
      "end_time": "2021-06-12T11:57:01.382847",
      "environment_variables": {},
      "exception": null,
      "input_path": "__notebook__.ipynb",
      "output_path": "__notebook__.ipynb",
      "parameters": {},
      "start_time": "2021-06-12T09:55:59.044149",
      "version": "2.3.3"
    },
    "colab": {
      "provenance": []
    }
  },
  "nbformat": 4,
  "nbformat_minor": 5
}