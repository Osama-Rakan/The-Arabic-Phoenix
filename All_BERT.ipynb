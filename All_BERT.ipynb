{
  "cells": [
    {
      "cell_type": "code",
      "execution_count": 19,
      "id": "molecular-malawi",
      "metadata": {
        "_cell_guid": "b1076dfc-b9ad-4769-8c92-a6c4dae69d19",
        "_uuid": "8f2839f25d086af736a60e9eeb907d3b93b6e0e5",
        "execution": {
          "iopub.execute_input": "2021-06-12T09:56:06.201077Z",
          "iopub.status.busy": "2021-06-12T09:56:06.199718Z",
          "iopub.status.idle": "2021-06-12T09:56:06.202843Z",
          "shell.execute_reply": "2021-06-12T09:56:06.202342Z"
        },
        "papermill": {
          "duration": 0.075,
          "end_time": "2021-06-12T09:56:06.202977",
          "exception": false,
          "start_time": "2021-06-12T09:56:06.127977",
          "status": "completed"
        },
        "tags": [],
        "id": "molecular-malawi"
      },
      "outputs": [],
      "source": [
        "import os\n",
        "import re\n",
        "from tqdm import tqdm\n",
        "import numpy as np\n",
        "import pandas as pd\n",
        "import matplotlib.pyplot as plt\n",
        "import csv\n",
        "import nltk\n",
        "from nltk.tokenize import RegexpTokenizer\n",
        "nltk.download('popular', quiet=True)\n",
        "%matplotlib inline"
      ]
    },
    {
      "cell_type": "code",
      "execution_count": 2,
      "id": "royal-premises",
      "metadata": {
        "execution": {
          "iopub.execute_input": "2021-06-12T10:01:14.389592Z",
          "iopub.status.busy": "2021-06-12T10:01:14.389061Z",
          "iopub.status.idle": "2021-06-12T10:01:15.643084Z",
          "shell.execute_reply": "2021-06-12T10:01:15.643914Z"
        },
        "papermill": {
          "duration": 1.323788,
          "end_time": "2021-06-12T10:01:15.644112",
          "exception": false,
          "start_time": "2021-06-12T10:01:14.320324",
          "status": "completed"
        },
        "tags": [],
        "id": "royal-premises"
      },
      "outputs": [],
      "source": [
        "import torch\n",
        "device = torch.device(\"cpu\")"
      ]
    },
    {
      "cell_type": "code",
      "source": [
        "!pip install transformers"
      ],
      "metadata": {
        "colab": {
          "base_uri": "https://localhost:8080/"
        },
        "id": "7cAphhHouDb_",
        "outputId": "2c210996-0af9-4fc5-de2d-bf3ec184e0a8"
      },
      "id": "7cAphhHouDb_",
      "execution_count": 3,
      "outputs": [
        {
          "output_type": "stream",
          "name": "stdout",
          "text": [
            "Looking in indexes: https://pypi.org/simple, https://us-python.pkg.dev/colab-wheels/public/simple/\n",
            "Collecting transformers\n",
            "  Downloading transformers-4.27.4-py3-none-any.whl (6.8 MB)\n",
            "\u001b[2K     \u001b[90m━━━━━━━━━━━━━━━━━━━━━━━━━━━━━━━━━━━━━━━━\u001b[0m \u001b[32m6.8/6.8 MB\u001b[0m \u001b[31m46.6 MB/s\u001b[0m eta \u001b[36m0:00:00\u001b[0m\n",
            "\u001b[?25hRequirement already satisfied: filelock in /usr/local/lib/python3.9/dist-packages (from transformers) (3.10.7)\n",
            "Requirement already satisfied: packaging>=20.0 in /usr/local/lib/python3.9/dist-packages (from transformers) (23.0)\n",
            "Requirement already satisfied: regex!=2019.12.17 in /usr/local/lib/python3.9/dist-packages (from transformers) (2022.10.31)\n",
            "Requirement already satisfied: tqdm>=4.27 in /usr/local/lib/python3.9/dist-packages (from transformers) (4.65.0)\n",
            "Requirement already satisfied: requests in /usr/local/lib/python3.9/dist-packages (from transformers) (2.27.1)\n",
            "Requirement already satisfied: numpy>=1.17 in /usr/local/lib/python3.9/dist-packages (from transformers) (1.22.4)\n",
            "Requirement already satisfied: pyyaml>=5.1 in /usr/local/lib/python3.9/dist-packages (from transformers) (6.0)\n",
            "Collecting tokenizers!=0.11.3,<0.14,>=0.11.1\n",
            "  Downloading tokenizers-0.13.2-cp39-cp39-manylinux_2_17_x86_64.manylinux2014_x86_64.whl (7.6 MB)\n",
            "\u001b[2K     \u001b[90m━━━━━━━━━━━━━━━━━━━━━━━━━━━━━━━━━━━━━━━━\u001b[0m \u001b[32m7.6/7.6 MB\u001b[0m \u001b[31m73.4 MB/s\u001b[0m eta \u001b[36m0:00:00\u001b[0m\n",
            "\u001b[?25hCollecting huggingface-hub<1.0,>=0.11.0\n",
            "  Downloading huggingface_hub-0.13.3-py3-none-any.whl (199 kB)\n",
            "\u001b[2K     \u001b[90m━━━━━━━━━━━━━━━━━━━━━━━━━━━━━━━━━━━━━━\u001b[0m \u001b[32m199.8/199.8 KB\u001b[0m \u001b[31m21.1 MB/s\u001b[0m eta \u001b[36m0:00:00\u001b[0m\n",
            "\u001b[?25hRequirement already satisfied: typing-extensions>=3.7.4.3 in /usr/local/lib/python3.9/dist-packages (from huggingface-hub<1.0,>=0.11.0->transformers) (4.5.0)\n",
            "Requirement already satisfied: charset-normalizer~=2.0.0 in /usr/local/lib/python3.9/dist-packages (from requests->transformers) (2.0.12)\n",
            "Requirement already satisfied: idna<4,>=2.5 in /usr/local/lib/python3.9/dist-packages (from requests->transformers) (3.4)\n",
            "Requirement already satisfied: certifi>=2017.4.17 in /usr/local/lib/python3.9/dist-packages (from requests->transformers) (2022.12.7)\n",
            "Requirement already satisfied: urllib3<1.27,>=1.21.1 in /usr/local/lib/python3.9/dist-packages (from requests->transformers) (1.26.15)\n",
            "Installing collected packages: tokenizers, huggingface-hub, transformers\n",
            "Successfully installed huggingface-hub-0.13.3 tokenizers-0.13.2 transformers-4.27.4\n"
          ]
        }
      ]
    },
    {
      "cell_type": "code",
      "execution_count": 4,
      "id": "cardiovascular-direction",
      "metadata": {
        "execution": {
          "iopub.execute_input": "2021-06-12T10:01:15.781069Z",
          "iopub.status.busy": "2021-06-12T10:01:15.780402Z",
          "iopub.status.idle": "2021-06-12T10:01:16.428113Z",
          "shell.execute_reply": "2021-06-12T10:01:16.427440Z"
        },
        "papermill": {
          "duration": 0.71763,
          "end_time": "2021-06-12T10:01:16.428248",
          "exception": false,
          "start_time": "2021-06-12T10:01:15.710618",
          "status": "completed"
        },
        "tags": [],
        "id": "cardiovascular-direction"
      },
      "outputs": [],
      "source": [
        "from transformers import AutoTokenizer, AutoModel"
      ]
    },
    {
      "cell_type": "code",
      "execution_count": 5,
      "id": "valuable-tomato",
      "metadata": {
        "execution": {
          "iopub.execute_input": "2021-06-12T10:01:16.857649Z",
          "iopub.status.busy": "2021-06-12T10:01:16.856746Z",
          "iopub.status.idle": "2021-06-12T10:01:18.134513Z",
          "shell.execute_reply": "2021-06-12T10:01:18.134084Z"
        },
        "papermill": {
          "duration": 1.39331,
          "end_time": "2021-06-12T10:01:18.134658",
          "exception": false,
          "start_time": "2021-06-12T10:01:16.741348",
          "status": "completed"
        },
        "tags": [],
        "id": "valuable-tomato",
        "colab": {
          "base_uri": "https://localhost:8080/",
          "height": 145,
          "referenced_widgets": [
            "e7f9f39d0ecb4e0a9816b67c4d1b96c9",
            "c58c18f609a242c0828ceb05f89b3338",
            "2a22733f5a2847e89368912a13c3e2dc",
            "a565365ec4904df686cf7967f261df64",
            "6334249028d54ed891c22475b110c00d",
            "f1f6ba5ac9ef4f13a8ebd1cdf5d75c74",
            "5b50ce0b239548049c8f7f31d3795768",
            "39c13c3c2b07430e95882bb20757a67e",
            "41242de0c6c44f2f928acd1fc95ab4cd",
            "52943ba3586a48979d769d39024e142a",
            "ab43f884e65947fca1077d2a9068cd33",
            "de59f7a182834ee9b7cea474982f426f",
            "a70863092589432992eba869691371dd",
            "f4d589d537484c84a31ed396151175cc",
            "4d83b86fd68d4af58be382c72f38cf30",
            "462a0f07dfb642b0b68a6c5f8545df34",
            "797db86efe0f4856b9cc2f6f6f1ef5b3",
            "cc9baf6599fb46958c3dac12b901557a",
            "80a706c1ca9a403eb674efe92a24fb26",
            "b73a449f6d81438d95144f80c65d1dd6",
            "0f3e59e4ebac4fa0a7c38e04f02a58f4",
            "4c20747bb0ad4a05bc81043215ae5c4f",
            "efe3988a60ff48d0a7b0a211a22997dd",
            "7b15b47d83e844819505d5fbe7ef89bf",
            "cfb5496b7b82481ab129dc349b163108",
            "4b975fb0996c4c548306123303c002ef",
            "5de26ecbff864b35834d46e9783fc74f",
            "4b7eefd9e4e3485ca559be790d1961a4",
            "c433d7296cd54ffdbb9dac27fb975e80",
            "bdb7d39b1ee2453c8e5da9d3c6c13e41",
            "c4e86ef310f441899fca69ec01bdbcbc",
            "3447d3f173274a10bf1ad25956e4d003",
            "bd559a489af142109ed6068ad30b4aa3",
            "d1709f7c6967477eb85780219979c334",
            "5988df21d52a46cdb45098939fcbfcec",
            "0afa8c641d814b76aeccf6b64a240132",
            "0ce1831c40454989a8b30bb79264e444",
            "ef4fca995aa14c21a761cb13ecc2ede5",
            "0175df25314a44bd9f44ef64b8adf8dc",
            "bd97016484a4457ca83a405806924eac",
            "6fcaab0065a44ac7bbb55278f55dc540",
            "8defe4432b434519bf1195ec4a0bb42b",
            "8381b42ee6e542e7a25fd59e1058b1c3",
            "b882e4dedbfe40449be3b88782a072c1"
          ]
        },
        "outputId": "5e45b2a3-7f27-4d9b-b424-b14a3c22c856"
      },
      "outputs": [
        {
          "output_type": "display_data",
          "data": {
            "text/plain": [
              "Downloading (…)okenizer_config.json:   0%|          | 0.00/62.0 [00:00<?, ?B/s]"
            ],
            "application/vnd.jupyter.widget-view+json": {
              "version_major": 2,
              "version_minor": 0,
              "model_id": "e7f9f39d0ecb4e0a9816b67c4d1b96c9"
            }
          },
          "metadata": {}
        },
        {
          "output_type": "display_data",
          "data": {
            "text/plain": [
              "Downloading (…)lve/main/config.json:   0%|          | 0.00/509 [00:00<?, ?B/s]"
            ],
            "application/vnd.jupyter.widget-view+json": {
              "version_major": 2,
              "version_minor": 0,
              "model_id": "de59f7a182834ee9b7cea474982f426f"
            }
          },
          "metadata": {}
        },
        {
          "output_type": "display_data",
          "data": {
            "text/plain": [
              "Downloading (…)solve/main/vocab.txt:   0%|          | 0.00/334k [00:00<?, ?B/s]"
            ],
            "application/vnd.jupyter.widget-view+json": {
              "version_major": 2,
              "version_minor": 0,
              "model_id": "efe3988a60ff48d0a7b0a211a22997dd"
            }
          },
          "metadata": {}
        },
        {
          "output_type": "display_data",
          "data": {
            "text/plain": [
              "Downloading (…)cial_tokens_map.json:   0%|          | 0.00/112 [00:00<?, ?B/s]"
            ],
            "application/vnd.jupyter.widget-view+json": {
              "version_major": 2,
              "version_minor": 0,
              "model_id": "d1709f7c6967477eb85780219979c334"
            }
          },
          "metadata": {}
        }
      ],
      "source": [
        "tokenizer = AutoTokenizer.from_pretrained(\"asafaya/bert-mini-arabic\")"
      ]
    },
    {
      "cell_type": "markdown",
      "id": "spare-singapore",
      "metadata": {
        "papermill": {
          "duration": 0.066995,
          "end_time": "2021-06-12T10:01:18.269322",
          "exception": false,
          "start_time": "2021-06-12T10:01:18.202327",
          "status": "completed"
        },
        "tags": [],
        "id": "spare-singapore"
      },
      "source": [
        "<a id=\"2.1.1\"> </a>\n",
        "##### Preprocessing"
      ]
    },
    {
      "cell_type": "code",
      "execution_count": 34,
      "id": "better-taste",
      "metadata": {
        "execution": {
          "iopub.execute_input": "2021-06-12T10:01:18.408836Z",
          "iopub.status.busy": "2021-06-12T10:01:18.408062Z",
          "iopub.status.idle": "2021-06-12T10:01:18.410678Z",
          "shell.execute_reply": "2021-06-12T10:01:18.410266Z"
        },
        "papermill": {
          "duration": 0.074711,
          "end_time": "2021-06-12T10:01:18.410795",
          "exception": false,
          "start_time": "2021-06-12T10:01:18.336084",
          "status": "completed"
        },
        "tags": [],
        "id": "better-taste"
      },
      "outputs": [],
      "source": [
        "# Define preprocessing util function\n",
        "def text_preprocessing(document):\n",
        "  # Remove URLs\n",
        "  document = re.sub('(https|http).+', '', document)\n",
        "\n",
        "  # Remove mentions and hashtags\n",
        "  document = re.sub('[@#]\\w+', '', document)\n",
        "\n",
        "  # Remove english characters\n",
        "  document = re.sub(r'\\s*[A-Za-z]+\\b', '' , document)\n",
        "\n",
        "  # Replacing the multiple spaces between words with 1 space\n",
        "  document = re.sub(' +', ' ', document)\n",
        "\n",
        "\n",
        "  return document"
      ]
    },
    {
      "cell_type": "code",
      "source": [
        "text_preprocessing('مرحبا كيفك Te 88 😣')"
      ],
      "metadata": {
        "colab": {
          "base_uri": "https://localhost:8080/",
          "height": 36
        },
        "id": "ItkwueWcF8eN",
        "outputId": "76331223-0c3e-4da3-af37-7206f20cdb9a"
      },
      "id": "ItkwueWcF8eN",
      "execution_count": 35,
      "outputs": [
        {
          "output_type": "execute_result",
          "data": {
            "text/plain": [
              "'مرحبا كيفك 88 😣'"
            ],
            "application/vnd.google.colaboratory.intrinsic+json": {
              "type": "string"
            }
          },
          "metadata": {},
          "execution_count": 35
        }
      ]
    },
    {
      "cell_type": "code",
      "source": [
        "!pip install emoji"
      ],
      "metadata": {
        "colab": {
          "base_uri": "https://localhost:8080/"
        },
        "id": "Zr7lXDQnuVUy",
        "outputId": "78b49468-f95a-41e4-f5b7-8f56062a7c16"
      },
      "id": "Zr7lXDQnuVUy",
      "execution_count": 36,
      "outputs": [
        {
          "output_type": "stream",
          "name": "stdout",
          "text": [
            "Looking in indexes: https://pypi.org/simple, https://us-python.pkg.dev/colab-wheels/public/simple/\n",
            "Requirement already satisfied: emoji in /usr/local/lib/python3.9/dist-packages (2.2.0)\n"
          ]
        }
      ]
    },
    {
      "cell_type": "code",
      "execution_count": 37,
      "id": "great-delivery",
      "metadata": {
        "execution": {
          "iopub.execute_input": "2021-06-12T10:01:18.551727Z",
          "iopub.status.busy": "2021-06-12T10:01:18.551158Z",
          "iopub.status.idle": "2021-06-12T10:01:18.572180Z",
          "shell.execute_reply": "2021-06-12T10:01:18.571778Z"
        },
        "papermill": {
          "duration": 0.094486,
          "end_time": "2021-06-12T10:01:18.572288",
          "exception": false,
          "start_time": "2021-06-12T10:01:18.477802",
          "status": "completed"
        },
        "tags": [],
        "id": "great-delivery"
      },
      "outputs": [],
      "source": [
        "# Create a function to tokenize a set of texts\n",
        "import emoji\n",
        "import unicodedata\n",
        "def preprocessing_for_bert(data, version=\"mini\", text_preprocessing_fn = text_preprocessing ):\n",
        "    \"\"\"Perform required preprocessing steps for pretrained BERT.\n",
        "    @param    data (np.array): Array of texts to be processed.\n",
        "    @return   input_ids (torch.Tensor): Tensor of token ids to be fed to a model.\n",
        "    @return   attention_masks (torch.Tensor): Tensor of indices specifying which\n",
        "                  tokens should be attended to by the model.\n",
        "    \"\"\"\n",
        "    # Create empty lists to store outputs\n",
        "    input_ids = []\n",
        "    attention_masks = []\n",
        "    tokenizer = AutoTokenizer.from_pretrained(\"asafaya/bert-mini-arabic\") if version == \"mini\" else AutoTokenizer.from_pretrained(\"asafaya/bert-base-arabic\")\n",
        "\n",
        "    # For every sentence...\n",
        "    for i,sent in enumerate(data):\n",
        "        # `encode_plus` will:\n",
        "        #    (1) Tokenize the sentence\n",
        "        #    (2) Add the `[CLS]` and `[SEP]` token to the start and end\n",
        "        #    (3) Truncate/Pad sentence to max length\n",
        "        #    (4) Map tokens to their IDs\n",
        "        #    (5) Create attention mask\n",
        "        #    (6) Return a dictionary of outputs\n",
        "        encoded_sent = tokenizer.encode_plus(\n",
        "            text=text_preprocessing_fn(sent),  # Preprocess sentence\n",
        "            add_special_tokens=True,        # Add `[CLS]` and `[SEP]`\n",
        "            max_length=MAX_LEN,                  # Max length to truncate/pad\n",
        "            padding='max_length',        # Pad sentence to max length\n",
        "            #return_tensors='pt',           # Return PyTorch tensor\n",
        "            return_attention_mask=True,     # Return attention mask\n",
        "            truncation = True \n",
        "            )\n",
        "        \n",
        "        # Add the outputs to the lists\n",
        "        input_ids.append(encoded_sent.get('input_ids'))\n",
        "        attention_masks.append(encoded_sent.get('attention_mask'))\n",
        "    # Convert lists to tensors\n",
        "    input_ids = torch.tensor(input_ids)\n",
        "    attention_masks = torch.tensor(attention_masks)\n",
        "\n",
        "    return input_ids, attention_masks"
      ]
    },
    {
      "cell_type": "code",
      "source": [
        "train = pd.read_csv('/content/OSACT2022-sharedTask-train.txt', sep='\\t', header=None)\n",
        "train.columns = ['drop1', 'text', 'drop2', 'label', 'drop3', 'drop4']\n",
        "train.drop(['drop1', 'drop2', 'drop3', 'drop4'], axis=1, inplace=True)\n",
        "train['label'].replace('NOT_HS', 0, inplace=True)\n",
        "train['label'].replace('HS1', 1, inplace=True)\n",
        "train['label'].replace('HS2', 1, inplace=True)\n",
        "train['label'].replace('HS3', 1, inplace=True)\n",
        "train['label'].replace('HS4', 1, inplace=True)\n",
        "train['label'].replace('HS5', 1, inplace=True)\n",
        "train['label'].replace('HS6', 1, inplace=True)\n",
        "\n",
        "print(train['label'].value_counts())\n",
        "train"
      ],
      "metadata": {
        "colab": {
          "base_uri": "https://localhost:8080/",
          "height": 475
        },
        "id": "_w6HHj2BvwsJ",
        "outputId": "02cfbed3-a1c0-46e5-d8cd-1e09930729d2"
      },
      "id": "_w6HHj2BvwsJ",
      "execution_count": 38,
      "outputs": [
        {
          "output_type": "stream",
          "name": "stdout",
          "text": [
            "0    7634\n",
            "1     923\n",
            "Name: label, dtype: int64\n"
          ]
        },
        {
          "output_type": "execute_result",
          "data": {
            "text/plain": [
              "                                                   text  label\n",
              "0                              @USER ردينا ع التطنز 😏👊🏻      0\n",
              "1                  وصارت فطاير البقالات غذاء صحي 👎🏻 URL      0\n",
              "2     @USER روحي لبريده تلقين اشباه كثير بس ماحد زيك...      0\n",
              "3            @USER مش باين حاجه خالص 😣<LF>مش عارف بقى 😔      0\n",
              "4     #اليوم_الاثنين<LF><LF>👏 يقولك :%90  من المسلمي...      0\n",
              "...                                                 ...    ...\n",
              "8552                                @USER الله يلعنهم 🤢      0\n",
              "8553  واحد سال زوجته بعد كم سنة زواج:<LF>- حبيبتي كم...      0\n",
              "8554  @USER يالله روح زي الشاطر واحذف الشو الي سويته...      0\n",
              "8555  لـمـا الـكـلاب تـهـوهـو عـلـيـك🐶🐶 وأنـت_اللـى_...      0\n",
              "8556  #بايع_الكليجا<LF><LF>الله ياخذكم ي بنات خلوني ...      0\n",
              "\n",
              "[8557 rows x 2 columns]"
            ],
            "text/html": [
              "\n",
              "  <div id=\"df-99cf63b6-9b3a-4b07-b1c5-3fccb66f6172\">\n",
              "    <div class=\"colab-df-container\">\n",
              "      <div>\n",
              "<style scoped>\n",
              "    .dataframe tbody tr th:only-of-type {\n",
              "        vertical-align: middle;\n",
              "    }\n",
              "\n",
              "    .dataframe tbody tr th {\n",
              "        vertical-align: top;\n",
              "    }\n",
              "\n",
              "    .dataframe thead th {\n",
              "        text-align: right;\n",
              "    }\n",
              "</style>\n",
              "<table border=\"1\" class=\"dataframe\">\n",
              "  <thead>\n",
              "    <tr style=\"text-align: right;\">\n",
              "      <th></th>\n",
              "      <th>text</th>\n",
              "      <th>label</th>\n",
              "    </tr>\n",
              "  </thead>\n",
              "  <tbody>\n",
              "    <tr>\n",
              "      <th>0</th>\n",
              "      <td>@USER ردينا ع التطنز 😏👊🏻</td>\n",
              "      <td>0</td>\n",
              "    </tr>\n",
              "    <tr>\n",
              "      <th>1</th>\n",
              "      <td>وصارت فطاير البقالات غذاء صحي 👎🏻 URL</td>\n",
              "      <td>0</td>\n",
              "    </tr>\n",
              "    <tr>\n",
              "      <th>2</th>\n",
              "      <td>@USER روحي لبريده تلقين اشباه كثير بس ماحد زيك...</td>\n",
              "      <td>0</td>\n",
              "    </tr>\n",
              "    <tr>\n",
              "      <th>3</th>\n",
              "      <td>@USER مش باين حاجه خالص 😣&lt;LF&gt;مش عارف بقى 😔</td>\n",
              "      <td>0</td>\n",
              "    </tr>\n",
              "    <tr>\n",
              "      <th>4</th>\n",
              "      <td>#اليوم_الاثنين&lt;LF&gt;&lt;LF&gt;👏 يقولك :%90  من المسلمي...</td>\n",
              "      <td>0</td>\n",
              "    </tr>\n",
              "    <tr>\n",
              "      <th>...</th>\n",
              "      <td>...</td>\n",
              "      <td>...</td>\n",
              "    </tr>\n",
              "    <tr>\n",
              "      <th>8552</th>\n",
              "      <td>@USER الله يلعنهم 🤢</td>\n",
              "      <td>0</td>\n",
              "    </tr>\n",
              "    <tr>\n",
              "      <th>8553</th>\n",
              "      <td>واحد سال زوجته بعد كم سنة زواج:&lt;LF&gt;- حبيبتي كم...</td>\n",
              "      <td>0</td>\n",
              "    </tr>\n",
              "    <tr>\n",
              "      <th>8554</th>\n",
              "      <td>@USER يالله روح زي الشاطر واحذف الشو الي سويته...</td>\n",
              "      <td>0</td>\n",
              "    </tr>\n",
              "    <tr>\n",
              "      <th>8555</th>\n",
              "      <td>لـمـا الـكـلاب تـهـوهـو عـلـيـك🐶🐶 وأنـت_اللـى_...</td>\n",
              "      <td>0</td>\n",
              "    </tr>\n",
              "    <tr>\n",
              "      <th>8556</th>\n",
              "      <td>#بايع_الكليجا&lt;LF&gt;&lt;LF&gt;الله ياخذكم ي بنات خلوني ...</td>\n",
              "      <td>0</td>\n",
              "    </tr>\n",
              "  </tbody>\n",
              "</table>\n",
              "<p>8557 rows × 2 columns</p>\n",
              "</div>\n",
              "      <button class=\"colab-df-convert\" onclick=\"convertToInteractive('df-99cf63b6-9b3a-4b07-b1c5-3fccb66f6172')\"\n",
              "              title=\"Convert this dataframe to an interactive table.\"\n",
              "              style=\"display:none;\">\n",
              "        \n",
              "  <svg xmlns=\"http://www.w3.org/2000/svg\" height=\"24px\"viewBox=\"0 0 24 24\"\n",
              "       width=\"24px\">\n",
              "    <path d=\"M0 0h24v24H0V0z\" fill=\"none\"/>\n",
              "    <path d=\"M18.56 5.44l.94 2.06.94-2.06 2.06-.94-2.06-.94-.94-2.06-.94 2.06-2.06.94zm-11 1L8.5 8.5l.94-2.06 2.06-.94-2.06-.94L8.5 2.5l-.94 2.06-2.06.94zm10 10l.94 2.06.94-2.06 2.06-.94-2.06-.94-.94-2.06-.94 2.06-2.06.94z\"/><path d=\"M17.41 7.96l-1.37-1.37c-.4-.4-.92-.59-1.43-.59-.52 0-1.04.2-1.43.59L10.3 9.45l-7.72 7.72c-.78.78-.78 2.05 0 2.83L4 21.41c.39.39.9.59 1.41.59.51 0 1.02-.2 1.41-.59l7.78-7.78 2.81-2.81c.8-.78.8-2.07 0-2.86zM5.41 20L4 18.59l7.72-7.72 1.47 1.35L5.41 20z\"/>\n",
              "  </svg>\n",
              "      </button>\n",
              "      \n",
              "  <style>\n",
              "    .colab-df-container {\n",
              "      display:flex;\n",
              "      flex-wrap:wrap;\n",
              "      gap: 12px;\n",
              "    }\n",
              "\n",
              "    .colab-df-convert {\n",
              "      background-color: #E8F0FE;\n",
              "      border: none;\n",
              "      border-radius: 50%;\n",
              "      cursor: pointer;\n",
              "      display: none;\n",
              "      fill: #1967D2;\n",
              "      height: 32px;\n",
              "      padding: 0 0 0 0;\n",
              "      width: 32px;\n",
              "    }\n",
              "\n",
              "    .colab-df-convert:hover {\n",
              "      background-color: #E2EBFA;\n",
              "      box-shadow: 0px 1px 2px rgba(60, 64, 67, 0.3), 0px 1px 3px 1px rgba(60, 64, 67, 0.15);\n",
              "      fill: #174EA6;\n",
              "    }\n",
              "\n",
              "    [theme=dark] .colab-df-convert {\n",
              "      background-color: #3B4455;\n",
              "      fill: #D2E3FC;\n",
              "    }\n",
              "\n",
              "    [theme=dark] .colab-df-convert:hover {\n",
              "      background-color: #434B5C;\n",
              "      box-shadow: 0px 1px 3px 1px rgba(0, 0, 0, 0.15);\n",
              "      filter: drop-shadow(0px 1px 2px rgba(0, 0, 0, 0.3));\n",
              "      fill: #FFFFFF;\n",
              "    }\n",
              "  </style>\n",
              "\n",
              "      <script>\n",
              "        const buttonEl =\n",
              "          document.querySelector('#df-99cf63b6-9b3a-4b07-b1c5-3fccb66f6172 button.colab-df-convert');\n",
              "        buttonEl.style.display =\n",
              "          google.colab.kernel.accessAllowed ? 'block' : 'none';\n",
              "\n",
              "        async function convertToInteractive(key) {\n",
              "          const element = document.querySelector('#df-99cf63b6-9b3a-4b07-b1c5-3fccb66f6172');\n",
              "          const dataTable =\n",
              "            await google.colab.kernel.invokeFunction('convertToInteractive',\n",
              "                                                     [key], {});\n",
              "          if (!dataTable) return;\n",
              "\n",
              "          const docLinkHtml = 'Like what you see? Visit the ' +\n",
              "            '<a target=\"_blank\" href=https://colab.research.google.com/notebooks/data_table.ipynb>data table notebook</a>'\n",
              "            + ' to learn more about interactive tables.';\n",
              "          element.innerHTML = '';\n",
              "          dataTable['output_type'] = 'display_data';\n",
              "          await google.colab.output.renderOutput(dataTable, element);\n",
              "          const docLink = document.createElement('div');\n",
              "          docLink.innerHTML = docLinkHtml;\n",
              "          element.appendChild(docLink);\n",
              "        }\n",
              "      </script>\n",
              "    </div>\n",
              "  </div>\n",
              "  "
            ]
          },
          "metadata": {},
          "execution_count": 38
        }
      ]
    },
    {
      "cell_type": "code",
      "source": [
        "from sklearn.model_selection import train_test_split\n",
        "\n",
        "X = train.text.values\n",
        "y = train.label.values\n",
        "X_train, X_val, y_train, y_val = train_test_split(X,y,test_size=0.1, random_state=2023)"
      ],
      "metadata": {
        "id": "AsYhHVULvwud"
      },
      "id": "AsYhHVULvwud",
      "execution_count": 39,
      "outputs": []
    },
    {
      "cell_type": "code",
      "execution_count": 40,
      "id": "boring-noise",
      "metadata": {
        "execution": {
          "iopub.execute_input": "2021-06-12T10:01:18.712320Z",
          "iopub.status.busy": "2021-06-12T10:01:18.711648Z",
          "iopub.status.idle": "2021-06-12T10:01:33.714410Z",
          "shell.execute_reply": "2021-06-12T10:01:33.713835Z"
        },
        "papermill": {
          "duration": 15.075458,
          "end_time": "2021-06-12T10:01:33.714557",
          "exception": false,
          "start_time": "2021-06-12T10:01:18.639099",
          "status": "completed"
        },
        "tags": [],
        "colab": {
          "base_uri": "https://localhost:8080/"
        },
        "id": "boring-noise",
        "outputId": "cfc9f267-2b93-4e0f-c761-7440c027a718"
      },
      "outputs": [
        {
          "output_type": "stream",
          "name": "stdout",
          "text": [
            "Original:  @USER ردينا ع التطنز 😏👊🏻\n",
            "Token IDs:  [2, 3147, 2230, 241, 3115, 7983, 1, 3, 0, 0, 0, 0, 0, 0, 0, 0, 0, 0, 0, 0, 0, 0, 0, 0, 0, 0, 0, 0, 0, 0, 0, 0, 0, 0, 0, 0, 0, 0, 0, 0, 0, 0, 0, 0, 0, 0, 0, 0, 0, 0, 0, 0, 0, 0, 0, 0, 0, 0, 0, 0, 0, 0, 0, 0, 0, 0, 0, 0, 0, 0, 0, 0, 0, 0, 0, 0, 0, 0, 0, 0, 0, 0, 0, 0, 0, 0, 0, 0, 0, 0, 0, 0, 0, 0, 0, 0, 0, 0, 0, 0, 0, 0, 0, 0, 0, 0, 0, 0, 0, 0, 0, 0, 0, 0, 0, 0, 0, 0, 0, 0, 0, 0, 0, 0, 0, 0, 0, 0, 0, 0, 0, 0, 0, 0, 0, 0, 0, 0, 0, 0, 0, 0, 0, 0, 0, 0, 0, 0, 0, 0, 0, 0, 0, 0, 0, 0, 0, 0, 0, 0, 0, 0, 0, 0, 0, 0, 0, 0, 0, 0, 0, 0, 0, 0, 0, 0, 0, 0, 0, 0, 0, 0, 0, 0, 0, 0, 0, 0, 0, 0, 0, 0, 0, 0, 0, 0, 0, 0, 0, 0, 0, 0, 0, 0, 0, 0, 0, 0, 0, 0, 0, 0, 0, 0, 0, 0, 0, 0, 0, 0, 0, 0, 0, 0, 0, 0, 0, 0, 0, 0, 0, 0, 0, 0, 0, 0, 0, 0, 0, 0, 0, 0, 0, 0, 0, 0, 0, 0, 0, 0, 0, 0, 0, 0, 0, 0, 0, 0, 0, 0, 0, 0, 0, 0, 0, 0, 0, 0, 0, 0, 0, 0, 0, 0, 0, 0, 0, 0, 0, 0]\n",
            "Tokenizing data...\n"
          ]
        }
      ],
      "source": [
        "# Specify `MAX_LEN`\n",
        "MAX_LEN =  280\n",
        "\n",
        "# Print sentence 0 and its encoded token ids\n",
        "token_ids = list(preprocessing_for_bert([X[0]])[0].squeeze().numpy())\n",
        "print('Original: ', X[0])\n",
        "print('Token IDs: ', token_ids)\n",
        "\n",
        "# Run function `preprocessing_for_bert` on the train set and the validation set\n",
        "print('Tokenizing data...')\n",
        "train_inputs, train_masks = preprocessing_for_bert(X_train)\n",
        "val_inputs, val_masks = preprocessing_for_bert(X_val)"
      ]
    },
    {
      "cell_type": "markdown",
      "id": "fancy-suffering",
      "metadata": {
        "papermill": {
          "duration": 0.067827,
          "end_time": "2021-06-12T10:01:33.850744",
          "exception": false,
          "start_time": "2021-06-12T10:01:33.782917",
          "status": "completed"
        },
        "tags": [],
        "id": "fancy-suffering"
      },
      "source": [
        "<a id=\"2.1.2\"> </a>\n",
        "##### Create data loaders for test and validation sets"
      ]
    },
    {
      "cell_type": "code",
      "execution_count": 43,
      "id": "rental-officer",
      "metadata": {
        "execution": {
          "iopub.execute_input": "2021-06-12T10:01:33.993019Z",
          "iopub.status.busy": "2021-06-12T10:01:33.992469Z",
          "iopub.status.idle": "2021-06-12T10:01:34.003154Z",
          "shell.execute_reply": "2021-06-12T10:01:34.002748Z"
        },
        "papermill": {
          "duration": 0.08432,
          "end_time": "2021-06-12T10:01:34.003265",
          "exception": false,
          "start_time": "2021-06-12T10:01:33.918945",
          "status": "completed"
        },
        "tags": [],
        "id": "rental-officer"
      },
      "outputs": [],
      "source": [
        "from torch.utils.data import TensorDataset, DataLoader, RandomSampler, SequentialSampler\n",
        "\n",
        "# Convert other data types to torch.Tensor\n",
        "train_labels = torch.tensor(y_train)\n",
        "val_labels = torch.tensor(y_val)\n",
        "\n",
        "# For fine-tuning BERT, the authors recommend a batch size of 16 or 32.\n",
        "batch_size = 16\n",
        "\n",
        "# Create the DataLoader for our training set\n",
        "train_data = TensorDataset(train_inputs, train_masks, train_labels)\n",
        "train_sampler = RandomSampler(train_data)\n",
        "train_dataloader = DataLoader(train_data, sampler=train_sampler, batch_size=batch_size)\n",
        "\n",
        "# Create the DataLoader for our validation set\n",
        "val_data = TensorDataset(val_inputs, val_masks, val_labels)\n",
        "val_sampler = SequentialSampler(val_data)\n",
        "val_dataloader = DataLoader(val_data, sampler=val_sampler, batch_size=batch_size)"
      ]
    },
    {
      "cell_type": "markdown",
      "id": "rational-chapel",
      "metadata": {
        "papermill": {
          "duration": 0.067618,
          "end_time": "2021-06-12T10:01:34.138922",
          "exception": false,
          "start_time": "2021-06-12T10:01:34.071304",
          "status": "completed"
        },
        "tags": [],
        "id": "rational-chapel"
      },
      "source": [
        "<a id=\"2.1.3\"> </a>\n",
        "##### Define model initialization class and functions"
      ]
    },
    {
      "cell_type": "code",
      "execution_count": 44,
      "id": "protective-kazakhstan",
      "metadata": {
        "execution": {
          "iopub.execute_input": "2021-06-12T10:01:34.282032Z",
          "iopub.status.busy": "2021-06-12T10:01:34.281463Z",
          "iopub.status.idle": "2021-06-12T10:01:34.284277Z",
          "shell.execute_reply": "2021-06-12T10:01:34.284653Z"
        },
        "papermill": {
          "duration": 0.078092,
          "end_time": "2021-06-12T10:01:34.284791",
          "exception": false,
          "start_time": "2021-06-12T10:01:34.206699",
          "status": "completed"
        },
        "tags": [],
        "colab": {
          "base_uri": "https://localhost:8080/"
        },
        "id": "protective-kazakhstan",
        "outputId": "56258bcb-90b5-4336-cc4d-865f5da434fc"
      },
      "outputs": [
        {
          "output_type": "stream",
          "name": "stdout",
          "text": [
            "CPU times: user 76.5 ms, sys: 2.77 ms, total: 79.2 ms\n",
            "Wall time: 178 ms\n"
          ]
        }
      ],
      "source": [
        "%%time\n",
        "import torch\n",
        "import torch.nn as nn\n",
        "from transformers import BertModel\n",
        "\n",
        "# Create the BertClassfier class\n",
        "class BertClassifier(nn.Module):\n",
        "    \"\"\"Bert Model for Classification Tasks.\n",
        "    \"\"\"\n",
        "    def __init__(self, freeze_bert=False, version=\"mini\"):\n",
        "        \"\"\"\n",
        "        @param    bert: a BertModel object\n",
        "        @param    classifier: a torch.nn.Module classifier\n",
        "        @param    freeze_bert (bool): Set `False` to fine-tune the BERT model\n",
        "        \"\"\"\n",
        "        super(BertClassifier, self).__init__()\n",
        "        # Specify hidden size of BERT, hidden size of our classifier, and number of labels\n",
        "        D_in = 256 if version == \"mini\" else 768\n",
        "        H, D_out = 50, 2\n",
        "\n",
        "        # Instantiate BERT model\n",
        "        self.bert = AutoModel.from_pretrained(\"asafaya/bert-mini-arabic\") if version == \"mini\" else AutoModel.from_pretrained(\"asafaya/bert-base-arabic\")\n",
        "        # Instantiate an one-layer feed-forward classifier\n",
        "        self.classifier = nn.Sequential(\n",
        "            nn.Linear(D_in, H),\n",
        "            nn.ReLU(),\n",
        "            nn.Dropout(0.5),\n",
        "            nn.Linear(H, D_out)\n",
        "        )\n",
        "\n",
        "        # Freeze the BERT model\n",
        "        if freeze_bert:\n",
        "            for param in self.bert.parameters():\n",
        "                param.requires_grad = False\n",
        "        \n",
        "    def forward(self, input_ids, attention_mask):\n",
        "        \"\"\"\n",
        "        Feed input to BERT and the classifier to compute logits.\n",
        "        @param    input_ids (torch.Tensor): an input tensor with shape (batch_size,\n",
        "                      max_length)\n",
        "        @param    attention_mask (torch.Tensor): a tensor that hold attention mask\n",
        "                      information with shape (batch_size, max_length)\n",
        "        @return   logits (torch.Tensor): an output tensor with shape (batch_size,\n",
        "                      num_labels)\n",
        "        \"\"\"\n",
        "        # Feed input to BERT\n",
        "        outputs = self.bert(input_ids=input_ids,\n",
        "                            attention_mask=attention_mask)\n",
        "        \n",
        "        # Extract the last hidden state of the token `[CLS]` for classification task\n",
        "        last_hidden_state_cls = outputs[0][:, 0, :]\n",
        "\n",
        "        # Feed input to classifier to compute logits\n",
        "        logits = self.classifier(last_hidden_state_cls)\n",
        "\n",
        "        return logits"
      ]
    },
    {
      "cell_type": "code",
      "execution_count": 45,
      "id": "indoor-stupid",
      "metadata": {
        "execution": {
          "iopub.execute_input": "2021-06-12T10:01:34.427503Z",
          "iopub.status.busy": "2021-06-12T10:01:34.427008Z",
          "iopub.status.idle": "2021-06-12T10:01:38.636656Z",
          "shell.execute_reply": "2021-06-12T10:01:38.638707Z"
        },
        "papermill": {
          "duration": 4.28506,
          "end_time": "2021-06-12T10:01:38.638934",
          "exception": false,
          "start_time": "2021-06-12T10:01:34.353874",
          "status": "completed"
        },
        "tags": [],
        "id": "indoor-stupid"
      },
      "outputs": [],
      "source": [
        "from transformers import AdamW, get_linear_schedule_with_warmup\n",
        "\n",
        "from torch.optim import SparseAdam, Adam\n",
        "def initialize_model(epochs=4, version=\"mini\"):\n",
        "    \"\"\"Initialize the Bert Classifier, the optimizer and the learning rate scheduler.\n",
        "    \"\"\"\n",
        "    # Instantiate Bert Classifier\n",
        "    bert_classifier = BertClassifier(freeze_bert=False, version=version)\n",
        "    # Tell PyTorch to run the model on GPU\n",
        "    bert_classifier.to(device)\n",
        "\n",
        "    # Create the optimizer\n",
        "    optimizer = AdamW(params=list(bert_classifier.parameters()),\n",
        "                      lr=5e-5,    # Default learning rate\n",
        "                      eps=1e-8    # Default epsilon value\n",
        "                      )\n",
        "\n",
        "    # Total number of training steps\n",
        "    total_steps = len(train_dataloader) * epochs\n",
        "\n",
        "    # Set up the learning rate scheduler\n",
        "    scheduler = get_linear_schedule_with_warmup(optimizer,\n",
        "                                                num_warmup_steps=0, # Default value\n",
        "                                                num_training_steps=total_steps)\n",
        "    return bert_classifier, optimizer, scheduler"
      ]
    },
    {
      "cell_type": "markdown",
      "id": "rational-beatles",
      "metadata": {
        "papermill": {
          "duration": 0.123336,
          "end_time": "2021-06-12T10:01:38.892698",
          "exception": false,
          "start_time": "2021-06-12T10:01:38.769362",
          "status": "completed"
        },
        "tags": [],
        "id": "rational-beatles"
      },
      "source": [
        "<a id=\"2.1.4\"> </a>\n",
        "##### Define model train and evaluate functions"
      ]
    },
    {
      "cell_type": "code",
      "execution_count": 46,
      "id": "asian-saturn",
      "metadata": {
        "execution": {
          "iopub.execute_input": "2021-06-12T10:01:39.075291Z",
          "iopub.status.busy": "2021-06-12T10:01:39.073845Z",
          "iopub.status.idle": "2021-06-12T10:01:39.076136Z",
          "shell.execute_reply": "2021-06-12T10:01:39.076530Z"
        },
        "papermill": {
          "duration": 0.088498,
          "end_time": "2021-06-12T10:01:39.076689",
          "exception": false,
          "start_time": "2021-06-12T10:01:38.988191",
          "status": "completed"
        },
        "tags": [],
        "id": "asian-saturn"
      },
      "outputs": [],
      "source": [
        "import random\n",
        "import time\n",
        "import torch\n",
        "import torch.nn as nn\n",
        "# Specify loss function\n",
        "loss_fn = nn.CrossEntropyLoss()\n",
        "\n",
        "def set_seed(seed_value=42):\n",
        "    \"\"\"Set seed for reproducibility.\n",
        "    \"\"\"\n",
        "    random.seed(seed_value)\n",
        "    np.random.seed(seed_value)\n",
        "    torch.manual_seed(seed_value)\n",
        "    torch.cuda.manual_seed_all(seed_value)\n",
        "\n",
        "def train(model, train_dataloader, val_dataloader=None, epochs=4, evaluation=False):\n",
        "    \"\"\"Train the BertClassifier model.\n",
        "    \"\"\"\n",
        "    # Start training loop\n",
        "    print(\"Start training...\\n\")\n",
        "    for epoch_i in range(epochs):\n",
        "        # =======================================\n",
        "        #               Training\n",
        "        # =======================================\n",
        "        # Print the header of the result table\n",
        "        print(f\"{'Epoch':^7} | {'Batch':^7} | {'Train Loss':^12} | {'Val Loss':^10} | {'Val Acc':^9} | {'Elapsed':^9}\")\n",
        "        print(\"-\"*70)\n",
        "\n",
        "        # Measure the elapsed time of each epoch\n",
        "        t0_epoch, t0_batch = time.time(), time.time()\n",
        "\n",
        "        # Reset tracking variables at the beginning of each epoch\n",
        "        total_loss, batch_loss, batch_counts = 0, 0, 0\n",
        "\n",
        "        # Put the model into the training mode\n",
        "        model.train()\n",
        "\n",
        "        # For each batch of training data...\n",
        "        for step, batch in enumerate(train_dataloader):\n",
        "            batch_counts +=1\n",
        "            # Load batch to GPU\n",
        "            b_input_ids, b_attn_mask, b_labels = tuple(t.to(device) for t in batch)\n",
        "\n",
        "            # Zero out any previously calculated gradients\n",
        "            model.zero_grad()\n",
        "\n",
        "            # Perform a forward pass. This will return logits.\n",
        "            logits = model(b_input_ids, b_attn_mask)\n",
        "\n",
        "            # Compute loss and accumulate the loss values\n",
        "            loss = loss_fn(logits, b_labels)\n",
        "            batch_loss += loss.item()\n",
        "            total_loss += loss.item()\n",
        "\n",
        "            # Perform a backward pass to calculate gradients\n",
        "            loss.backward()\n",
        "\n",
        "            # Clip the norm of the gradients to 1.0 to prevent \"exploding gradients\"\n",
        "            torch.nn.utils.clip_grad_norm_(model.parameters(), 1.0)\n",
        "\n",
        "            # Update parameters and the learning rate\n",
        "            optimizer.step()\n",
        "            scheduler.step()\n",
        "\n",
        "            # Print the loss values and time elapsed for every 20 batches\n",
        "            if (step % 20 == 0 and step != 0) or (step == len(train_dataloader) - 1):\n",
        "                # Calculate time elapsed for 20 batches\n",
        "                time_elapsed = time.time() - t0_batch\n",
        "\n",
        "                # Print training results\n",
        "                print(f\"{epoch_i + 1:^7} | {step:^7} | {batch_loss / batch_counts:^12.6f} | {'-':^10} | {'-':^9} | {time_elapsed:^9.2f}\")\n",
        "\n",
        "                # Reset batch tracking variables\n",
        "                batch_loss, batch_counts = 0, 0\n",
        "                t0_batch = time.time()\n",
        "\n",
        "        # Calculate the average loss over the entire training data\n",
        "        avg_train_loss = total_loss / len(train_dataloader)\n",
        "\n",
        "        print(\"-\"*70)\n",
        "        # =======================================\n",
        "        #               Evaluation\n",
        "        # =======================================\n",
        "        if evaluation == True:\n",
        "            # After the completion of each training epoch, measure the model's performance\n",
        "            # on our validation set.\n",
        "            val_loss, val_accuracy = evaluate(model, val_dataloader)\n",
        "\n",
        "            # Print performance over the entire training data\n",
        "            time_elapsed = time.time() - t0_epoch\n",
        "            \n",
        "            print(f\"{epoch_i + 1:^7} | {'-':^7} | {avg_train_loss:^12.6f} | {val_loss:^10.6f} | {val_accuracy:^9.2f} | {time_elapsed:^9.2f}\")\n",
        "            print(\"-\"*70)\n",
        "        print(\"\\n\")\n",
        "    \n",
        "    print(\"Training complete!\")\n",
        "\n",
        "\n",
        "def evaluate(model, val_dataloader):\n",
        "    \"\"\"After the completion of each training epoch, measure the model's performance\n",
        "    on our validation set.\n",
        "    \"\"\"\n",
        "    # Put the model into the evaluation mode. The dropout layers are disabled during\n",
        "    # the test time.\n",
        "    model.eval()\n",
        "\n",
        "    # Tracking variables\n",
        "    val_accuracy = []\n",
        "    val_loss = []\n",
        "\n",
        "    # For each batch in our validation set...\n",
        "    for batch in val_dataloader:\n",
        "        # Load batch to GPU\n",
        "        b_input_ids, b_attn_mask, b_labels = tuple(t.to(device) for t in batch)\n",
        "\n",
        "        # Compute logits\n",
        "        with torch.no_grad():\n",
        "            logits = model(b_input_ids, b_attn_mask)\n",
        "\n",
        "        # Compute loss\n",
        "        loss = loss_fn(logits, b_labels)\n",
        "        val_loss.append(loss.item())\n",
        "\n",
        "        # Get the predictions\n",
        "        preds = torch.argmax(logits, dim=1).flatten()\n",
        "\n",
        "        # Calculate the accuracy rate\n",
        "        accuracy = (preds == b_labels).cpu().numpy().mean() * 100\n",
        "        val_accuracy.append(accuracy)\n",
        "\n",
        "    # Compute the average accuracy and loss over the validation set.\n",
        "    val_loss = np.mean(val_loss)\n",
        "    val_accuracy = np.mean(val_accuracy)\n",
        "\n",
        "    return val_loss, val_accuracy"
      ]
    },
    {
      "cell_type": "markdown",
      "id": "optimum-acquisition",
      "metadata": {
        "papermill": {
          "duration": 0.068708,
          "end_time": "2021-06-12T10:01:39.214008",
          "exception": false,
          "start_time": "2021-06-12T10:01:39.145300",
          "status": "completed"
        },
        "tags": [],
        "id": "optimum-acquisition"
      },
      "source": [
        "<a id=\"2.1.5\"> </a>\n",
        "##### Initialize and train model"
      ]
    },
    {
      "cell_type": "code",
      "execution_count": 47,
      "id": "vocational-scratch",
      "metadata": {
        "execution": {
          "iopub.execute_input": "2021-06-12T10:01:39.355242Z",
          "iopub.status.busy": "2021-06-12T10:01:39.354450Z",
          "iopub.status.idle": "2021-06-12T10:06:05.589416Z",
          "shell.execute_reply": "2021-06-12T10:06:05.588821Z"
        },
        "papermill": {
          "duration": 266.307554,
          "end_time": "2021-06-12T10:06:05.589598",
          "exception": false,
          "start_time": "2021-06-12T10:01:39.282044",
          "status": "completed"
        },
        "tags": [],
        "colab": {
          "base_uri": "https://localhost:8080/",
          "height": 1000,
          "referenced_widgets": [
            "2bc55ce2ec1b496e9ab5c52dae6ede38",
            "96be60427ead4b9fb0a5015f8630505f",
            "0f8200782f674533a982839ddeb11ef4",
            "76f65351a4ca4d508134c538e1acf6cd",
            "a91ac2d7731b4909911afbaf4438734c",
            "fdca7636a6394b8faae4dc45d9f3779f",
            "003a3d6800624d8f8ceb2fe51dc6e0fa",
            "d1a521fb0c364f46936a94aae488ed56",
            "0f6a1e5a83fc4d18935b6eaa8c496525",
            "a7f7cae5913940bf81b56a8d48b18bcb",
            "50024ebdccf543998bbdb0b24a43a217"
          ]
        },
        "id": "vocational-scratch",
        "outputId": "b238d8aa-464a-4983-f249-62cd21e4c1b6"
      },
      "outputs": [
        {
          "output_type": "display_data",
          "data": {
            "text/plain": [
              "Downloading pytorch_model.bin:   0%|          | 0.00/46.6M [00:00<?, ?B/s]"
            ],
            "application/vnd.jupyter.widget-view+json": {
              "version_major": 2,
              "version_minor": 0,
              "model_id": "2bc55ce2ec1b496e9ab5c52dae6ede38"
            }
          },
          "metadata": {}
        },
        {
          "output_type": "stream",
          "name": "stderr",
          "text": [
            "Some weights of the model checkpoint at asafaya/bert-mini-arabic were not used when initializing BertModel: ['cls.predictions.transform.LayerNorm.bias', 'cls.predictions.transform.LayerNorm.weight', 'cls.predictions.decoder.weight', 'cls.predictions.decoder.bias', 'cls.predictions.transform.dense.weight', 'cls.predictions.transform.dense.bias', 'cls.predictions.bias']\n",
            "- This IS expected if you are initializing BertModel from the checkpoint of a model trained on another task or with another architecture (e.g. initializing a BertForSequenceClassification model from a BertForPreTraining model).\n",
            "- This IS NOT expected if you are initializing BertModel from the checkpoint of a model that you expect to be exactly identical (initializing a BertForSequenceClassification model from a BertForSequenceClassification model).\n",
            "/usr/local/lib/python3.9/dist-packages/transformers/optimization.py:391: FutureWarning: This implementation of AdamW is deprecated and will be removed in a future version. Use the PyTorch implementation torch.optim.AdamW instead, or set `no_deprecation_warning=True` to disable this warning\n",
            "  warnings.warn(\n"
          ]
        },
        {
          "output_type": "stream",
          "name": "stdout",
          "text": [
            "Start training...\n",
            "\n",
            " Epoch  |  Batch  |  Train Loss  |  Val Loss  |  Val Acc  |  Elapsed \n",
            "----------------------------------------------------------------------\n",
            "   1    |   20    |   0.469152   |     -      |     -     |   52.01  \n",
            "   1    |   40    |   0.376765   |     -      |     -     |   47.28  \n",
            "   1    |   60    |   0.339652   |     -      |     -     |   45.08  \n",
            "   1    |   80    |   0.337558   |     -      |     -     |   49.70  \n",
            "   1    |   100   |   0.266024   |     -      |     -     |   48.73  \n",
            "   1    |   120   |   0.278296   |     -      |     -     |   50.05  \n",
            "   1    |   140   |   0.327275   |     -      |     -     |   46.77  \n",
            "   1    |   160   |   0.345153   |     -      |     -     |   44.33  \n",
            "   1    |   180   |   0.263325   |     -      |     -     |   45.37  \n",
            "   1    |   200   |   0.272255   |     -      |     -     |   46.02  \n",
            "   1    |   220   |   0.341428   |     -      |     -     |   44.90  \n",
            "   1    |   240   |   0.317408   |     -      |     -     |   47.28  \n",
            "   1    |   260   |   0.327736   |     -      |     -     |   45.13  \n",
            "   1    |   280   |   0.260372   |     -      |     -     |   45.68  \n",
            "   1    |   300   |   0.243133   |     -      |     -     |   44.67  \n",
            "   1    |   320   |   0.302449   |     -      |     -     |   44.49  \n",
            "   1    |   340   |   0.256432   |     -      |     -     |   44.34  \n",
            "   1    |   360   |   0.306813   |     -      |     -     |   46.05  \n",
            "   1    |   380   |   0.249675   |     -      |     -     |   44.65  \n",
            "   1    |   400   |   0.292290   |     -      |     -     |   45.63  \n",
            "   1    |   420   |   0.260906   |     -      |     -     |   49.31  \n",
            "   1    |   440   |   0.259147   |     -      |     -     |   47.91  \n",
            "   1    |   460   |   0.283223   |     -      |     -     |   46.59  \n",
            "   1    |   480   |   0.252521   |     -      |     -     |   46.78  \n",
            "   1    |   481   |   0.017686   |     -      |     -     |   0.88   \n",
            "----------------------------------------------------------------------\n",
            "   1    |    -    |   0.300968   |  0.288315  |   90.28   |  1158.62 \n",
            "----------------------------------------------------------------------\n",
            "\n",
            "\n",
            " Epoch  |  Batch  |  Train Loss  |  Val Loss  |  Val Acc  |  Elapsed \n",
            "----------------------------------------------------------------------\n",
            "   2    |   20    |   0.222053   |     -      |     -     |   50.60  \n",
            "   2    |   40    |   0.199786   |     -      |     -     |   48.46  \n",
            "   2    |   60    |   0.159858   |     -      |     -     |   48.85  \n",
            "   2    |   80    |   0.186631   |     -      |     -     |   48.84  \n",
            "   2    |   100   |   0.241694   |     -      |     -     |   48.86  \n",
            "   2    |   120   |   0.294253   |     -      |     -     |   47.29  \n",
            "   2    |   140   |   0.227375   |     -      |     -     |   49.38  \n",
            "   2    |   160   |   0.286296   |     -      |     -     |   47.26  \n",
            "   2    |   180   |   0.242858   |     -      |     -     |   46.64  \n",
            "   2    |   200   |   0.184633   |     -      |     -     |   48.35  \n",
            "   2    |   220   |   0.209427   |     -      |     -     |   46.80  \n",
            "   2    |   240   |   0.251791   |     -      |     -     |   46.30  \n",
            "   2    |   260   |   0.193196   |     -      |     -     |   47.11  \n",
            "   2    |   280   |   0.255064   |     -      |     -     |   47.64  \n",
            "   2    |   300   |   0.208289   |     -      |     -     |   46.88  \n",
            "   2    |   320   |   0.209591   |     -      |     -     |   47.80  \n",
            "   2    |   340   |   0.264672   |     -      |     -     |   46.84  \n",
            "   2    |   360   |   0.235957   |     -      |     -     |   48.87  \n",
            "   2    |   380   |   0.288903   |     -      |     -     |   48.94  \n",
            "   2    |   400   |   0.144467   |     -      |     -     |   48.93  \n",
            "   2    |   420   |   0.217923   |     -      |     -     |   46.00  \n",
            "   2    |   440   |   0.245707   |     -      |     -     |   45.38  \n",
            "   2    |   460   |   0.205087   |     -      |     -     |   47.70  \n",
            "   2    |   480   |   0.236094   |     -      |     -     |   46.07  \n",
            "   2    |   481   |   0.122386   |     -      |     -     |   0.84   \n",
            "----------------------------------------------------------------------\n",
            "   2    |    -    |   0.225262   |  0.238221  |   90.97   |  1186.52 \n",
            "----------------------------------------------------------------------\n",
            "\n",
            "\n",
            "Training complete!\n"
          ]
        }
      ],
      "source": [
        "set_seed(42) \n",
        "bert_classifier, optimizer, scheduler = initialize_model(epochs=2)\n",
        "train(bert_classifier, train_dataloader, val_dataloader, epochs=2, evaluation=True)"
      ]
    },
    {
      "cell_type": "markdown",
      "id": "studied-interference",
      "metadata": {
        "papermill": {
          "duration": 0.13388,
          "end_time": "2021-06-12T10:06:05.859220",
          "exception": false,
          "start_time": "2021-06-12T10:06:05.725340",
          "status": "completed"
        },
        "tags": [],
        "id": "studied-interference"
      },
      "source": [
        "<a id=\"2.1.6\"> </a>\n",
        "##### Save model"
      ]
    },
    {
      "cell_type": "code",
      "execution_count": 48,
      "id": "closing-olive",
      "metadata": {
        "execution": {
          "iopub.execute_input": "2021-06-12T10:06:06.133774Z",
          "iopub.status.busy": "2021-06-12T10:06:06.133257Z",
          "iopub.status.idle": "2021-06-12T10:06:06.235407Z",
          "shell.execute_reply": "2021-06-12T10:06:06.234964Z"
        },
        "papermill": {
          "duration": 0.241321,
          "end_time": "2021-06-12T10:06:06.235528",
          "exception": false,
          "start_time": "2021-06-12T10:06:05.994207",
          "status": "completed"
        },
        "tags": [],
        "id": "closing-olive"
      },
      "outputs": [],
      "source": [
        "# Saving the model for future runs\n",
        "\n",
        "import pickle\n",
        "filename = 'trained_model_mini_with_emojis_ALL_LABELS.sav'\n",
        "pickle.dump(bert_classifier, open(filename, 'wb'))"
      ]
    },
    {
      "cell_type": "code",
      "execution_count": null,
      "id": "defensive-attachment",
      "metadata": {
        "execution": {
          "iopub.execute_input": "2021-06-12T10:06:06.787696Z",
          "iopub.status.busy": "2021-06-12T10:06:06.786450Z",
          "iopub.status.idle": "2021-06-12T10:06:06.789147Z",
          "shell.execute_reply": "2021-06-12T10:06:06.788757Z"
        },
        "papermill": {
          "duration": 0.140133,
          "end_time": "2021-06-12T10:06:06.789252",
          "exception": false,
          "start_time": "2021-06-12T10:06:06.649119",
          "status": "completed"
        },
        "tags": [],
        "id": "defensive-attachment"
      },
      "outputs": [],
      "source": [
        "# import pickle\n",
        "# filename = 'trained_model_mini_with_emojis.sav'\n",
        "# f = open(filename, 'rb')\n",
        "# bert_classifier = pickle.load(f)"
      ]
    },
    {
      "cell_type": "code",
      "source": [
        "with open('/content/OSACT2022-sharedTask-test-taskB-gold-labels.txt') as f:\n",
        "  taskB = f.readlines()\n",
        "print(len(taskB))\n",
        "print(dict((x,taskB.count(x)) for x in set(taskB)))\n",
        "print('')\n",
        "\n",
        "with open('/content/OSACT2022-sharedTask-test-taskC-gold-labels.txt') as f:\n",
        "  taskC = f.readlines()\n",
        "print(len(taskC))\n",
        "print(dict((x,taskC.count(x)) for x in set(taskC)))"
      ],
      "metadata": {
        "id": "GGVMPDcd7QgM",
        "colab": {
          "base_uri": "https://localhost:8080/"
        },
        "outputId": "6e7ea261-bb4a-43c6-e3f1-4d2ca9418ddb"
      },
      "id": "GGVMPDcd7QgM",
      "execution_count": 49,
      "outputs": [
        {
          "output_type": "stream",
          "name": "stdout",
          "text": [
            "2541\n",
            "{'NOT_HS\\n': 2270, 'HS\\n': 271}\n",
            "\n",
            "2541\n",
            "{'HS6\\n': 133, 'HS5\\n': 19, 'HS1\\n': 78, 'HS3\\n': 32, 'NOT_HS\\n': 2270, 'HS2\\n': 7, 'HS4\\n': 2}\n"
          ]
        }
      ]
    },
    {
      "cell_type": "code",
      "source": [
        "test = pd.read_csv('/content/OSACT2022-sharedTask-test-tweets.txt', sep='\\t', header=None)\n",
        "test.columns = ['drop', 'text']\n",
        "test.drop('drop', axis=1, inplace=True)\n",
        "test['label'] = taskB\n",
        "test['label'].replace('NOT_HS\\n', 'NOT_HS', inplace=True)\n",
        "test['label'].replace('HS\\n', 'HS', inplace=True)\n",
        "test['label'].replace('NOT_HS', 0, inplace=True)\n",
        "test['label'].replace('HS', 1, inplace=True)\n",
        "print(test['label'].value_counts())\n",
        "X_test = test.text.values\n",
        "y_test = test.label.values\n",
        "test"
      ],
      "metadata": {
        "id": "cZhXcPhM6RVY",
        "colab": {
          "base_uri": "https://localhost:8080/",
          "height": 475
        },
        "outputId": "957e53a6-3a82-470a-db81-c89ad2c76f94"
      },
      "id": "cZhXcPhM6RVY",
      "execution_count": 50,
      "outputs": [
        {
          "output_type": "stream",
          "name": "stdout",
          "text": [
            "0    2270\n",
            "1     271\n",
            "Name: label, dtype: int64\n"
          ]
        },
        {
          "output_type": "execute_result",
          "data": {
            "text/plain": [
              "                                                   text  label\n",
              "0                        @USER هتهزر معايا ولا ايه 😡😡😡😡      0\n",
              "1              مشفتش العرض بتاعهم لا مش مهتمة لا😩🐸😂 URL      0\n",
              "2     RT @USER عندما تكون لوحدك تحس انك لحالك صح 😊<L...      0\n",
              "3     RT @USER ماشاء الله الرجال باين عليه محترم <LF...      0\n",
              "4                             @USER شسالفة احد يفهمني 😤      0\n",
              "...                                                 ...    ...\n",
              "2536  قله حيا وين اهلهم ذولي الله لايبلانا لهالدرجه ...      0\n",
              "2537                         RT @USER ثم الطحلبه🐸🐸🐸 URL      0\n",
              "2538     يا وجه الله 😷 من اليوم ورايح شاورما انسى 🔪 URL      0\n",
              "2539                    @USER متخلف حتى الحلال حرمتوه 😷      0\n",
              "2540  @USER حنا خقينا على بنت رئيس مو على بياع كليجا...      0\n",
              "\n",
              "[2541 rows x 2 columns]"
            ],
            "text/html": [
              "\n",
              "  <div id=\"df-af35e95c-6e84-486e-9769-d65b3876f7eb\">\n",
              "    <div class=\"colab-df-container\">\n",
              "      <div>\n",
              "<style scoped>\n",
              "    .dataframe tbody tr th:only-of-type {\n",
              "        vertical-align: middle;\n",
              "    }\n",
              "\n",
              "    .dataframe tbody tr th {\n",
              "        vertical-align: top;\n",
              "    }\n",
              "\n",
              "    .dataframe thead th {\n",
              "        text-align: right;\n",
              "    }\n",
              "</style>\n",
              "<table border=\"1\" class=\"dataframe\">\n",
              "  <thead>\n",
              "    <tr style=\"text-align: right;\">\n",
              "      <th></th>\n",
              "      <th>text</th>\n",
              "      <th>label</th>\n",
              "    </tr>\n",
              "  </thead>\n",
              "  <tbody>\n",
              "    <tr>\n",
              "      <th>0</th>\n",
              "      <td>@USER هتهزر معايا ولا ايه 😡😡😡😡</td>\n",
              "      <td>0</td>\n",
              "    </tr>\n",
              "    <tr>\n",
              "      <th>1</th>\n",
              "      <td>مشفتش العرض بتاعهم لا مش مهتمة لا😩🐸😂 URL</td>\n",
              "      <td>0</td>\n",
              "    </tr>\n",
              "    <tr>\n",
              "      <th>2</th>\n",
              "      <td>RT @USER عندما تكون لوحدك تحس انك لحالك صح 😊&lt;L...</td>\n",
              "      <td>0</td>\n",
              "    </tr>\n",
              "    <tr>\n",
              "      <th>3</th>\n",
              "      <td>RT @USER ماشاء الله الرجال باين عليه محترم &lt;LF...</td>\n",
              "      <td>0</td>\n",
              "    </tr>\n",
              "    <tr>\n",
              "      <th>4</th>\n",
              "      <td>@USER شسالفة احد يفهمني 😤</td>\n",
              "      <td>0</td>\n",
              "    </tr>\n",
              "    <tr>\n",
              "      <th>...</th>\n",
              "      <td>...</td>\n",
              "      <td>...</td>\n",
              "    </tr>\n",
              "    <tr>\n",
              "      <th>2536</th>\n",
              "      <td>قله حيا وين اهلهم ذولي الله لايبلانا لهالدرجه ...</td>\n",
              "      <td>0</td>\n",
              "    </tr>\n",
              "    <tr>\n",
              "      <th>2537</th>\n",
              "      <td>RT @USER ثم الطحلبه🐸🐸🐸 URL</td>\n",
              "      <td>0</td>\n",
              "    </tr>\n",
              "    <tr>\n",
              "      <th>2538</th>\n",
              "      <td>يا وجه الله 😷 من اليوم ورايح شاورما انسى 🔪 URL</td>\n",
              "      <td>0</td>\n",
              "    </tr>\n",
              "    <tr>\n",
              "      <th>2539</th>\n",
              "      <td>@USER متخلف حتى الحلال حرمتوه 😷</td>\n",
              "      <td>0</td>\n",
              "    </tr>\n",
              "    <tr>\n",
              "      <th>2540</th>\n",
              "      <td>@USER حنا خقينا على بنت رئيس مو على بياع كليجا...</td>\n",
              "      <td>0</td>\n",
              "    </tr>\n",
              "  </tbody>\n",
              "</table>\n",
              "<p>2541 rows × 2 columns</p>\n",
              "</div>\n",
              "      <button class=\"colab-df-convert\" onclick=\"convertToInteractive('df-af35e95c-6e84-486e-9769-d65b3876f7eb')\"\n",
              "              title=\"Convert this dataframe to an interactive table.\"\n",
              "              style=\"display:none;\">\n",
              "        \n",
              "  <svg xmlns=\"http://www.w3.org/2000/svg\" height=\"24px\"viewBox=\"0 0 24 24\"\n",
              "       width=\"24px\">\n",
              "    <path d=\"M0 0h24v24H0V0z\" fill=\"none\"/>\n",
              "    <path d=\"M18.56 5.44l.94 2.06.94-2.06 2.06-.94-2.06-.94-.94-2.06-.94 2.06-2.06.94zm-11 1L8.5 8.5l.94-2.06 2.06-.94-2.06-.94L8.5 2.5l-.94 2.06-2.06.94zm10 10l.94 2.06.94-2.06 2.06-.94-2.06-.94-.94-2.06-.94 2.06-2.06.94z\"/><path d=\"M17.41 7.96l-1.37-1.37c-.4-.4-.92-.59-1.43-.59-.52 0-1.04.2-1.43.59L10.3 9.45l-7.72 7.72c-.78.78-.78 2.05 0 2.83L4 21.41c.39.39.9.59 1.41.59.51 0 1.02-.2 1.41-.59l7.78-7.78 2.81-2.81c.8-.78.8-2.07 0-2.86zM5.41 20L4 18.59l7.72-7.72 1.47 1.35L5.41 20z\"/>\n",
              "  </svg>\n",
              "      </button>\n",
              "      \n",
              "  <style>\n",
              "    .colab-df-container {\n",
              "      display:flex;\n",
              "      flex-wrap:wrap;\n",
              "      gap: 12px;\n",
              "    }\n",
              "\n",
              "    .colab-df-convert {\n",
              "      background-color: #E8F0FE;\n",
              "      border: none;\n",
              "      border-radius: 50%;\n",
              "      cursor: pointer;\n",
              "      display: none;\n",
              "      fill: #1967D2;\n",
              "      height: 32px;\n",
              "      padding: 0 0 0 0;\n",
              "      width: 32px;\n",
              "    }\n",
              "\n",
              "    .colab-df-convert:hover {\n",
              "      background-color: #E2EBFA;\n",
              "      box-shadow: 0px 1px 2px rgba(60, 64, 67, 0.3), 0px 1px 3px 1px rgba(60, 64, 67, 0.15);\n",
              "      fill: #174EA6;\n",
              "    }\n",
              "\n",
              "    [theme=dark] .colab-df-convert {\n",
              "      background-color: #3B4455;\n",
              "      fill: #D2E3FC;\n",
              "    }\n",
              "\n",
              "    [theme=dark] .colab-df-convert:hover {\n",
              "      background-color: #434B5C;\n",
              "      box-shadow: 0px 1px 3px 1px rgba(0, 0, 0, 0.15);\n",
              "      filter: drop-shadow(0px 1px 2px rgba(0, 0, 0, 0.3));\n",
              "      fill: #FFFFFF;\n",
              "    }\n",
              "  </style>\n",
              "\n",
              "      <script>\n",
              "        const buttonEl =\n",
              "          document.querySelector('#df-af35e95c-6e84-486e-9769-d65b3876f7eb button.colab-df-convert');\n",
              "        buttonEl.style.display =\n",
              "          google.colab.kernel.accessAllowed ? 'block' : 'none';\n",
              "\n",
              "        async function convertToInteractive(key) {\n",
              "          const element = document.querySelector('#df-af35e95c-6e84-486e-9769-d65b3876f7eb');\n",
              "          const dataTable =\n",
              "            await google.colab.kernel.invokeFunction('convertToInteractive',\n",
              "                                                     [key], {});\n",
              "          if (!dataTable) return;\n",
              "\n",
              "          const docLinkHtml = 'Like what you see? Visit the ' +\n",
              "            '<a target=\"_blank\" href=https://colab.research.google.com/notebooks/data_table.ipynb>data table notebook</a>'\n",
              "            + ' to learn more about interactive tables.';\n",
              "          element.innerHTML = '';\n",
              "          dataTable['output_type'] = 'display_data';\n",
              "          await google.colab.output.renderOutput(dataTable, element);\n",
              "          const docLink = document.createElement('div');\n",
              "          docLink.innerHTML = docLinkHtml;\n",
              "          element.appendChild(docLink);\n",
              "        }\n",
              "      </script>\n",
              "    </div>\n",
              "  </div>\n",
              "  "
            ]
          },
          "metadata": {},
          "execution_count": 50
        }
      ]
    },
    {
      "cell_type": "markdown",
      "id": "hourly-ladder",
      "metadata": {
        "papermill": {
          "duration": 0.136494,
          "end_time": "2021-06-12T10:06:07.060203",
          "exception": false,
          "start_time": "2021-06-12T10:06:06.923709",
          "status": "completed"
        },
        "tags": [],
        "id": "hourly-ladder"
      },
      "source": [
        "<a id=\"2.1.7\"> </a>\n",
        "##### Define prediction and test set evaluation functions"
      ]
    },
    {
      "cell_type": "code",
      "execution_count": 51,
      "id": "eight-newman",
      "metadata": {
        "execution": {
          "iopub.execute_input": "2021-06-12T10:06:07.335924Z",
          "iopub.status.busy": "2021-06-12T10:06:07.335254Z",
          "iopub.status.idle": "2021-06-12T10:06:07.338731Z",
          "shell.execute_reply": "2021-06-12T10:06:07.338322Z"
        },
        "papermill": {
          "duration": 0.143819,
          "end_time": "2021-06-12T10:06:07.338846",
          "exception": false,
          "start_time": "2021-06-12T10:06:07.195027",
          "status": "completed"
        },
        "tags": [],
        "id": "eight-newman"
      },
      "outputs": [],
      "source": [
        "import torch.nn.functional as F\n",
        "\n",
        "def bert_predict(model, test_dataloader):\n",
        "    \"\"\"Perform a forward pass on the trained BERT model to predict probabilities\n",
        "    on the test set.\n",
        "    \"\"\"\n",
        "    # Put the model into the evaluation mode. The dropout layers are disabled during\n",
        "    # the test time.\n",
        "    model.eval()\n",
        "\n",
        "    all_logits = []\n",
        "\n",
        "    # For each batch in our test set...\n",
        "    for batch in test_dataloader:\n",
        "        # Load batch to GPU\n",
        "        b_input_ids, b_attn_mask = tuple(t.to(device) for t in batch)[:2]\n",
        "\n",
        "        # Compute logits\n",
        "        with torch.no_grad():\n",
        "            logits = model(b_input_ids, b_attn_mask)\n",
        "        all_logits.append(logits)\n",
        "    \n",
        "    # Concatenate logits from each batch\n",
        "    all_logits = torch.cat(all_logits, dim=0)\n",
        "\n",
        "    # Apply softmax to calculate probabilities\n",
        "    probs = F.softmax(all_logits, dim=1).cpu().numpy()\n",
        "\n",
        "    return probs"
      ]
    },
    {
      "cell_type": "code",
      "execution_count": 52,
      "id": "trained-representative",
      "metadata": {
        "execution": {
          "iopub.execute_input": "2021-06-12T10:06:07.617739Z",
          "iopub.status.busy": "2021-06-12T10:06:07.616515Z",
          "iopub.status.idle": "2021-06-12T10:06:07.618828Z",
          "shell.execute_reply": "2021-06-12T10:06:07.619191Z"
        },
        "papermill": {
          "duration": 0.145241,
          "end_time": "2021-06-12T10:06:07.619326",
          "exception": false,
          "start_time": "2021-06-12T10:06:07.474085",
          "status": "completed"
        },
        "tags": [],
        "id": "trained-representative"
      },
      "outputs": [],
      "source": [
        "from sklearn.metrics import accuracy_score, roc_curve, auc\n",
        "\n",
        "def evaluate_roc(probs, y_true, model_name, dataset_name, test_dataset_name):\n",
        "    \"\"\"\n",
        "    - Print AUC and accuracy on the test set\n",
        "    - Plot ROC\n",
        "    @params    probs (np.array): an array of predicted probabilities with shape (len(y_true), 2)\n",
        "    @params    y_true (np.array): an array of the true values with shape (len(y_true),)\n",
        "    \"\"\"\n",
        "    preds = probs[:, 1]\n",
        "    fpr, tpr, threshold = roc_curve(y_true, preds)\n",
        "    roc_auc = auc(fpr, tpr)\n",
        "    print(f'AUC: {roc_auc:.4f}')\n",
        "       \n",
        "    # Get accuracy over the test set\n",
        "    y_pred = np.where(preds >= 0.5, 1, 0)\n",
        "    accuracy = accuracy_score(y_true, y_pred)\n",
        "    print(f'Accuracy: {accuracy*100:.2f}%')\n",
        "    \n",
        "    # Plot ROC AUC\n",
        "    plt.title(f\" ROC of {model_name}  trained on {dataset_name} dataset & evaluated on the {test_dataset_name} dataset \")\n",
        "    plt.plot(fpr, tpr, 'b', label = 'AUC = %0.2f' % roc_auc)\n",
        "    plt.legend(loc = 'lower right')\n",
        "    plt.plot([0, 1], [0, 1],'r--')\n",
        "    plt.xlim([0, 1])\n",
        "    plt.ylim([0, 1])\n",
        "    plt.ylabel('True Positive Rate')\n",
        "    plt.xlabel('False Positive Rate')\n",
        "    plt.show()"
      ]
    },
    {
      "cell_type": "markdown",
      "id": "noble-alias",
      "metadata": {
        "papermill": {
          "duration": 0.140526,
          "end_time": "2021-06-12T10:06:07.894462",
          "exception": false,
          "start_time": "2021-06-12T10:06:07.753936",
          "status": "completed"
        },
        "tags": [],
        "id": "noble-alias"
      },
      "source": [
        "<a id=\"2.1.8\"> </a>\n",
        "##### Predict and evaluate validation subset"
      ]
    },
    {
      "cell_type": "code",
      "execution_count": 53,
      "id": "fossil-awareness",
      "metadata": {
        "execution": {
          "iopub.execute_input": "2021-06-12T10:06:08.170084Z",
          "iopub.status.busy": "2021-06-12T10:06:08.169287Z",
          "iopub.status.idle": "2021-06-12T10:06:11.469030Z",
          "shell.execute_reply": "2021-06-12T10:06:11.468617Z"
        },
        "papermill": {
          "duration": 3.439244,
          "end_time": "2021-06-12T10:06:11.469148",
          "exception": false,
          "start_time": "2021-06-12T10:06:08.029904",
          "status": "completed"
        },
        "tags": [],
        "id": "fossil-awareness",
        "colab": {
          "base_uri": "https://localhost:8080/",
          "height": 507
        },
        "outputId": "54c3b011-48b1-4b05-ca72-47cddbf71859"
      },
      "outputs": [
        {
          "output_type": "stream",
          "name": "stdout",
          "text": [
            "AUC: 0.9229\n",
            "Accuracy: 90.89%\n"
          ]
        },
        {
          "output_type": "display_data",
          "data": {
            "text/plain": [
              "<Figure size 640x480 with 1 Axes>"
            ],
            "image/png": "[encoded data removed]"
          },
          "metadata": {}
        }
      ],
      "source": [
        "# Compute predicted probabilities on the validation set\n",
        "probs = bert_predict(bert_classifier, val_dataloader)\n",
        "\n",
        "# Evaluate the Bert classifier\n",
        "evaluate_roc(probs, y_val, \"BERT-mini\", \"All types of hate speech\", \"All types of hate speech validation data\")"
      ]
    },
    {
      "cell_type": "markdown",
      "id": "sticky-picnic",
      "metadata": {
        "papermill": {
          "duration": 0.13645,
          "end_time": "2021-06-12T10:06:11.742885",
          "exception": false,
          "start_time": "2021-06-12T10:06:11.606435",
          "status": "completed"
        },
        "tags": [],
        "id": "sticky-picnic"
      },
      "source": [
        "<a id=\"2.1.9\"> </a>\n",
        "##### Predict and evaluate test subset"
      ]
    },
    {
      "cell_type": "code",
      "execution_count": 54,
      "id": "useful-weight",
      "metadata": {
        "execution": {
          "iopub.execute_input": "2021-06-12T10:06:12.022558Z",
          "iopub.status.busy": "2021-06-12T10:06:12.021762Z",
          "iopub.status.idle": "2021-06-12T10:06:15.832306Z",
          "shell.execute_reply": "2021-06-12T10:06:15.831415Z"
        },
        "papermill": {
          "duration": 3.952785,
          "end_time": "2021-06-12T10:06:15.832448",
          "exception": false,
          "start_time": "2021-06-12T10:06:11.879663",
          "status": "completed"
        },
        "tags": [],
        "id": "useful-weight",
        "colab": {
          "base_uri": "https://localhost:8080/"
        },
        "outputId": "ee6fbc29-01ce-42f9-894d-6f187fa3f9cd"
      },
      "outputs": [
        {
          "output_type": "stream",
          "name": "stdout",
          "text": [
            "Tokenizing data...\n"
          ]
        }
      ],
      "source": [
        "# Run `preprocessing_for_bert` on the test set\n",
        "print('Tokenizing data...')\n",
        "test_inputs, test_masks = preprocessing_for_bert(X_test)\n",
        "\n",
        "# Create the DataLoader for our test set\n",
        "test_dataset = TensorDataset(test_inputs, test_masks)\n",
        "test_sampler = SequentialSampler(test_dataset)\n",
        "test_dataloader = DataLoader(test_dataset, sampler=test_sampler, batch_size=32)"
      ]
    },
    {
      "cell_type": "code",
      "execution_count": 55,
      "id": "defensive-freight",
      "metadata": {
        "execution": {
          "iopub.execute_input": "2021-06-12T10:06:16.114175Z",
          "iopub.status.busy": "2021-06-12T10:06:16.113390Z",
          "iopub.status.idle": "2021-06-12T10:06:23.511894Z",
          "shell.execute_reply": "2021-06-12T10:06:23.512487Z"
        },
        "papermill": {
          "duration": 7.542307,
          "end_time": "2021-06-12T10:06:23.512693",
          "exception": false,
          "start_time": "2021-06-12T10:06:15.970386",
          "status": "completed"
        },
        "tags": [],
        "id": "defensive-freight",
        "colab": {
          "base_uri": "https://localhost:8080/"
        },
        "outputId": "27df9b0c-f137-47cd-bd85-3874a75b0c47"
      },
      "outputs": [
        {
          "output_type": "stream",
          "name": "stdout",
          "text": [
            "hate speech tweets ratio  0.08736717827626919\n"
          ]
        }
      ],
      "source": [
        "# Compute predicted probabilities on the test set\n",
        "probs = bert_predict(bert_classifier, test_dataloader)\n",
        "\n",
        "# Get predictions from the probabilities\n",
        "threshold = 0.5\n",
        "preds = np.where(probs[:, 1] > threshold, 1, 0)\n",
        "\n",
        "# Number of tweets predicted hate speech\n",
        "print(\"hate speech tweets ratio \", preds.sum()/len(preds))"
      ]
    },
    {
      "cell_type": "code",
      "execution_count": 56,
      "id": "framed-colonial",
      "metadata": {
        "execution": {
          "iopub.execute_input": "2021-06-12T10:06:23.794347Z",
          "iopub.status.busy": "2021-06-12T10:06:23.793539Z",
          "iopub.status.idle": "2021-06-12T10:06:23.931110Z",
          "shell.execute_reply": "2021-06-12T10:06:23.930710Z"
        },
        "papermill": {
          "duration": 0.280124,
          "end_time": "2021-06-12T10:06:23.931225",
          "exception": false,
          "start_time": "2021-06-12T10:06:23.651101",
          "status": "completed"
        },
        "tags": [],
        "id": "framed-colonial",
        "colab": {
          "base_uri": "https://localhost:8080/",
          "height": 507
        },
        "outputId": "8e103e65-49db-46eb-ea60-36394d0a2c28"
      },
      "outputs": [
        {
          "output_type": "stream",
          "name": "stdout",
          "text": [
            "AUC: 0.9020\n",
            "Accuracy: 91.62%\n"
          ]
        },
        {
          "output_type": "display_data",
          "data": {
            "text/plain": [
              "<Figure size 640x480 with 1 Axes>"
            ],
            "image/png": "[encoded data removed]"
          },
          "metadata": {}
        }
      ],
      "source": [
        "# Evaluate the Bert classifier for unseen test data\n",
        "evaluate_roc(probs, y_test,\"BERT-mini\", \"All types of hate speech\", \"All types of hate speech test data\")"
      ]
    },
    {
      "cell_type": "markdown",
      "id": "copyrighted-novelty",
      "metadata": {
        "papermill": {
          "duration": 0.144574,
          "end_time": "2021-06-12T10:08:03.168099",
          "exception": false,
          "start_time": "2021-06-12T10:08:03.023525",
          "status": "completed"
        },
        "tags": [],
        "id": "copyrighted-novelty"
      },
      "source": [
        "<a id=\"2.2\"> </a>\n",
        "### BERT-mini without emojis"
      ]
    },
    {
      "cell_type": "markdown",
      "id": "mighty-packet",
      "metadata": {
        "papermill": {
          "duration": 0.143264,
          "end_time": "2021-06-12T10:08:03.457101",
          "exception": false,
          "start_time": "2021-06-12T10:08:03.313837",
          "status": "completed"
        },
        "tags": [],
        "id": "mighty-packet"
      },
      "source": [
        "<a id=\"2.2.1\"> </a>\n",
        "##### Define modified preprocessing function"
      ]
    },
    {
      "cell_type": "code",
      "execution_count": 57,
      "id": "average-penetration",
      "metadata": {
        "execution": {
          "iopub.execute_input": "2021-06-12T10:08:03.934670Z",
          "iopub.status.busy": "2021-06-12T10:08:03.933152Z",
          "iopub.status.idle": "2021-06-12T10:08:03.936004Z",
          "shell.execute_reply": "2021-06-12T10:08:03.935361Z"
        },
        "papermill": {
          "duration": 0.245972,
          "end_time": "2021-06-12T10:08:03.936153",
          "exception": false,
          "start_time": "2021-06-12T10:08:03.690181",
          "status": "completed"
        },
        "tags": [],
        "id": "average-penetration"
      },
      "outputs": [],
      "source": [
        "def remove_emojis(sent):\n",
        "    text =  emoji.demojize(sent)\n",
        "    text= re.sub(r'(:[!_\\-\\w]+:)', '', text)\n",
        "    return text"
      ]
    },
    {
      "cell_type": "code",
      "execution_count": 58,
      "id": "french-cookie",
      "metadata": {
        "execution": {
          "iopub.execute_input": "2021-06-12T10:08:04.258756Z",
          "iopub.status.busy": "2021-06-12T10:08:04.257906Z",
          "iopub.status.idle": "2021-06-12T10:08:04.260532Z",
          "shell.execute_reply": "2021-06-12T10:08:04.260112Z"
        },
        "papermill": {
          "duration": 0.15105,
          "end_time": "2021-06-12T10:08:04.260665",
          "exception": false,
          "start_time": "2021-06-12T10:08:04.109615",
          "status": "completed"
        },
        "tags": [],
        "id": "french-cookie"
      },
      "outputs": [],
      "source": [
        "# Redefine the text_processing function to include the remove emojis step\n",
        "def text_preprocessing_no_emojis(text):\n",
        "    \"\"\"\n",
        "    - Remove entity mentions (eg. '@united')\n",
        "    - Correct errors (eg. '&amp;' to '&')\n",
        "    @param    text (str): a string to be processed.\n",
        "    @return   text (Str): the processed string.\n",
        "    \"\"\"\n",
        "  \n",
        "    # Remove emojis\n",
        "    text = remove_emojis(text)\n",
        "\n",
        "    return text_preprocessing(text)"
      ]
    },
    {
      "cell_type": "markdown",
      "id": "recreational-aquarium",
      "metadata": {
        "papermill": {
          "duration": 0.143872,
          "end_time": "2021-06-12T10:08:04.549145",
          "exception": false,
          "start_time": "2021-06-12T10:08:04.405273",
          "status": "completed"
        },
        "tags": [],
        "id": "recreational-aquarium"
      },
      "source": [
        "<a id=\"2.2.2\"> </a>\n",
        "##### Preprocess and create data loaders"
      ]
    },
    {
      "cell_type": "code",
      "execution_count": 59,
      "id": "advised-alcohol",
      "metadata": {
        "execution": {
          "iopub.execute_input": "2021-06-12T10:08:04.845855Z",
          "iopub.status.busy": "2021-06-12T10:08:04.845188Z",
          "iopub.status.idle": "2021-06-12T10:08:31.434923Z",
          "shell.execute_reply": "2021-06-12T10:08:31.434440Z"
        },
        "papermill": {
          "duration": 26.741652,
          "end_time": "2021-06-12T10:08:31.435059",
          "exception": false,
          "start_time": "2021-06-12T10:08:04.693407",
          "status": "completed"
        },
        "tags": [],
        "id": "advised-alcohol",
        "colab": {
          "base_uri": "https://localhost:8080/"
        },
        "outputId": "cfb8aa6a-0ddb-4c62-d552-fb23cb4a94ae"
      },
      "outputs": [
        {
          "output_type": "stream",
          "name": "stdout",
          "text": [
            "Original:  @USER ردينا ع التطنز 😏👊🏻\n",
            "Token IDs:  [2, 3147, 2230, 241, 3115, 7983, 3, 0, 0, 0, 0, 0, 0, 0, 0, 0, 0, 0, 0, 0, 0, 0, 0, 0, 0, 0, 0, 0, 0, 0, 0, 0, 0, 0, 0, 0, 0, 0, 0, 0, 0, 0, 0, 0, 0, 0, 0, 0, 0, 0, 0, 0, 0, 0, 0, 0, 0, 0, 0, 0, 0, 0, 0, 0, 0, 0, 0, 0, 0, 0, 0, 0, 0, 0, 0, 0, 0, 0, 0, 0, 0, 0, 0, 0, 0, 0, 0, 0, 0, 0, 0, 0, 0, 0, 0, 0, 0, 0, 0, 0, 0, 0, 0, 0, 0, 0, 0, 0, 0, 0, 0, 0, 0, 0, 0, 0, 0, 0, 0, 0, 0, 0, 0, 0, 0, 0, 0, 0, 0, 0, 0, 0, 0, 0, 0, 0, 0, 0, 0, 0, 0, 0, 0, 0, 0, 0, 0, 0, 0, 0, 0, 0, 0, 0, 0, 0, 0, 0, 0, 0, 0, 0, 0, 0, 0, 0, 0, 0, 0, 0, 0, 0, 0, 0, 0, 0, 0, 0, 0, 0, 0, 0, 0, 0, 0, 0, 0, 0, 0, 0, 0, 0, 0, 0, 0, 0, 0, 0, 0, 0, 0, 0, 0, 0, 0, 0, 0, 0, 0, 0, 0, 0, 0, 0, 0, 0, 0, 0, 0, 0, 0, 0, 0, 0, 0, 0, 0, 0, 0, 0, 0, 0, 0, 0, 0, 0, 0, 0, 0, 0, 0, 0, 0, 0, 0, 0, 0, 0, 0, 0, 0, 0, 0, 0, 0, 0, 0, 0, 0, 0, 0, 0, 0, 0, 0, 0, 0, 0, 0, 0, 0, 0, 0, 0, 0, 0, 0, 0, 0, 0]\n",
            "Tokenizing data...\n"
          ]
        }
      ],
      "source": [
        "# Specify `MAX_LEN`\n",
        "MAX_LEN =  280\n",
        "\n",
        "# Print sentence 0 and its encoded token ids\n",
        "token_ids = list(preprocessing_for_bert([X[0]], text_preprocessing_fn=text_preprocessing_no_emojis)[0].squeeze().numpy())\n",
        "print('Original: ', X[0])\n",
        "print('Token IDs: ', token_ids)\n",
        "\n",
        "# Run function `preprocessing_for_bert` on the train set and the validation set\n",
        "print('Tokenizing data...')\n",
        "train_inputs, train_masks = preprocessing_for_bert(X_train, text_preprocessing_fn=text_preprocessing_no_emojis)\n",
        "val_inputs, val_masks = preprocessing_for_bert(X_val, text_preprocessing_fn=text_preprocessing_no_emojis)\n",
        "from torch.utils.data import TensorDataset, DataLoader, RandomSampler, SequentialSampler\n",
        "\n",
        "# Convert other data types to torch.Tensor\n",
        "train_labels = torch.tensor(y_train)\n",
        "val_labels = torch.tensor(y_val)\n",
        "\n",
        "# For fine-tuning BERT, the authors recommend a batch size of 16 or 32.\n",
        "batch_size = 16\n",
        "\n",
        "# Create the DataLoader for our training set\n",
        "train_data = TensorDataset(train_inputs, train_masks, train_labels)\n",
        "train_sampler = RandomSampler(train_data)\n",
        "train_dataloader = DataLoader(train_data, sampler=train_sampler, batch_size=batch_size)\n",
        "\n",
        "# Create the DataLoader for our validation set\n",
        "val_data = TensorDataset(val_inputs, val_masks, val_labels)\n",
        "val_sampler = SequentialSampler(val_data)\n",
        "val_dataloader = DataLoader(val_data, sampler=val_sampler, batch_size=batch_size)"
      ]
    },
    {
      "cell_type": "markdown",
      "id": "checked-craps",
      "metadata": {
        "papermill": {
          "duration": 0.144038,
          "end_time": "2021-06-12T10:08:31.724528",
          "exception": false,
          "start_time": "2021-06-12T10:08:31.580490",
          "status": "completed"
        },
        "tags": [],
        "id": "checked-craps"
      },
      "source": [
        "<a id=\"2.2.3\"> </a>\n",
        "##### Train"
      ]
    },
    {
      "cell_type": "code",
      "execution_count": 60,
      "id": "talented-sending",
      "metadata": {
        "execution": {
          "iopub.execute_input": "2021-06-12T10:08:32.020488Z",
          "iopub.status.busy": "2021-06-12T10:08:32.018534Z",
          "iopub.status.idle": "2021-06-12T10:12:50.954646Z",
          "shell.execute_reply": "2021-06-12T10:12:50.955185Z"
        },
        "papermill": {
          "duration": 259.086339,
          "end_time": "2021-06-12T10:12:50.955395",
          "exception": false,
          "start_time": "2021-06-12T10:08:31.869056",
          "status": "completed"
        },
        "tags": [],
        "id": "talented-sending",
        "colab": {
          "base_uri": "https://localhost:8080/"
        },
        "outputId": "039430be-1609-4479-f1c9-f2af09f804bd"
      },
      "outputs": [
        {
          "output_type": "stream",
          "name": "stderr",
          "text": [
            "Some weights of the model checkpoint at asafaya/bert-mini-arabic were not used when initializing BertModel: ['cls.predictions.transform.LayerNorm.bias', 'cls.predictions.transform.LayerNorm.weight', 'cls.predictions.decoder.weight', 'cls.predictions.decoder.bias', 'cls.predictions.transform.dense.weight', 'cls.predictions.transform.dense.bias', 'cls.predictions.bias']\n",
            "- This IS expected if you are initializing BertModel from the checkpoint of a model trained on another task or with another architecture (e.g. initializing a BertForSequenceClassification model from a BertForPreTraining model).\n",
            "- This IS NOT expected if you are initializing BertModel from the checkpoint of a model that you expect to be exactly identical (initializing a BertForSequenceClassification model from a BertForSequenceClassification model).\n",
            "/usr/local/lib/python3.9/dist-packages/transformers/optimization.py:391: FutureWarning: This implementation of AdamW is deprecated and will be removed in a future version. Use the PyTorch implementation torch.optim.AdamW instead, or set `no_deprecation_warning=True` to disable this warning\n",
            "  warnings.warn(\n"
          ]
        },
        {
          "output_type": "stream",
          "name": "stdout",
          "text": [
            "Start training...\n",
            "\n",
            " Epoch  |  Batch  |  Train Loss  |  Val Loss  |  Val Acc  |  Elapsed \n",
            "----------------------------------------------------------------------\n",
            "   1    |   20    |   0.473442   |     -      |     -     |   63.54  \n",
            "   1    |   40    |   0.370727   |     -      |     -     |   49.90  \n",
            "   1    |   60    |   0.340153   |     -      |     -     |   48.56  \n",
            "   1    |   80    |   0.339729   |     -      |     -     |   49.51  \n",
            "   1    |   100   |   0.263531   |     -      |     -     |   47.42  \n",
            "   1    |   120   |   0.276918   |     -      |     -     |   50.42  \n",
            "   1    |   140   |   0.342051   |     -      |     -     |   49.46  \n",
            "   1    |   160   |   0.346121   |     -      |     -     |   50.07  \n",
            "   1    |   180   |   0.269610   |     -      |     -     |   48.38  \n",
            "   1    |   200   |   0.265052   |     -      |     -     |   50.17  \n",
            "   1    |   220   |   0.334397   |     -      |     -     |   48.87  \n",
            "   1    |   240   |   0.300554   |     -      |     -     |   50.32  \n",
            "   1    |   260   |   0.336279   |     -      |     -     |   48.54  \n",
            "   1    |   280   |   0.255635   |     -      |     -     |   49.48  \n",
            "   1    |   300   |   0.251223   |     -      |     -     |   48.21  \n",
            "   1    |   320   |   0.302182   |     -      |     -     |   49.94  \n",
            "   1    |   340   |   0.252829   |     -      |     -     |   47.66  \n",
            "   1    |   360   |   0.329327   |     -      |     -     |   49.68  \n",
            "   1    |   380   |   0.256567   |     -      |     -     |   47.30  \n",
            "   1    |   400   |   0.291015   |     -      |     -     |   48.33  \n",
            "   1    |   420   |   0.289854   |     -      |     -     |   49.19  \n",
            "   1    |   440   |   0.237608   |     -      |     -     |   48.69  \n",
            "   1    |   460   |   0.277217   |     -      |     -     |   51.13  \n",
            "   1    |   480   |   0.246198   |     -      |     -     |   49.33  \n",
            "   1    |   481   |   0.016741   |     -      |     -     |   0.89   \n",
            "----------------------------------------------------------------------\n",
            "   1    |    -    |   0.301773   |  0.292179  |   90.74   |  1236.33 \n",
            "----------------------------------------------------------------------\n",
            "\n",
            "\n",
            " Epoch  |  Batch  |  Train Loss  |  Val Loss  |  Val Acc  |  Elapsed \n",
            "----------------------------------------------------------------------\n",
            "   2    |   20    |   0.209504   |     -      |     -     |   52.29  \n",
            "   2    |   40    |   0.221867   |     -      |     -     |   50.80  \n",
            "   2    |   60    |   0.158828   |     -      |     -     |   49.40  \n",
            "   2    |   80    |   0.177212   |     -      |     -     |   54.46  \n",
            "   2    |   100   |   0.247892   |     -      |     -     |   49.28  \n",
            "   2    |   120   |   0.308880   |     -      |     -     |   51.68  \n",
            "   2    |   140   |   0.229390   |     -      |     -     |   50.68  \n",
            "   2    |   160   |   0.285655   |     -      |     -     |   50.90  \n",
            "   2    |   180   |   0.240811   |     -      |     -     |   48.35  \n",
            "   2    |   200   |   0.184339   |     -      |     -     |   49.54  \n",
            "   2    |   220   |   0.201142   |     -      |     -     |   48.86  \n",
            "   2    |   240   |   0.241127   |     -      |     -     |   49.47  \n",
            "   2    |   260   |   0.211470   |     -      |     -     |   49.33  \n",
            "   2    |   280   |   0.247403   |     -      |     -     |   51.28  \n",
            "   2    |   300   |   0.204037   |     -      |     -     |   49.28  \n",
            "   2    |   320   |   0.205252   |     -      |     -     |   50.61  \n",
            "   2    |   340   |   0.284252   |     -      |     -     |   50.69  \n",
            "   2    |   360   |   0.213145   |     -      |     -     |   51.48  \n",
            "   2    |   380   |   0.308181   |     -      |     -     |   50.08  \n",
            "   2    |   400   |   0.147860   |     -      |     -     |   51.31  \n",
            "   2    |   420   |   0.188900   |     -      |     -     |   51.98  \n",
            "   2    |   440   |   0.233772   |     -      |     -     |   49.38  \n",
            "   2    |   460   |   0.206381   |     -      |     -     |   49.91  \n",
            "   2    |   480   |   0.219239   |     -      |     -     |   52.85  \n",
            "   2    |   481   |   0.138172   |     -      |     -     |   0.73   \n",
            "----------------------------------------------------------------------\n",
            "   2    |    -    |   0.223814   |  0.243678  |   90.74   |  1255.18 \n",
            "----------------------------------------------------------------------\n",
            "\n",
            "\n",
            "Training complete!\n"
          ]
        }
      ],
      "source": [
        "set_seed(42) \n",
        "bert_classifier, optimizer, scheduler = initialize_model(epochs=2)\n",
        "train(bert_classifier, train_dataloader, val_dataloader, epochs=2, evaluation=True)"
      ]
    },
    {
      "cell_type": "markdown",
      "id": "interior-calcium",
      "metadata": {
        "papermill": {
          "duration": 0.209213,
          "end_time": "2021-06-12T10:12:51.798655",
          "exception": false,
          "start_time": "2021-06-12T10:12:51.589442",
          "status": "completed"
        },
        "tags": [],
        "id": "interior-calcium"
      },
      "source": [
        "<a id=\"2.2.4\"> </a>\n",
        "##### Evaluate on test datasets"
      ]
    },
    {
      "cell_type": "code",
      "source": [
        "# Evaluate the performance of a model on test datasets\n",
        "def evaluate_dataset(sents, labels, model_name, dataset_name, test_dataset_name):\n",
        "    test_inputs, test_masks = preprocessing_for_bert(sents)\n",
        "\n",
        "    # Create the DataLoader for our test set\n",
        "    test_dataset = TensorDataset(test_inputs, test_masks)\n",
        "    test_sampler = SequentialSampler(test_dataset)\n",
        "    test_dataloader = DataLoader(test_dataset, sampler=test_sampler, batch_size=32)\n",
        "    # Compute predicted probabilities on the test set\n",
        "    probs = bert_predict(bert_classifier, test_dataloader)\n",
        "\n",
        "    # Get predictions from the probabilities\n",
        "    threshold = 0.5\n",
        "    preds = np.where(probs[:, 1] > threshold, 1, 0)\n",
        "    auc_graph = evaluate_roc(probs, labels, model_name, dataset_name, test_dataset_name )\n",
        "\n",
        "    return auc_graph"
      ],
      "metadata": {
        "id": "zBSGaoUklwEY"
      },
      "id": "zBSGaoUklwEY",
      "execution_count": 61,
      "outputs": []
    },
    {
      "cell_type": "code",
      "execution_count": 62,
      "id": "suitable-trinidad",
      "metadata": {
        "execution": {
          "iopub.execute_input": "2021-06-12T10:12:52.226984Z",
          "iopub.status.busy": "2021-06-12T10:12:52.225029Z",
          "iopub.status.idle": "2021-06-12T10:13:03.818280Z",
          "shell.execute_reply": "2021-06-12T10:13:03.818789Z"
        },
        "papermill": {
          "duration": 11.810132,
          "end_time": "2021-06-12T10:13:03.818939",
          "exception": false,
          "start_time": "2021-06-12T10:12:52.008807",
          "status": "completed"
        },
        "tags": [],
        "id": "suitable-trinidad",
        "colab": {
          "base_uri": "https://localhost:8080/",
          "height": 493
        },
        "outputId": "0188a9ec-521e-4b2a-d84a-efe5f1e4bd5f"
      },
      "outputs": [
        {
          "output_type": "stream",
          "name": "stdout",
          "text": [
            "AUC: 0.9013\n",
            "Accuracy: 91.66%\n"
          ]
        },
        {
          "output_type": "display_data",
          "data": {
            "text/plain": [
              "<Figure size 640x480 with 1 Axes>"
            ],
            "image/png": "[encoded data removed]"
          },
          "metadata": {}
        }
      ],
      "source": [
        "# Evaluate on the unseen test data\n",
        "evaluate_dataset(X_test, y_test,\"BERT-mini no emojis\", \"All types of hate speech\", \"All types of hate speech test data\")"
      ]
    }
  ],
  "metadata": {
    "kernelspec": {
      "display_name": "Python 3",
      "language": "python",
      "name": "python3"
    },
    "language_info": {
      "codemirror_mode": {
        "name": "ipython",
        "version": 3
      },
      "file_extension": ".py",
      "mimetype": "text/x-python",
      "name": "python",
      "nbconvert_exporter": "python",
      "pygments_lexer": "ipython3",
      "version": "3.7.10"
    },
    "papermill": {
      "default_parameters": {},
      "duration": 7262.338698,
      "end_time": "2021-06-12T11:57:01.382847",
      "environment_variables": {},
      "exception": null,
      "input_path": "__notebook__.ipynb",
      "output_path": "__notebook__.ipynb",
      "parameters": {},
      "start_time": "2021-06-12T09:55:59.044149",
      "version": "2.3.3"
    },
    "colab": {
      "provenance": []
    },
    "widgets": {
      "application/vnd.jupyter.widget-state+json": {
        "e7f9f39d0ecb4e0a9816b67c4d1b96c9": {
          "model_module": "@jupyter-widgets/controls",
          "model_name": "HBoxModel",
          "model_module_version": "1.5.0",
          "state": {
            "_dom_classes": [],
            "_model_module": "@jupyter-widgets/controls",
            "_model_module_version": "1.5.0",
            "_model_name": "HBoxModel",
            "_view_count": null,
            "_view_module": "@jupyter-widgets/controls",
            "_view_module_version": "1.5.0",
            "_view_name": "HBoxView",
            "box_style": "",
            "children": [
              "IPY_MODEL_c58c18f609a242c0828ceb05f89b3338",
              "IPY_MODEL_2a22733f5a2847e89368912a13c3e2dc",
              "IPY_MODEL_a565365ec4904df686cf7967f261df64"
            ],
            "layout": "IPY_MODEL_6334249028d54ed891c22475b110c00d"
          }
        },
        "c58c18f609a242c0828ceb05f89b3338": {
          "model_module": "@jupyter-widgets/controls",
          "model_name": "HTMLModel",
          "model_module_version": "1.5.0",
          "state": {
            "_dom_classes": [],
            "_model_module": "@jupyter-widgets/controls",
            "_model_module_version": "1.5.0",
            "_model_name": "HTMLModel",
            "_view_count": null,
            "_view_module": "@jupyter-widgets/controls",
            "_view_module_version": "1.5.0",
            "_view_name": "HTMLView",
            "description": "",
            "description_tooltip": null,
            "layout": "IPY_MODEL_f1f6ba5ac9ef4f13a8ebd1cdf5d75c74",
            "placeholder": "​",
            "style": "IPY_MODEL_5b50ce0b239548049c8f7f31d3795768",
            "value": "Downloading (…)okenizer_config.json: 100%"
          }
        },
        "2a22733f5a2847e89368912a13c3e2dc": {
          "model_module": "@jupyter-widgets/controls",
          "model_name": "FloatProgressModel",
          "model_module_version": "1.5.0",
          "state": {
            "_dom_classes": [],
            "_model_module": "@jupyter-widgets/controls",
            "_model_module_version": "1.5.0",
            "_model_name": "FloatProgressModel",
            "_view_count": null,
            "_view_module": "@jupyter-widgets/controls",
            "_view_module_version": "1.5.0",
            "_view_name": "ProgressView",
            "bar_style": "success",
            "description": "",
            "description_tooltip": null,
            "layout": "IPY_MODEL_39c13c3c2b07430e95882bb20757a67e",
            "max": 62,
            "min": 0,
            "orientation": "horizontal",
            "style": "IPY_MODEL_41242de0c6c44f2f928acd1fc95ab4cd",
            "value": 62
          }
        },
        "a565365ec4904df686cf7967f261df64": {
          "model_module": "@jupyter-widgets/controls",
          "model_name": "HTMLModel",
          "model_module_version": "1.5.0",
          "state": {
            "_dom_classes": [],
            "_model_module": "@jupyter-widgets/controls",
            "_model_module_version": "1.5.0",
            "_model_name": "HTMLModel",
            "_view_count": null,
            "_view_module": "@jupyter-widgets/controls",
            "_view_module_version": "1.5.0",
            "_view_name": "HTMLView",
            "description": "",
            "description_tooltip": null,
            "layout": "IPY_MODEL_52943ba3586a48979d769d39024e142a",
            "placeholder": "​",
            "style": "IPY_MODEL_ab43f884e65947fca1077d2a9068cd33",
            "value": " 62.0/62.0 [00:00&lt;00:00, 358B/s]"
          }
        },
        "6334249028d54ed891c22475b110c00d": {
          "model_module": "@jupyter-widgets/base",
          "model_name": "LayoutModel",
          "model_module_version": "1.2.0",
          "state": {
            "_model_module": "@jupyter-widgets/base",
            "_model_module_version": "1.2.0",
            "_model_name": "LayoutModel",
            "_view_count": null,
            "_view_module": "@jupyter-widgets/base",
            "_view_module_version": "1.2.0",
            "_view_name": "LayoutView",
            "align_content": null,
            "align_items": null,
            "align_self": null,
            "border": null,
            "bottom": null,
            "display": null,
            "flex": null,
            "flex_flow": null,
            "grid_area": null,
            "grid_auto_columns": null,
            "grid_auto_flow": null,
            "grid_auto_rows": null,
            "grid_column": null,
            "grid_gap": null,
            "grid_row": null,
            "grid_template_areas": null,
            "grid_template_columns": null,
            "grid_template_rows": null,
            "height": null,
            "justify_content": null,
            "justify_items": null,
            "left": null,
            "margin": null,
            "max_height": null,
            "max_width": null,
            "min_height": null,
            "min_width": null,
            "object_fit": null,
            "object_position": null,
            "order": null,
            "overflow": null,
            "overflow_x": null,
            "overflow_y": null,
            "padding": null,
            "right": null,
            "top": null,
            "visibility": null,
            "width": null
          }
        },
        "f1f6ba5ac9ef4f13a8ebd1cdf5d75c74": {
          "model_module": "@jupyter-widgets/base",
          "model_name": "LayoutModel",
          "model_module_version": "1.2.0",
          "state": {
            "_model_module": "@jupyter-widgets/base",
            "_model_module_version": "1.2.0",
            "_model_name": "LayoutModel",
            "_view_count": null,
            "_view_module": "@jupyter-widgets/base",
            "_view_module_version": "1.2.0",
            "_view_name": "LayoutView",
            "align_content": null,
            "align_items": null,
            "align_self": null,
            "border": null,
            "bottom": null,
            "display": null,
            "flex": null,
            "flex_flow": null,
            "grid_area": null,
            "grid_auto_columns": null,
            "grid_auto_flow": null,
            "grid_auto_rows": null,
            "grid_column": null,
            "grid_gap": null,
            "grid_row": null,
            "grid_template_areas": null,
            "grid_template_columns": null,
            "grid_template_rows": null,
            "height": null,
            "justify_content": null,
            "justify_items": null,
            "left": null,
            "margin": null,
            "max_height": null,
            "max_width": null,
            "min_height": null,
            "min_width": null,
            "object_fit": null,
            "object_position": null,
            "order": null,
            "overflow": null,
            "overflow_x": null,
            "overflow_y": null,
            "padding": null,
            "right": null,
            "top": null,
            "visibility": null,
            "width": null
          }
        },
        "5b50ce0b239548049c8f7f31d3795768": {
          "model_module": "@jupyter-widgets/controls",
          "model_name": "DescriptionStyleModel",
          "model_module_version": "1.5.0",
          "state": {
            "_model_module": "@jupyter-widgets/controls",
            "_model_module_version": "1.5.0",
            "_model_name": "DescriptionStyleModel",
            "_view_count": null,
            "_view_module": "@jupyter-widgets/base",
            "_view_module_version": "1.2.0",
            "_view_name": "StyleView",
            "description_width": ""
          }
        },
        "39c13c3c2b07430e95882bb20757a67e": {
          "model_module": "@jupyter-widgets/base",
          "model_name": "LayoutModel",
          "model_module_version": "1.2.0",
          "state": {
            "_model_module": "@jupyter-widgets/base",
            "_model_module_version": "1.2.0",
            "_model_name": "LayoutModel",
            "_view_count": null,
            "_view_module": "@jupyter-widgets/base",
            "_view_module_version": "1.2.0",
            "_view_name": "LayoutView",
            "align_content": null,
            "align_items": null,
            "align_self": null,
            "border": null,
            "bottom": null,
            "display": null,
            "flex": null,
            "flex_flow": null,
            "grid_area": null,
            "grid_auto_columns": null,
            "grid_auto_flow": null,
            "grid_auto_rows": null,
            "grid_column": null,
            "grid_gap": null,
            "grid_row": null,
            "grid_template_areas": null,
            "grid_template_columns": null,
            "grid_template_rows": null,
            "height": null,
            "justify_content": null,
            "justify_items": null,
            "left": null,
            "margin": null,
            "max_height": null,
            "max_width": null,
            "min_height": null,
            "min_width": null,
            "object_fit": null,
            "object_position": null,
            "order": null,
            "overflow": null,
            "overflow_x": null,
            "overflow_y": null,
            "padding": null,
            "right": null,
            "top": null,
            "visibility": null,
            "width": null
          }
        },
        "41242de0c6c44f2f928acd1fc95ab4cd": {
          "model_module": "@jupyter-widgets/controls",
          "model_name": "ProgressStyleModel",
          "model_module_version": "1.5.0",
          "state": {
            "_model_module": "@jupyter-widgets/controls",
            "_model_module_version": "1.5.0",
            "_model_name": "ProgressStyleModel",
            "_view_count": null,
            "_view_module": "@jupyter-widgets/base",
            "_view_module_version": "1.2.0",
            "_view_name": "StyleView",
            "bar_color": null,
            "description_width": ""
          }
        },
        "52943ba3586a48979d769d39024e142a": {
          "model_module": "@jupyter-widgets/base",
          "model_name": "LayoutModel",
          "model_module_version": "1.2.0",
          "state": {
            "_model_module": "@jupyter-widgets/base",
            "_model_module_version": "1.2.0",
            "_model_name": "LayoutModel",
            "_view_count": null,
            "_view_module": "@jupyter-widgets/base",
            "_view_module_version": "1.2.0",
            "_view_name": "LayoutView",
            "align_content": null,
            "align_items": null,
            "align_self": null,
            "border": null,
            "bottom": null,
            "display": null,
            "flex": null,
            "flex_flow": null,
            "grid_area": null,
            "grid_auto_columns": null,
            "grid_auto_flow": null,
            "grid_auto_rows": null,
            "grid_column": null,
            "grid_gap": null,
            "grid_row": null,
            "grid_template_areas": null,
            "grid_template_columns": null,
            "grid_template_rows": null,
            "height": null,
            "justify_content": null,
            "justify_items": null,
            "left": null,
            "margin": null,
            "max_height": null,
            "max_width": null,
            "min_height": null,
            "min_width": null,
            "object_fit": null,
            "object_position": null,
            "order": null,
            "overflow": null,
            "overflow_x": null,
            "overflow_y": null,
            "padding": null,
            "right": null,
            "top": null,
            "visibility": null,
            "width": null
          }
        },
        "ab43f884e65947fca1077d2a9068cd33": {
          "model_module": "@jupyter-widgets/controls",
          "model_name": "DescriptionStyleModel",
          "model_module_version": "1.5.0",
          "state": {
            "_model_module": "@jupyter-widgets/controls",
            "_model_module_version": "1.5.0",
            "_model_name": "DescriptionStyleModel",
            "_view_count": null,
            "_view_module": "@jupyter-widgets/base",
            "_view_module_version": "1.2.0",
            "_view_name": "StyleView",
            "description_width": ""
          }
        },
        "de59f7a182834ee9b7cea474982f426f": {
          "model_module": "@jupyter-widgets/controls",
          "model_name": "HBoxModel",
          "model_module_version": "1.5.0",
          "state": {
            "_dom_classes": [],
            "_model_module": "@jupyter-widgets/controls",
            "_model_module_version": "1.5.0",
            "_model_name": "HBoxModel",
            "_view_count": null,
            "_view_module": "@jupyter-widgets/controls",
            "_view_module_version": "1.5.0",
            "_view_name": "HBoxView",
            "box_style": "",
            "children": [
              "IPY_MODEL_a70863092589432992eba869691371dd",
              "IPY_MODEL_f4d589d537484c84a31ed396151175cc",
              "IPY_MODEL_4d83b86fd68d4af58be382c72f38cf30"
            ],
            "layout": "IPY_MODEL_462a0f07dfb642b0b68a6c5f8545df34"
          }
        },
        "a70863092589432992eba869691371dd": {
          "model_module": "@jupyter-widgets/controls",
          "model_name": "HTMLModel",
          "model_module_version": "1.5.0",
          "state": {
            "_dom_classes": [],
            "_model_module": "@jupyter-widgets/controls",
            "_model_module_version": "1.5.0",
            "_model_name": "HTMLModel",
            "_view_count": null,
            "_view_module": "@jupyter-widgets/controls",
            "_view_module_version": "1.5.0",
            "_view_name": "HTMLView",
            "description": "",
            "description_tooltip": null,
            "layout": "IPY_MODEL_797db86efe0f4856b9cc2f6f6f1ef5b3",
            "placeholder": "​",
            "style": "IPY_MODEL_cc9baf6599fb46958c3dac12b901557a",
            "value": "Downloading (…)lve/main/config.json: 100%"
          }
        },
        "f4d589d537484c84a31ed396151175cc": {
          "model_module": "@jupyter-widgets/controls",
          "model_name": "FloatProgressModel",
          "model_module_version": "1.5.0",
          "state": {
            "_dom_classes": [],
            "_model_module": "@jupyter-widgets/controls",
            "_model_module_version": "1.5.0",
            "_model_name": "FloatProgressModel",
            "_view_count": null,
            "_view_module": "@jupyter-widgets/controls",
            "_view_module_version": "1.5.0",
            "_view_name": "ProgressView",
            "bar_style": "success",
            "description": "",
            "description_tooltip": null,
            "layout": "IPY_MODEL_80a706c1ca9a403eb674efe92a24fb26",
            "max": 509,
            "min": 0,
            "orientation": "horizontal",
            "style": "IPY_MODEL_b73a449f6d81438d95144f80c65d1dd6",
            "value": 509
          }
        },
        "4d83b86fd68d4af58be382c72f38cf30": {
          "model_module": "@jupyter-widgets/controls",
          "model_name": "HTMLModel",
          "model_module_version": "1.5.0",
          "state": {
            "_dom_classes": [],
            "_model_module": "@jupyter-widgets/controls",
            "_model_module_version": "1.5.0",
            "_model_name": "HTMLModel",
            "_view_count": null,
            "_view_module": "@jupyter-widgets/controls",
            "_view_module_version": "1.5.0",
            "_view_name": "HTMLView",
            "description": "",
            "description_tooltip": null,
            "layout": "IPY_MODEL_0f3e59e4ebac4fa0a7c38e04f02a58f4",
            "placeholder": "​",
            "style": "IPY_MODEL_4c20747bb0ad4a05bc81043215ae5c4f",
            "value": " 509/509 [00:00&lt;00:00, 5.13kB/s]"
          }
        },
        "462a0f07dfb642b0b68a6c5f8545df34": {
          "model_module": "@jupyter-widgets/base",
          "model_name": "LayoutModel",
          "model_module_version": "1.2.0",
          "state": {
            "_model_module": "@jupyter-widgets/base",
            "_model_module_version": "1.2.0",
            "_model_name": "LayoutModel",
            "_view_count": null,
            "_view_module": "@jupyter-widgets/base",
            "_view_module_version": "1.2.0",
            "_view_name": "LayoutView",
            "align_content": null,
            "align_items": null,
            "align_self": null,
            "border": null,
            "bottom": null,
            "display": null,
            "flex": null,
            "flex_flow": null,
            "grid_area": null,
            "grid_auto_columns": null,
            "grid_auto_flow": null,
            "grid_auto_rows": null,
            "grid_column": null,
            "grid_gap": null,
            "grid_row": null,
            "grid_template_areas": null,
            "grid_template_columns": null,
            "grid_template_rows": null,
            "height": null,
            "justify_content": null,
            "justify_items": null,
            "left": null,
            "margin": null,
            "max_height": null,
            "max_width": null,
            "min_height": null,
            "min_width": null,
            "object_fit": null,
            "object_position": null,
            "order": null,
            "overflow": null,
            "overflow_x": null,
            "overflow_y": null,
            "padding": null,
            "right": null,
            "top": null,
            "visibility": null,
            "width": null
          }
        },
        "797db86efe0f4856b9cc2f6f6f1ef5b3": {
          "model_module": "@jupyter-widgets/base",
          "model_name": "LayoutModel",
          "model_module_version": "1.2.0",
          "state": {
            "_model_module": "@jupyter-widgets/base",
            "_model_module_version": "1.2.0",
            "_model_name": "LayoutModel",
            "_view_count": null,
            "_view_module": "@jupyter-widgets/base",
            "_view_module_version": "1.2.0",
            "_view_name": "LayoutView",
            "align_content": null,
            "align_items": null,
            "align_self": null,
            "border": null,
            "bottom": null,
            "display": null,
            "flex": null,
            "flex_flow": null,
            "grid_area": null,
            "grid_auto_columns": null,
            "grid_auto_flow": null,
            "grid_auto_rows": null,
            "grid_column": null,
            "grid_gap": null,
            "grid_row": null,
            "grid_template_areas": null,
            "grid_template_columns": null,
            "grid_template_rows": null,
            "height": null,
            "justify_content": null,
            "justify_items": null,
            "left": null,
            "margin": null,
            "max_height": null,
            "max_width": null,
            "min_height": null,
            "min_width": null,
            "object_fit": null,
            "object_position": null,
            "order": null,
            "overflow": null,
            "overflow_x": null,
            "overflow_y": null,
            "padding": null,
            "right": null,
            "top": null,
            "visibility": null,
            "width": null
          }
        },
        "cc9baf6599fb46958c3dac12b901557a": {
          "model_module": "@jupyter-widgets/controls",
          "model_name": "DescriptionStyleModel",
          "model_module_version": "1.5.0",
          "state": {
            "_model_module": "@jupyter-widgets/controls",
            "_model_module_version": "1.5.0",
            "_model_name": "DescriptionStyleModel",
            "_view_count": null,
            "_view_module": "@jupyter-widgets/base",
            "_view_module_version": "1.2.0",
            "_view_name": "StyleView",
            "description_width": ""
          }
        },
        "80a706c1ca9a403eb674efe92a24fb26": {
          "model_module": "@jupyter-widgets/base",
          "model_name": "LayoutModel",
          "model_module_version": "1.2.0",
          "state": {
            "_model_module": "@jupyter-widgets/base",
            "_model_module_version": "1.2.0",
            "_model_name": "LayoutModel",
            "_view_count": null,
            "_view_module": "@jupyter-widgets/base",
            "_view_module_version": "1.2.0",
            "_view_name": "LayoutView",
            "align_content": null,
            "align_items": null,
            "align_self": null,
            "border": null,
            "bottom": null,
            "display": null,
            "flex": null,
            "flex_flow": null,
            "grid_area": null,
            "grid_auto_columns": null,
            "grid_auto_flow": null,
            "grid_auto_rows": null,
            "grid_column": null,
            "grid_gap": null,
            "grid_row": null,
            "grid_template_areas": null,
            "grid_template_columns": null,
            "grid_template_rows": null,
            "height": null,
            "justify_content": null,
            "justify_items": null,
            "left": null,
            "margin": null,
            "max_height": null,
            "max_width": null,
            "min_height": null,
            "min_width": null,
            "object_fit": null,
            "object_position": null,
            "order": null,
            "overflow": null,
            "overflow_x": null,
            "overflow_y": null,
            "padding": null,
            "right": null,
            "top": null,
            "visibility": null,
            "width": null
          }
        },
        "b73a449f6d81438d95144f80c65d1dd6": {
          "model_module": "@jupyter-widgets/controls",
          "model_name": "ProgressStyleModel",
          "model_module_version": "1.5.0",
          "state": {
            "_model_module": "@jupyter-widgets/controls",
            "_model_module_version": "1.5.0",
            "_model_name": "ProgressStyleModel",
            "_view_count": null,
            "_view_module": "@jupyter-widgets/base",
            "_view_module_version": "1.2.0",
            "_view_name": "StyleView",
            "bar_color": null,
            "description_width": ""
          }
        },
        "0f3e59e4ebac4fa0a7c38e04f02a58f4": {
          "model_module": "@jupyter-widgets/base",
          "model_name": "LayoutModel",
          "model_module_version": "1.2.0",
          "state": {
            "_model_module": "@jupyter-widgets/base",
            "_model_module_version": "1.2.0",
            "_model_name": "LayoutModel",
            "_view_count": null,
            "_view_module": "@jupyter-widgets/base",
            "_view_module_version": "1.2.0",
            "_view_name": "LayoutView",
            "align_content": null,
            "align_items": null,
            "align_self": null,
            "border": null,
            "bottom": null,
            "display": null,
            "flex": null,
            "flex_flow": null,
            "grid_area": null,
            "grid_auto_columns": null,
            "grid_auto_flow": null,
            "grid_auto_rows": null,
            "grid_column": null,
            "grid_gap": null,
            "grid_row": null,
            "grid_template_areas": null,
            "grid_template_columns": null,
            "grid_template_rows": null,
            "height": null,
            "justify_content": null,
            "justify_items": null,
            "left": null,
            "margin": null,
            "max_height": null,
            "max_width": null,
            "min_height": null,
            "min_width": null,
            "object_fit": null,
            "object_position": null,
            "order": null,
            "overflow": null,
            "overflow_x": null,
            "overflow_y": null,
            "padding": null,
            "right": null,
            "top": null,
            "visibility": null,
            "width": null
          }
        },
        "4c20747bb0ad4a05bc81043215ae5c4f": {
          "model_module": "@jupyter-widgets/controls",
          "model_name": "DescriptionStyleModel",
          "model_module_version": "1.5.0",
          "state": {
            "_model_module": "@jupyter-widgets/controls",
            "_model_module_version": "1.5.0",
            "_model_name": "DescriptionStyleModel",
            "_view_count": null,
            "_view_module": "@jupyter-widgets/base",
            "_view_module_version": "1.2.0",
            "_view_name": "StyleView",
            "description_width": ""
          }
        },
        "efe3988a60ff48d0a7b0a211a22997dd": {
          "model_module": "@jupyter-widgets/controls",
          "model_name": "HBoxModel",
          "model_module_version": "1.5.0",
          "state": {
            "_dom_classes": [],
            "_model_module": "@jupyter-widgets/controls",
            "_model_module_version": "1.5.0",
            "_model_name": "HBoxModel",
            "_view_count": null,
            "_view_module": "@jupyter-widgets/controls",
            "_view_module_version": "1.5.0",
            "_view_name": "HBoxView",
            "box_style": "",
            "children": [
              "IPY_MODEL_7b15b47d83e844819505d5fbe7ef89bf",
              "IPY_MODEL_cfb5496b7b82481ab129dc349b163108",
              "IPY_MODEL_4b975fb0996c4c548306123303c002ef"
            ],
            "layout": "IPY_MODEL_5de26ecbff864b35834d46e9783fc74f"
          }
        },
        "7b15b47d83e844819505d5fbe7ef89bf": {
          "model_module": "@jupyter-widgets/controls",
          "model_name": "HTMLModel",
          "model_module_version": "1.5.0",
          "state": {
            "_dom_classes": [],
            "_model_module": "@jupyter-widgets/controls",
            "_model_module_version": "1.5.0",
            "_model_name": "HTMLModel",
            "_view_count": null,
            "_view_module": "@jupyter-widgets/controls",
            "_view_module_version": "1.5.0",
            "_view_name": "HTMLView",
            "description": "",
            "description_tooltip": null,
            "layout": "IPY_MODEL_4b7eefd9e4e3485ca559be790d1961a4",
            "placeholder": "​",
            "style": "IPY_MODEL_c433d7296cd54ffdbb9dac27fb975e80",
            "value": "Downloading (…)solve/main/vocab.txt: 100%"
          }
        },
        "cfb5496b7b82481ab129dc349b163108": {
          "model_module": "@jupyter-widgets/controls",
          "model_name": "FloatProgressModel",
          "model_module_version": "1.5.0",
          "state": {
            "_dom_classes": [],
            "_model_module": "@jupyter-widgets/controls",
            "_model_module_version": "1.5.0",
            "_model_name": "FloatProgressModel",
            "_view_count": null,
            "_view_module": "@jupyter-widgets/controls",
            "_view_module_version": "1.5.0",
            "_view_name": "ProgressView",
            "bar_style": "success",
            "description": "",
            "description_tooltip": null,
            "layout": "IPY_MODEL_bdb7d39b1ee2453c8e5da9d3c6c13e41",
            "max": 333770,
            "min": 0,
            "orientation": "horizontal",
            "style": "IPY_MODEL_c4e86ef310f441899fca69ec01bdbcbc",
            "value": 333770
          }
        },
        "4b975fb0996c4c548306123303c002ef": {
          "model_module": "@jupyter-widgets/controls",
          "model_name": "HTMLModel",
          "model_module_version": "1.5.0",
          "state": {
            "_dom_classes": [],
            "_model_module": "@jupyter-widgets/controls",
            "_model_module_version": "1.5.0",
            "_model_name": "HTMLModel",
            "_view_count": null,
            "_view_module": "@jupyter-widgets/controls",
            "_view_module_version": "1.5.0",
            "_view_name": "HTMLView",
            "description": "",
            "description_tooltip": null,
            "layout": "IPY_MODEL_3447d3f173274a10bf1ad25956e4d003",
            "placeholder": "​",
            "style": "IPY_MODEL_bd559a489af142109ed6068ad30b4aa3",
            "value": " 334k/334k [00:00&lt;00:00, 2.08MB/s]"
          }
        },
        "5de26ecbff864b35834d46e9783fc74f": {
          "model_module": "@jupyter-widgets/base",
          "model_name": "LayoutModel",
          "model_module_version": "1.2.0",
          "state": {
            "_model_module": "@jupyter-widgets/base",
            "_model_module_version": "1.2.0",
            "_model_name": "LayoutModel",
            "_view_count": null,
            "_view_module": "@jupyter-widgets/base",
            "_view_module_version": "1.2.0",
            "_view_name": "LayoutView",
            "align_content": null,
            "align_items": null,
            "align_self": null,
            "border": null,
            "bottom": null,
            "display": null,
            "flex": null,
            "flex_flow": null,
            "grid_area": null,
            "grid_auto_columns": null,
            "grid_auto_flow": null,
            "grid_auto_rows": null,
            "grid_column": null,
            "grid_gap": null,
            "grid_row": null,
            "grid_template_areas": null,
            "grid_template_columns": null,
            "grid_template_rows": null,
            "height": null,
            "justify_content": null,
            "justify_items": null,
            "left": null,
            "margin": null,
            "max_height": null,
            "max_width": null,
            "min_height": null,
            "min_width": null,
            "object_fit": null,
            "object_position": null,
            "order": null,
            "overflow": null,
            "overflow_x": null,
            "overflow_y": null,
            "padding": null,
            "right": null,
            "top": null,
            "visibility": null,
            "width": null
          }
        },
        "4b7eefd9e4e3485ca559be790d1961a4": {
          "model_module": "@jupyter-widgets/base",
          "model_name": "LayoutModel",
          "model_module_version": "1.2.0",
          "state": {
            "_model_module": "@jupyter-widgets/base",
            "_model_module_version": "1.2.0",
            "_model_name": "LayoutModel",
            "_view_count": null,
            "_view_module": "@jupyter-widgets/base",
            "_view_module_version": "1.2.0",
            "_view_name": "LayoutView",
            "align_content": null,
            "align_items": null,
            "align_self": null,
            "border": null,
            "bottom": null,
            "display": null,
            "flex": null,
            "flex_flow": null,
            "grid_area": null,
            "grid_auto_columns": null,
            "grid_auto_flow": null,
            "grid_auto_rows": null,
            "grid_column": null,
            "grid_gap": null,
            "grid_row": null,
            "grid_template_areas": null,
            "grid_template_columns": null,
            "grid_template_rows": null,
            "height": null,
            "justify_content": null,
            "justify_items": null,
            "left": null,
            "margin": null,
            "max_height": null,
            "max_width": null,
            "min_height": null,
            "min_width": null,
            "object_fit": null,
            "object_position": null,
            "order": null,
            "overflow": null,
            "overflow_x": null,
            "overflow_y": null,
            "padding": null,
            "right": null,
            "top": null,
            "visibility": null,
            "width": null
          }
        },
        "c433d7296cd54ffdbb9dac27fb975e80": {
          "model_module": "@jupyter-widgets/controls",
          "model_name": "DescriptionStyleModel",
          "model_module_version": "1.5.0",
          "state": {
            "_model_module": "@jupyter-widgets/controls",
            "_model_module_version": "1.5.0",
            "_model_name": "DescriptionStyleModel",
            "_view_count": null,
            "_view_module": "@jupyter-widgets/base",
            "_view_module_version": "1.2.0",
            "_view_name": "StyleView",
            "description_width": ""
          }
        },
        "bdb7d39b1ee2453c8e5da9d3c6c13e41": {
          "model_module": "@jupyter-widgets/base",
          "model_name": "LayoutModel",
          "model_module_version": "1.2.0",
          "state": {
            "_model_module": "@jupyter-widgets/base",
            "_model_module_version": "1.2.0",
            "_model_name": "LayoutModel",
            "_view_count": null,
            "_view_module": "@jupyter-widgets/base",
            "_view_module_version": "1.2.0",
            "_view_name": "LayoutView",
            "align_content": null,
            "align_items": null,
            "align_self": null,
            "border": null,
            "bottom": null,
            "display": null,
            "flex": null,
            "flex_flow": null,
            "grid_area": null,
            "grid_auto_columns": null,
            "grid_auto_flow": null,
            "grid_auto_rows": null,
            "grid_column": null,
            "grid_gap": null,
            "grid_row": null,
            "grid_template_areas": null,
            "grid_template_columns": null,
            "grid_template_rows": null,
            "height": null,
            "justify_content": null,
            "justify_items": null,
            "left": null,
            "margin": null,
            "max_height": null,
            "max_width": null,
            "min_height": null,
            "min_width": null,
            "object_fit": null,
            "object_position": null,
            "order": null,
            "overflow": null,
            "overflow_x": null,
            "overflow_y": null,
            "padding": null,
            "right": null,
            "top": null,
            "visibility": null,
            "width": null
          }
        },
        "c4e86ef310f441899fca69ec01bdbcbc": {
          "model_module": "@jupyter-widgets/controls",
          "model_name": "ProgressStyleModel",
          "model_module_version": "1.5.0",
          "state": {
            "_model_module": "@jupyter-widgets/controls",
            "_model_module_version": "1.5.0",
            "_model_name": "ProgressStyleModel",
            "_view_count": null,
            "_view_module": "@jupyter-widgets/base",
            "_view_module_version": "1.2.0",
            "_view_name": "StyleView",
            "bar_color": null,
            "description_width": ""
          }
        },
        "3447d3f173274a10bf1ad25956e4d003": {
          "model_module": "@jupyter-widgets/base",
          "model_name": "LayoutModel",
          "model_module_version": "1.2.0",
          "state": {
            "_model_module": "@jupyter-widgets/base",
            "_model_module_version": "1.2.0",
            "_model_name": "LayoutModel",
            "_view_count": null,
            "_view_module": "@jupyter-widgets/base",
            "_view_module_version": "1.2.0",
            "_view_name": "LayoutView",
            "align_content": null,
            "align_items": null,
            "align_self": null,
            "border": null,
            "bottom": null,
            "display": null,
            "flex": null,
            "flex_flow": null,
            "grid_area": null,
            "grid_auto_columns": null,
            "grid_auto_flow": null,
            "grid_auto_rows": null,
            "grid_column": null,
            "grid_gap": null,
            "grid_row": null,
            "grid_template_areas": null,
            "grid_template_columns": null,
            "grid_template_rows": null,
            "height": null,
            "justify_content": null,
            "justify_items": null,
            "left": null,
            "margin": null,
            "max_height": null,
            "max_width": null,
            "min_height": null,
            "min_width": null,
            "object_fit": null,
            "object_position": null,
            "order": null,
            "overflow": null,
            "overflow_x": null,
            "overflow_y": null,
            "padding": null,
            "right": null,
            "top": null,
            "visibility": null,
            "width": null
          }
        },
        "bd559a489af142109ed6068ad30b4aa3": {
          "model_module": "@jupyter-widgets/controls",
          "model_name": "DescriptionStyleModel",
          "model_module_version": "1.5.0",
          "state": {
            "_model_module": "@jupyter-widgets/controls",
            "_model_module_version": "1.5.0",
            "_model_name": "DescriptionStyleModel",
            "_view_count": null,
            "_view_module": "@jupyter-widgets/base",
            "_view_module_version": "1.2.0",
            "_view_name": "StyleView",
            "description_width": ""
          }
        },
        "d1709f7c6967477eb85780219979c334": {
          "model_module": "@jupyter-widgets/controls",
          "model_name": "HBoxModel",
          "model_module_version": "1.5.0",
          "state": {
            "_dom_classes": [],
            "_model_module": "@jupyter-widgets/controls",
            "_model_module_version": "1.5.0",
            "_model_name": "HBoxModel",
            "_view_count": null,
            "_view_module": "@jupyter-widgets/controls",
            "_view_module_version": "1.5.0",
            "_view_name": "HBoxView",
            "box_style": "",
            "children": [
              "IPY_MODEL_5988df21d52a46cdb45098939fcbfcec",
              "IPY_MODEL_0afa8c641d814b76aeccf6b64a240132",
              "IPY_MODEL_0ce1831c40454989a8b30bb79264e444"
            ],
            "layout": "IPY_MODEL_ef4fca995aa14c21a761cb13ecc2ede5"
          }
        },
        "5988df21d52a46cdb45098939fcbfcec": {
          "model_module": "@jupyter-widgets/controls",
          "model_name": "HTMLModel",
          "model_module_version": "1.5.0",
          "state": {
            "_dom_classes": [],
            "_model_module": "@jupyter-widgets/controls",
            "_model_module_version": "1.5.0",
            "_model_name": "HTMLModel",
            "_view_count": null,
            "_view_module": "@jupyter-widgets/controls",
            "_view_module_version": "1.5.0",
            "_view_name": "HTMLView",
            "description": "",
            "description_tooltip": null,
            "layout": "IPY_MODEL_0175df25314a44bd9f44ef64b8adf8dc",
            "placeholder": "​",
            "style": "IPY_MODEL_bd97016484a4457ca83a405806924eac",
            "value": "Downloading (…)cial_tokens_map.json: 100%"
          }
        },
        "0afa8c641d814b76aeccf6b64a240132": {
          "model_module": "@jupyter-widgets/controls",
          "model_name": "FloatProgressModel",
          "model_module_version": "1.5.0",
          "state": {
            "_dom_classes": [],
            "_model_module": "@jupyter-widgets/controls",
            "_model_module_version": "1.5.0",
            "_model_name": "FloatProgressModel",
            "_view_count": null,
            "_view_module": "@jupyter-widgets/controls",
            "_view_module_version": "1.5.0",
            "_view_name": "ProgressView",
            "bar_style": "success",
            "description": "",
            "description_tooltip": null,
            "layout": "IPY_MODEL_6fcaab0065a44ac7bbb55278f55dc540",
            "max": 112,
            "min": 0,
            "orientation": "horizontal",
            "style": "IPY_MODEL_8defe4432b434519bf1195ec4a0bb42b",
            "value": 112
          }
        },
        "0ce1831c40454989a8b30bb79264e444": {
          "model_module": "@jupyter-widgets/controls",
          "model_name": "HTMLModel",
          "model_module_version": "1.5.0",
          "state": {
            "_dom_classes": [],
            "_model_module": "@jupyter-widgets/controls",
            "_model_module_version": "1.5.0",
            "_model_name": "HTMLModel",
            "_view_count": null,
            "_view_module": "@jupyter-widgets/controls",
            "_view_module_version": "1.5.0",
            "_view_name": "HTMLView",
            "description": "",
            "description_tooltip": null,
            "layout": "IPY_MODEL_8381b42ee6e542e7a25fd59e1058b1c3",
            "placeholder": "​",
            "style": "IPY_MODEL_b882e4dedbfe40449be3b88782a072c1",
            "value": " 112/112 [00:00&lt;00:00, 1.16kB/s]"
          }
        },
        "ef4fca995aa14c21a761cb13ecc2ede5": {
          "model_module": "@jupyter-widgets/base",
          "model_name": "LayoutModel",
          "model_module_version": "1.2.0",
          "state": {
            "_model_module": "@jupyter-widgets/base",
            "_model_module_version": "1.2.0",
            "_model_name": "LayoutModel",
            "_view_count": null,
            "_view_module": "@jupyter-widgets/base",
            "_view_module_version": "1.2.0",
            "_view_name": "LayoutView",
            "align_content": null,
            "align_items": null,
            "align_self": null,
            "border": null,
            "bottom": null,
            "display": null,
            "flex": null,
            "flex_flow": null,
            "grid_area": null,
            "grid_auto_columns": null,
            "grid_auto_flow": null,
            "grid_auto_rows": null,
            "grid_column": null,
            "grid_gap": null,
            "grid_row": null,
            "grid_template_areas": null,
            "grid_template_columns": null,
            "grid_template_rows": null,
            "height": null,
            "justify_content": null,
            "justify_items": null,
            "left": null,
            "margin": null,
            "max_height": null,
            "max_width": null,
            "min_height": null,
            "min_width": null,
            "object_fit": null,
            "object_position": null,
            "order": null,
            "overflow": null,
            "overflow_x": null,
            "overflow_y": null,
            "padding": null,
            "right": null,
            "top": null,
            "visibility": null,
            "width": null
          }
        },
        "0175df25314a44bd9f44ef64b8adf8dc": {
          "model_module": "@jupyter-widgets/base",
          "model_name": "LayoutModel",
          "model_module_version": "1.2.0",
          "state": {
            "_model_module": "@jupyter-widgets/base",
            "_model_module_version": "1.2.0",
            "_model_name": "LayoutModel",
            "_view_count": null,
            "_view_module": "@jupyter-widgets/base",
            "_view_module_version": "1.2.0",
            "_view_name": "LayoutView",
            "align_content": null,
            "align_items": null,
            "align_self": null,
            "border": null,
            "bottom": null,
            "display": null,
            "flex": null,
            "flex_flow": null,
            "grid_area": null,
            "grid_auto_columns": null,
            "grid_auto_flow": null,
            "grid_auto_rows": null,
            "grid_column": null,
            "grid_gap": null,
            "grid_row": null,
            "grid_template_areas": null,
            "grid_template_columns": null,
            "grid_template_rows": null,
            "height": null,
            "justify_content": null,
            "justify_items": null,
            "left": null,
            "margin": null,
            "max_height": null,
            "max_width": null,
            "min_height": null,
            "min_width": null,
            "object_fit": null,
            "object_position": null,
            "order": null,
            "overflow": null,
            "overflow_x": null,
            "overflow_y": null,
            "padding": null,
            "right": null,
            "top": null,
            "visibility": null,
            "width": null
          }
        },
        "bd97016484a4457ca83a405806924eac": {
          "model_module": "@jupyter-widgets/controls",
          "model_name": "DescriptionStyleModel",
          "model_module_version": "1.5.0",
          "state": {
            "_model_module": "@jupyter-widgets/controls",
            "_model_module_version": "1.5.0",
            "_model_name": "DescriptionStyleModel",
            "_view_count": null,
            "_view_module": "@jupyter-widgets/base",
            "_view_module_version": "1.2.0",
            "_view_name": "StyleView",
            "description_width": ""
          }
        },
        "6fcaab0065a44ac7bbb55278f55dc540": {
          "model_module": "@jupyter-widgets/base",
          "model_name": "LayoutModel",
          "model_module_version": "1.2.0",
          "state": {
            "_model_module": "@jupyter-widgets/base",
            "_model_module_version": "1.2.0",
            "_model_name": "LayoutModel",
            "_view_count": null,
            "_view_module": "@jupyter-widgets/base",
            "_view_module_version": "1.2.0",
            "_view_name": "LayoutView",
            "align_content": null,
            "align_items": null,
            "align_self": null,
            "border": null,
            "bottom": null,
            "display": null,
            "flex": null,
            "flex_flow": null,
            "grid_area": null,
            "grid_auto_columns": null,
            "grid_auto_flow": null,
            "grid_auto_rows": null,
            "grid_column": null,
            "grid_gap": null,
            "grid_row": null,
            "grid_template_areas": null,
            "grid_template_columns": null,
            "grid_template_rows": null,
            "height": null,
            "justify_content": null,
            "justify_items": null,
            "left": null,
            "margin": null,
            "max_height": null,
            "max_width": null,
            "min_height": null,
            "min_width": null,
            "object_fit": null,
            "object_position": null,
            "order": null,
            "overflow": null,
            "overflow_x": null,
            "overflow_y": null,
            "padding": null,
            "right": null,
            "top": null,
            "visibility": null,
            "width": null
          }
        },
        "8defe4432b434519bf1195ec4a0bb42b": {
          "model_module": "@jupyter-widgets/controls",
          "model_name": "ProgressStyleModel",
          "model_module_version": "1.5.0",
          "state": {
            "_model_module": "@jupyter-widgets/controls",
            "_model_module_version": "1.5.0",
            "_model_name": "ProgressStyleModel",
            "_view_count": null,
            "_view_module": "@jupyter-widgets/base",
            "_view_module_version": "1.2.0",
            "_view_name": "StyleView",
            "bar_color": null,
            "description_width": ""
          }
        },
        "8381b42ee6e542e7a25fd59e1058b1c3": {
          "model_module": "@jupyter-widgets/base",
          "model_name": "LayoutModel",
          "model_module_version": "1.2.0",
          "state": {
            "_model_module": "@jupyter-widgets/base",
            "_model_module_version": "1.2.0",
            "_model_name": "LayoutModel",
            "_view_count": null,
            "_view_module": "@jupyter-widgets/base",
            "_view_module_version": "1.2.0",
            "_view_name": "LayoutView",
            "align_content": null,
            "align_items": null,
            "align_self": null,
            "border": null,
            "bottom": null,
            "display": null,
            "flex": null,
            "flex_flow": null,
            "grid_area": null,
            "grid_auto_columns": null,
            "grid_auto_flow": null,
            "grid_auto_rows": null,
            "grid_column": null,
            "grid_gap": null,
            "grid_row": null,
            "grid_template_areas": null,
            "grid_template_columns": null,
            "grid_template_rows": null,
            "height": null,
            "justify_content": null,
            "justify_items": null,
            "left": null,
            "margin": null,
            "max_height": null,
            "max_width": null,
            "min_height": null,
            "min_width": null,
            "object_fit": null,
            "object_position": null,
            "order": null,
            "overflow": null,
            "overflow_x": null,
            "overflow_y": null,
            "padding": null,
            "right": null,
            "top": null,
            "visibility": null,
            "width": null
          }
        },
        "b882e4dedbfe40449be3b88782a072c1": {
          "model_module": "@jupyter-widgets/controls",
          "model_name": "DescriptionStyleModel",
          "model_module_version": "1.5.0",
          "state": {
            "_model_module": "@jupyter-widgets/controls",
            "_model_module_version": "1.5.0",
            "_model_name": "DescriptionStyleModel",
            "_view_count": null,
            "_view_module": "@jupyter-widgets/base",
            "_view_module_version": "1.2.0",
            "_view_name": "StyleView",
            "description_width": ""
          }
        },
        "2bc55ce2ec1b496e9ab5c52dae6ede38": {
          "model_module": "@jupyter-widgets/controls",
          "model_name": "HBoxModel",
          "model_module_version": "1.5.0",
          "state": {
            "_dom_classes": [],
            "_model_module": "@jupyter-widgets/controls",
            "_model_module_version": "1.5.0",
            "_model_name": "HBoxModel",
            "_view_count": null,
            "_view_module": "@jupyter-widgets/controls",
            "_view_module_version": "1.5.0",
            "_view_name": "HBoxView",
            "box_style": "",
            "children": [
              "IPY_MODEL_96be60427ead4b9fb0a5015f8630505f",
              "IPY_MODEL_0f8200782f674533a982839ddeb11ef4",
              "IPY_MODEL_76f65351a4ca4d508134c538e1acf6cd"
            ],
            "layout": "IPY_MODEL_a91ac2d7731b4909911afbaf4438734c"
          }
        },
        "96be60427ead4b9fb0a5015f8630505f": {
          "model_module": "@jupyter-widgets/controls",
          "model_name": "HTMLModel",
          "model_module_version": "1.5.0",
          "state": {
            "_dom_classes": [],
            "_model_module": "@jupyter-widgets/controls",
            "_model_module_version": "1.5.0",
            "_model_name": "HTMLModel",
            "_view_count": null,
            "_view_module": "@jupyter-widgets/controls",
            "_view_module_version": "1.5.0",
            "_view_name": "HTMLView",
            "description": "",
            "description_tooltip": null,
            "layout": "IPY_MODEL_fdca7636a6394b8faae4dc45d9f3779f",
            "placeholder": "​",
            "style": "IPY_MODEL_003a3d6800624d8f8ceb2fe51dc6e0fa",
            "value": "Downloading pytorch_model.bin: 100%"
          }
        },
        "0f8200782f674533a982839ddeb11ef4": {
          "model_module": "@jupyter-widgets/controls",
          "model_name": "FloatProgressModel",
          "model_module_version": "1.5.0",
          "state": {
            "_dom_classes": [],
            "_model_module": "@jupyter-widgets/controls",
            "_model_module_version": "1.5.0",
            "_model_name": "FloatProgressModel",
            "_view_count": null,
            "_view_module": "@jupyter-widgets/controls",
            "_view_module_version": "1.5.0",
            "_view_name": "ProgressView",
            "bar_style": "success",
            "description": "",
            "description_tooltip": null,
            "layout": "IPY_MODEL_d1a521fb0c364f46936a94aae488ed56",
            "max": 46606791,
            "min": 0,
            "orientation": "horizontal",
            "style": "IPY_MODEL_0f6a1e5a83fc4d18935b6eaa8c496525",
            "value": 46606791
          }
        },
        "76f65351a4ca4d508134c538e1acf6cd": {
          "model_module": "@jupyter-widgets/controls",
          "model_name": "HTMLModel",
          "model_module_version": "1.5.0",
          "state": {
            "_dom_classes": [],
            "_model_module": "@jupyter-widgets/controls",
            "_model_module_version": "1.5.0",
            "_model_name": "HTMLModel",
            "_view_count": null,
            "_view_module": "@jupyter-widgets/controls",
            "_view_module_version": "1.5.0",
            "_view_name": "HTMLView",
            "description": "",
            "description_tooltip": null,
            "layout": "IPY_MODEL_a7f7cae5913940bf81b56a8d48b18bcb",
            "placeholder": "​",
            "style": "IPY_MODEL_50024ebdccf543998bbdb0b24a43a217",
            "value": " 46.6M/46.6M [00:00&lt;00:00, 117MB/s]"
          }
        },
        "a91ac2d7731b4909911afbaf4438734c": {
          "model_module": "@jupyter-widgets/base",
          "model_name": "LayoutModel",
          "model_module_version": "1.2.0",
          "state": {
            "_model_module": "@jupyter-widgets/base",
            "_model_module_version": "1.2.0",
            "_model_name": "LayoutModel",
            "_view_count": null,
            "_view_module": "@jupyter-widgets/base",
            "_view_module_version": "1.2.0",
            "_view_name": "LayoutView",
            "align_content": null,
            "align_items": null,
            "align_self": null,
            "border": null,
            "bottom": null,
            "display": null,
            "flex": null,
            "flex_flow": null,
            "grid_area": null,
            "grid_auto_columns": null,
            "grid_auto_flow": null,
            "grid_auto_rows": null,
            "grid_column": null,
            "grid_gap": null,
            "grid_row": null,
            "grid_template_areas": null,
            "grid_template_columns": null,
            "grid_template_rows": null,
            "height": null,
            "justify_content": null,
            "justify_items": null,
            "left": null,
            "margin": null,
            "max_height": null,
            "max_width": null,
            "min_height": null,
            "min_width": null,
            "object_fit": null,
            "object_position": null,
            "order": null,
            "overflow": null,
            "overflow_x": null,
            "overflow_y": null,
            "padding": null,
            "right": null,
            "top": null,
            "visibility": null,
            "width": null
          }
        },
        "fdca7636a6394b8faae4dc45d9f3779f": {
          "model_module": "@jupyter-widgets/base",
          "model_name": "LayoutModel",
          "model_module_version": "1.2.0",
          "state": {
            "_model_module": "@jupyter-widgets/base",
            "_model_module_version": "1.2.0",
            "_model_name": "LayoutModel",
            "_view_count": null,
            "_view_module": "@jupyter-widgets/base",
            "_view_module_version": "1.2.0",
            "_view_name": "LayoutView",
            "align_content": null,
            "align_items": null,
            "align_self": null,
            "border": null,
            "bottom": null,
            "display": null,
            "flex": null,
            "flex_flow": null,
            "grid_area": null,
            "grid_auto_columns": null,
            "grid_auto_flow": null,
            "grid_auto_rows": null,
            "grid_column": null,
            "grid_gap": null,
            "grid_row": null,
            "grid_template_areas": null,
            "grid_template_columns": null,
            "grid_template_rows": null,
            "height": null,
            "justify_content": null,
            "justify_items": null,
            "left": null,
            "margin": null,
            "max_height": null,
            "max_width": null,
            "min_height": null,
            "min_width": null,
            "object_fit": null,
            "object_position": null,
            "order": null,
            "overflow": null,
            "overflow_x": null,
            "overflow_y": null,
            "padding": null,
            "right": null,
            "top": null,
            "visibility": null,
            "width": null
          }
        },
        "003a3d6800624d8f8ceb2fe51dc6e0fa": {
          "model_module": "@jupyter-widgets/controls",
          "model_name": "DescriptionStyleModel",
          "model_module_version": "1.5.0",
          "state": {
            "_model_module": "@jupyter-widgets/controls",
            "_model_module_version": "1.5.0",
            "_model_name": "DescriptionStyleModel",
            "_view_count": null,
            "_view_module": "@jupyter-widgets/base",
            "_view_module_version": "1.2.0",
            "_view_name": "StyleView",
            "description_width": ""
          }
        },
        "d1a521fb0c364f46936a94aae488ed56": {
          "model_module": "@jupyter-widgets/base",
          "model_name": "LayoutModel",
          "model_module_version": "1.2.0",
          "state": {
            "_model_module": "@jupyter-widgets/base",
            "_model_module_version": "1.2.0",
            "_model_name": "LayoutModel",
            "_view_count": null,
            "_view_module": "@jupyter-widgets/base",
            "_view_module_version": "1.2.0",
            "_view_name": "LayoutView",
            "align_content": null,
            "align_items": null,
            "align_self": null,
            "border": null,
            "bottom": null,
            "display": null,
            "flex": null,
            "flex_flow": null,
            "grid_area": null,
            "grid_auto_columns": null,
            "grid_auto_flow": null,
            "grid_auto_rows": null,
            "grid_column": null,
            "grid_gap": null,
            "grid_row": null,
            "grid_template_areas": null,
            "grid_template_columns": null,
            "grid_template_rows": null,
            "height": null,
            "justify_content": null,
            "justify_items": null,
            "left": null,
            "margin": null,
            "max_height": null,
            "max_width": null,
            "min_height": null,
            "min_width": null,
            "object_fit": null,
            "object_position": null,
            "order": null,
            "overflow": null,
            "overflow_x": null,
            "overflow_y": null,
            "padding": null,
            "right": null,
            "top": null,
            "visibility": null,
            "width": null
          }
        },
        "0f6a1e5a83fc4d18935b6eaa8c496525": {
          "model_module": "@jupyter-widgets/controls",
          "model_name": "ProgressStyleModel",
          "model_module_version": "1.5.0",
          "state": {
            "_model_module": "@jupyter-widgets/controls",
            "_model_module_version": "1.5.0",
            "_model_name": "ProgressStyleModel",
            "_view_count": null,
            "_view_module": "@jupyter-widgets/base",
            "_view_module_version": "1.2.0",
            "_view_name": "StyleView",
            "bar_color": null,
            "description_width": ""
          }
        },
        "a7f7cae5913940bf81b56a8d48b18bcb": {
          "model_module": "@jupyter-widgets/base",
          "model_name": "LayoutModel",
          "model_module_version": "1.2.0",
          "state": {
            "_model_module": "@jupyter-widgets/base",
            "_model_module_version": "1.2.0",
            "_model_name": "LayoutModel",
            "_view_count": null,
            "_view_module": "@jupyter-widgets/base",
            "_view_module_version": "1.2.0",
            "_view_name": "LayoutView",
            "align_content": null,
            "align_items": null,
            "align_self": null,
            "border": null,
            "bottom": null,
            "display": null,
            "flex": null,
            "flex_flow": null,
            "grid_area": null,
            "grid_auto_columns": null,
            "grid_auto_flow": null,
            "grid_auto_rows": null,
            "grid_column": null,
            "grid_gap": null,
            "grid_row": null,
            "grid_template_areas": null,
            "grid_template_columns": null,
            "grid_template_rows": null,
            "height": null,
            "justify_content": null,
            "justify_items": null,
            "left": null,
            "margin": null,
            "max_height": null,
            "max_width": null,
            "min_height": null,
            "min_width": null,
            "object_fit": null,
            "object_position": null,
            "order": null,
            "overflow": null,
            "overflow_x": null,
            "overflow_y": null,
            "padding": null,
            "right": null,
            "top": null,
            "visibility": null,
            "width": null
          }
        },
        "50024ebdccf543998bbdb0b24a43a217": {
          "model_module": "@jupyter-widgets/controls",
          "model_name": "DescriptionStyleModel",
          "model_module_version": "1.5.0",
          "state": {
            "_model_module": "@jupyter-widgets/controls",
            "_model_module_version": "1.5.0",
            "_model_name": "DescriptionStyleModel",
            "_view_count": null,
            "_view_module": "@jupyter-widgets/base",
            "_view_module_version": "1.2.0",
            "_view_name": "StyleView",
            "description_width": ""
          }
        }
      }
    }
  },
  "nbformat": 4,
  "nbformat_minor": 5
}