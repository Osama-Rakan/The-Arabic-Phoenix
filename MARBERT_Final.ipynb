{
  "cells": [
    {
      "attachments": {},
      "cell_type": "markdown",
      "metadata": {
        "id": "zwaY1Hunoxzj"
      },
      "source": [
        "# Importing libraries and doing everything related to data preprocessing"
      ]
    },
    {
      "cell_type": "code",
      "execution_count": 133,
      "metadata": {
        "colab": {
          "base_uri": "https://localhost:8080/"
        },
        "id": "L9cL50ZmX9L-",
        "outputId": "9f8dc15f-30d6-4ff9-a86f-3a9ea863691b"
      },
      "outputs": [
        {
          "name": "stdout",
          "output_type": "stream",
          "text": [
            "Looking in indexes: https://pypi.org/simple, https://us-python.pkg.dev/colab-wheels/public/simple/\n",
            "Requirement already satisfied: transformers in /usr/local/lib/python3.10/dist-packages (4.30.1)\n",
            "Requirement already satisfied: filelock in /usr/local/lib/python3.10/dist-packages (from transformers) (3.12.0)\n",
            "Requirement already satisfied: huggingface-hub<1.0,>=0.14.1 in /usr/local/lib/python3.10/dist-packages (from transformers) (0.15.1)\n",
            "Requirement already satisfied: numpy>=1.17 in /usr/local/lib/python3.10/dist-packages (from transformers) (1.22.4)\n",
            "Requirement already satisfied: packaging>=20.0 in /usr/local/lib/python3.10/dist-packages (from transformers) (23.1)\n",
            "Requirement already satisfied: pyyaml>=5.1 in /usr/local/lib/python3.10/dist-packages (from transformers) (6.0)\n",
            "Requirement already satisfied: regex!=2019.12.17 in /usr/local/lib/python3.10/dist-packages (from transformers) (2022.10.31)\n",
            "Requirement already satisfied: requests in /usr/local/lib/python3.10/dist-packages (from transformers) (2.27.1)\n",
            "Requirement already satisfied: tokenizers!=0.11.3,<0.14,>=0.11.1 in /usr/local/lib/python3.10/dist-packages (from transformers) (0.13.3)\n",
            "Requirement already satisfied: safetensors>=0.3.1 in /usr/local/lib/python3.10/dist-packages (from transformers) (0.3.1)\n",
            "Requirement already satisfied: tqdm>=4.27 in /usr/local/lib/python3.10/dist-packages (from transformers) (4.65.0)\n",
            "Requirement already satisfied: fsspec in /usr/local/lib/python3.10/dist-packages (from huggingface-hub<1.0,>=0.14.1->transformers) (2023.4.0)\n",
            "Requirement already satisfied: typing-extensions>=3.7.4.3 in /usr/local/lib/python3.10/dist-packages (from huggingface-hub<1.0,>=0.14.1->transformers) (4.5.0)\n",
            "Requirement already satisfied: urllib3<1.27,>=1.21.1 in /usr/local/lib/python3.10/dist-packages (from requests->transformers) (1.26.15)\n",
            "Requirement already satisfied: certifi>=2017.4.17 in /usr/local/lib/python3.10/dist-packages (from requests->transformers) (2022.12.7)\n",
            "Requirement already satisfied: charset-normalizer~=2.0.0 in /usr/local/lib/python3.10/dist-packages (from requests->transformers) (2.0.12)\n",
            "Requirement already satisfied: idna<4,>=2.5 in /usr/local/lib/python3.10/dist-packages (from requests->transformers) (3.4)\n",
            "Looking in indexes: https://pypi.org/simple, https://us-python.pkg.dev/colab-wheels/public/simple/\n",
            "Requirement already satisfied: emoji in /usr/local/lib/python3.10/dist-packages (2.5.0)\n",
            "Looking in indexes: https://pypi.org/simple, https://us-python.pkg.dev/colab-wheels/public/simple/\n",
            "Requirement already satisfied: arabic-reshaper in /usr/local/lib/python3.10/dist-packages (3.0.0)\n",
            "Looking in indexes: https://pypi.org/simple, https://us-python.pkg.dev/colab-wheels/public/simple/\n",
            "Requirement already satisfied: python-bidi in /usr/local/lib/python3.10/dist-packages (0.4.2)\n",
            "Requirement already satisfied: six in /usr/local/lib/python3.10/dist-packages (from python-bidi) (1.16.0)\n"
          ]
        }
      ],
      "source": [
        "!pip install transformers\n",
        "!pip install emoji\n",
        "!pip install arabic-reshaper\n",
        "!pip install python-bidi"
      ]
    },
    {
      "cell_type": "code",
      "execution_count": 134,
      "metadata": {
        "colab": {
          "base_uri": "https://localhost:8080/"
        },
        "id": "oeaEgEnbOukj",
        "outputId": "98888eb6-f45c-4761-c590-1c2719374cce"
      },
      "outputs": [
        {
          "name": "stdout",
          "output_type": "stream",
          "text": [
            "1\n",
            "Tesla T4\n"
          ]
        }
      ],
      "source": [
        "import pandas as pd\n",
        "import numpy as np\n",
        "import nltk\n",
        "nltk.download('popular', quiet=True)\n",
        "from collections import Counter\n",
        "import re\n",
        "import string\n",
        "import torch\n",
        "from transformers import AutoTokenizer, AutoModel\n",
        "import emoji\n",
        "from wordcloud import WordCloud\n",
        "import arabic_reshaper\n",
        "from bidi.algorithm import get_display\n",
        "import matplotlib.pyplot as plt\n",
        "from PIL import Image\n",
        "import warnings\n",
        "warnings.filterwarnings(\"ignore\")\n",
        "print(torch.cuda.device_count())\n",
        "print(torch.cuda.get_device_name(0))\n",
        "device = torch.device(0)"
      ]
    },
    {
      "cell_type": "code",
      "execution_count": 135,
      "metadata": {
        "id": "Wy1Fs9oXu0eY"
      },
      "outputs": [],
      "source": [
        "!pip3 freeze > requirements.txt\n",
        "# cat requirements.txt | xargs -n 1 pip install"
      ]
    },
    {
      "attachments": {},
      "cell_type": "markdown",
      "metadata": {
        "id": "-46-2EZMokax"
      },
      "source": [
        "# Downloading the WordPiece tokenizer used by MARBERT"
      ]
    },
    {
      "cell_type": "code",
      "execution_count": 136,
      "metadata": {
        "id": "e5fdAxW2dM8n"
      },
      "outputs": [],
      "source": [
        "tokenizer = AutoTokenizer.from_pretrained(\"UBC-NLP/MARBERTv2\")"
      ]
    },
    {
      "attachments": {},
      "cell_type": "markdown",
      "metadata": {
        "id": "h794LbCxo26G"
      },
      "source": [
        "# TextCleaner class to clean text in general and for MARBERT"
      ]
    },
    {
      "cell_type": "code",
      "execution_count": 137,
      "metadata": {
        "id": "wn5tjbKENitH"
      },
      "outputs": [],
      "source": [
        "class TextCleaner:\n",
        "  def __init__(self, remove_links=True, remove_mentions_and_hashtags=True, \n",
        "               replace_emojis_with_meaningful_tokens=True, remove_emojis=False, remove_consecutive_duplicate_letters=True,\n",
        "               remove_numbers=True, remove_punctuation=True, only_arabic_chars=False, remove_stop_words=True, letters_normalization=True, remove_j_shift= True):\n",
        "    self.remove_links = remove_links\n",
        "    self.remove_mentions_and_hashtags = remove_mentions_and_hashtags\n",
        "    self.replace_emojis_with_meaningful_tokens = replace_emojis_with_meaningful_tokens\n",
        "    self.remove_emojis = remove_emojis\n",
        "    self.remove_consecutive_duplicate_letters = remove_consecutive_duplicate_letters\n",
        "    self.remove_numbers = remove_numbers\n",
        "    self.remove_punctuation = remove_punctuation\n",
        "    self.only_arabic_chars = only_arabic_chars\n",
        "    self.remove_stop_words = remove_stop_words\n",
        "    self.letters_normalization = letters_normalization\n",
        "    self.remove_j_shift = remove_j_shift\n",
        "\n",
        "  \n",
        "  def clean_text(self, document):\n",
        "    emoji_pattern = re.compile(\"[\"\n",
        "            u\"\\U0001F600-\\U0001F64F\"  # emoticons\n",
        "            u\"\\U0001F300-\\U0001F5FF\"  # symbols & pictographs\n",
        "            u\"\\U0001F680-\\U0001F6FF\"  # transport & map symbols\n",
        "            u\"\\U0001F1E0-\\U0001F1FF\"  # flags (iOS)\n",
        "                              \"]+\", flags=re.UNICODE)\n",
        "    \n",
        "    def delete_consecutive_strings(s):\n",
        "        i=0\n",
        "        j=0\n",
        "        new_elements=''\n",
        "        while(j<len(s)):\n",
        "            if( s[i]==s[j] ):\n",
        "                j+=1\n",
        "            elif((s[j]!=s[i]) or (j==len(s)-1)):\n",
        "                new_elements+=s[i]\n",
        "                i=j\n",
        "                j+=1\n",
        "        new_elements+=s[j-1]\n",
        "        return new_elements\n",
        "    # Remove URLs\n",
        "    if self.remove_links:\n",
        "      document = re.sub('http\\S+', '', document)\n",
        "\n",
        "    # Remove mentions and hashtags\n",
        "    if self.remove_mentions_and_hashtags:\n",
        "      document = re.sub('[@#]\\w+', '', document)\n",
        "\n",
        "    # Replacing emojis with meaningful tokens\n",
        "    if self.replace_emojis_with_meaningful_tokens:\n",
        "      document = re.sub('[😍❤️❤💜💙🖤💓💗💚💝💘💖💕🤍💛❣️💞🌹🥰💟💑]', ' حبحب ', document)\n",
        "      document = re.sub('[🐶🐕🐷🐖🐴🐄🐮🐂🐃🐵🐒🙉🐑🐐🐸🦄]', ' حيواناتحيوانات ', document)\n",
        "      document = re.sub('[😡🤬😠😤🤮🤢😣😷😒🙄]', ' معصبمعصب ', document)\n",
        "      document = re.sub('[👊👊🏽👊🏻👊🏼👊🏾👊🏿🔪]', ' عنفعنف ', document)\n",
        "      document = re.sub('[✋✋🏽✋🏻✋🏿✋🏼✋🏾]', ' يديد ', document)\n",
        "      document = re.sub('[🖕🖕🏽🖕🏻🖕🏿🖕🏼🖕🏾]', ' الوسطىالوسطى ', document)\n",
        "      document = re.sub('[😂🤣😭💀]', ' ضحكضحك ', document)\n",
        "      document = re.sub('[💩👠👞]', ' عدماحترامعدماحترام ', document)\n",
        "      document = re.sub('[😢💔]', ' حزينحزين ', document)\n",
        "      document = re.sub('🤔', ' يفكريفكر ', document)\n",
        "      document = re.sub('🔥', ' نارنار ', document)\n",
        "      document = re.sub('👎', ' عدمإعجابعدمإعجاب ', document)\n",
        "      #document = emoji_pattern.sub(' إيموجيإيموجي ', document)\n",
        "\n",
        "\n",
        "    # Remove emojis\n",
        "    if self.remove_emojis:\n",
        "      document = emoji_pattern.sub('', document)\n",
        "\n",
        "    # Remove consecutive duplicate letters\n",
        "    if self.remove_consecutive_duplicate_letters:\n",
        "      try:\n",
        "        document = delete_consecutive_strings(document)\n",
        "      except:\n",
        "        pass\n",
        "\n",
        "    # Remove numbers\n",
        "    if self.remove_numbers:\n",
        "      document = re.sub('\\d+', '', document)\n",
        "\n",
        "    # Remove punctuation marks\n",
        "    if self.remove_punctuation:\n",
        "      punctuation = '!\"#$%&\\'()*+,-./:;<=>?@[\\\\]^_`{|}~،؟!.؛'\n",
        "      document = document.translate(str.maketrans('', '', punctuation))\n",
        "\n",
        "\n",
        "    # # Remove stop words\n",
        "    if self.remove_stop_words:\n",
        "      stop_words = nltk.corpus.stopwords.words('arabic')\n",
        "      stopwords_dict = Counter(stop_words)\n",
        "      document = ' '.join([word for word in document.split() if word not in stopwords_dict])\n",
        "\n",
        "    # # Only keep Arabic characters\n",
        "    if self.only_arabic_chars:\n",
        "      document = re.sub('[^ء-ي]', ' ', document)\n",
        "\n",
        "    # Normalize arabic letters\n",
        "    if self.letters_normalization:\n",
        "      document = re.sub('[أإءئى]', 'ا', document)\n",
        "      document = re.sub('ص', 'س', document)\n",
        "      document = re.sub('ظ', 'ض', document)\n",
        "\n",
        "    # # Remove ـ\n",
        "    if self.remove_j_shift:\n",
        "      document = re.sub('ـ', '', document)\n",
        "\n",
        "    # # Replacing the multiple spaces between words with 1 space\n",
        "    document = re.sub(' +', ' ', document)\n",
        "    document = document.strip()\n",
        "    return document\n",
        "\n",
        "  def preprocessing_for_bert(self, data, text_preprocessing_fn=clean_text, MAX_LEN=137):\n",
        "    try:\n",
        "      data = data.text.values\n",
        "    except:\n",
        "      pass\n",
        "    input_ids = []\n",
        "    attention_masks = []\n",
        "    tokenizer = AutoTokenizer.from_pretrained(\"UBC-NLP/MARBERTv2\")\n",
        "\n",
        "    for sent in data:\n",
        "        encoded_sent = tokenizer.encode_plus(text=text_preprocessing_fn(self,sent), add_special_tokens=True, \n",
        "                                              max_length=MAX_LEN, padding='max_length', return_attention_mask=True, truncation = True)\n",
        "        input_ids.append(encoded_sent.get('input_ids'))\n",
        "        attention_masks.append(encoded_sent.get('attention_mask'))\n",
        "    # Convert lists to tensors\n",
        "    input_ids = torch.tensor(input_ids)\n",
        "    attention_masks = torch.tensor(attention_masks)\n",
        "\n",
        "    return input_ids, attention_masks"
      ]
    },
    {
      "attachments": {},
      "cell_type": "markdown",
      "metadata": {
        "id": "mzSP3vPHpCkS"
      },
      "source": [
        "# TextStatistics class to show statistics about the corpus passed to its objects"
      ]
    },
    {
      "cell_type": "code",
      "execution_count": 138,
      "metadata": {
        "id": "axpyqZJFm5SR"
      },
      "outputs": [],
      "source": [
        "class TextStatistics:\n",
        "  def __init__(self, cleaning_flag=False, show_word_cloud_chart=True, show_vocab_counts=True, show_sequence_statistics=True, \n",
        "               show_emoji_counts=True):\n",
        "    self.cleaning_flag = cleaning_flag\n",
        "    self.show_word_cloud_chart = show_word_cloud_chart\n",
        "    self.show_vocab_counts = show_vocab_counts\n",
        "    self.show_sequence_statistics = show_sequence_statistics    \n",
        "    self.show_emoji_counts = show_emoji_counts\n",
        "  \n",
        "  def show_statistics(self, df):\n",
        "    df = df.copy()\n",
        "    if self.cleaning_flag:\n",
        "      c1 = TextCleaner(remove_links=True, remove_mentions_and_hashtags=True, \n",
        "                       replace_emojis_with_meaningful_tokens=True, remove_emojis=False, remove_consecutive_duplicate_letters=True,\n",
        "                       remove_numbers=True, remove_punctuation=True, only_arabic_chars=True, remove_stop_words=True, \n",
        "                       letters_normalization=True, remove_j_shift= True)\n",
        "    \n",
        "    tokenizer = AutoTokenizer.from_pretrained(\"UBC-NLP/MARBERTv2\")\n",
        "\n",
        "    vocab = set()\n",
        "    all_lengths = []\n",
        "    max_seq_size = -1\n",
        "    for sentence in df['text']:\n",
        "      if self.cleaning_flag:\n",
        "        sentence = c1.clean_text(sentence)\n",
        "      tokens = tokenizer(sentence)['input_ids']\n",
        "      all_lengths.append(len(tokens))\n",
        "      if len(tokens) > max_seq_size:\n",
        "        max_seq_size = len(tokens)\n",
        "      \n",
        "      for word in tokens:\n",
        "        vocab.add(word)\n",
        "    \n",
        "    if self.show_word_cloud_chart:\n",
        "      df_clean_for_word_cloud_chart = df.copy()\n",
        "      c2 = TextCleaner(only_arabic_chars=True)\n",
        "      for i in range(len(df_clean_for_word_cloud_chart)):\n",
        "        df_clean_for_word_cloud_chart['text'].iloc[i] = c2.clean_text(df_clean_for_word_cloud_chart['text'].iloc[i])\n",
        "      text = df_clean_for_word_cloud_chart['text'].values\n",
        "      mask = np.array(Image.open('angry_mask.jpg'))\n",
        "      wordcloud = WordCloud(mask=mask, background_color='white', max_words=50, contour_color='#FF0000', contour_width=5, colormap='viridis', collocations=False, font_path='alfont_com_Janna-LT-Regular.ttf').generate(str(text))\n",
        "      wordcloud.to_file('word_cloud_chart.png')\n",
        "      plt.imshow(wordcloud)\n",
        "      plt.axis('off')\n",
        "      plt.show()\n",
        "\n",
        "    if self.show_vocab_counts:\n",
        "      print('Vocab size =', len(vocab))\n",
        "    \n",
        "    if self.show_sequence_statistics:\n",
        "      print('Mean =', np.mean(all_lengths))\n",
        "      print('Median =', np.median(all_lengths))\n",
        "      print('Max =', np.max(all_lengths))\n",
        "      print('Min =', np.min(all_lengths))\n",
        "    \n",
        "    if self.show_emoji_counts:\n",
        "      all_emoji_counter = 0\n",
        "      emojis_counts = {}\n",
        "      import regex\n",
        "      def emoji_count(text):\n",
        "          emoji_counter = 0\n",
        "          data = regex.findall(r'\\X', text)\n",
        "          for word in data:\n",
        "              if any(char in emoji.EMOJI_DATA for char in word):\n",
        "                  emoji_counter += 1\n",
        "                  if word not in emojis_counts:\n",
        "                    emojis_counts[word] = 1\n",
        "                  else:\n",
        "                    emojis_counts[word] += 1\n",
        "\n",
        "          return emoji_counter\n",
        "\n",
        "      for i in range(len(df)):\n",
        "        all_emoji_counter += emoji_count(df['text'].iloc[i])\n",
        "      print('Emoji count in corpus =', all_emoji_counter)\n",
        "      emojis_counts = dict(sorted(emojis_counts.items(), key=lambda item: item[1], reverse=True))\n",
        "      print(emojis_counts)"
      ]
    },
    {
      "attachments": {},
      "cell_type": "markdown",
      "metadata": {
        "id": "NKjvXtzepSHF"
      },
      "source": [
        "# Trying the cleaner class and the tokenizer on random string"
      ]
    },
    {
      "cell_type": "code",
      "execution_count": 139,
      "metadata": {
        "colab": {
          "base_uri": "https://localhost:8080/",
          "height": 90
        },
        "id": "EekdCMMzOsEW",
        "outputId": "90afd718-8499-438d-c58d-1f915005602d"
      },
      "outputs": [
        {
          "name": "stdout",
          "output_type": "stream",
          "text": [
            "[2, 3815, 4113, 27879, 2453, 8618, 27879, 2453, 4113, 2054, 2980, 8618, 2054, 2980, 71501, 24626, 34780, 1016, 9368, 41799, 5798, 1011, 30676, 5812, 1031, 23210, 90386, 1949, 6854, 6036, 6268, 4335, 6036, 2030, 4481, 3]\n",
            "[1, 1, 1, 1, 1, 1, 1, 1, 1, 1, 1, 1, 1, 1, 1, 1, 1, 1, 1, 1, 1, 1, 1, 1, 1, 1, 1, 1, 1, 1, 1, 1, 1, 1, 1, 1]\n"
          ]
        },
        {
          "data": {
            "application/vnd.google.colaboratory.intrinsic+json": {
              "type": "string"
            },
            "text/plain": [
              "'حرام عدماحترامعدماحترام عدماعجابعدماعجاب معسبمعسب الوسطاالوسطا عنفعنف حيواناتحيوانات سين طويل الشارع الطريق طويل انت سريع'"
            ]
          },
          "execution_count": 139,
          "metadata": {},
          "output_type": "execute_result"
        }
      ],
      "source": [
        "c1 = TextCleaner(remove_links=True, remove_mentions_and_hashtags=True, \n",
        "                 replace_emojis_with_meaningful_tokens=True, remove_emojis=True, remove_consecutive_duplicate_letters=True,\n",
        "                 remove_numbers=True, remove_punctuation=True, only_arabic_chars=True, remove_stop_words=True, \n",
        "                 letters_normalization=True, remove_j_shift=True)\n",
        "s='ttrtyhjyhj @user @ahmad حـــــررراااممم [] ______ !!!!!!! ? @ ! ؟ 😋😋 99 💩👎😡🖕🔪🐶 صين طويل https://twitter.com في الشارع و على الطريق طـويل أنـت سـريـع'\n",
        "print(tokenizer(c1.clean_text(s))['input_ids'])\n",
        "print(tokenizer(c1.clean_text(s))['attention_mask'])\n",
        "c1.clean_text(s)"
      ]
    },
    {
      "attachments": {},
      "cell_type": "markdown",
      "metadata": {
        "id": "lFCwUpAjphHD"
      },
      "source": [
        "# Reading the data that we have splitted in another notebook"
      ]
    },
    {
      "cell_type": "code",
      "execution_count": 140,
      "metadata": {
        "id": "6DyFULwVUxko"
      },
      "outputs": [],
      "source": [
        "X_train = pd.read_csv('X_train.csv')\n",
        "y_train = pd.read_csv('y_train.csv')\n",
        "\n",
        "X_extra = pd.read_csv('X_extra.csv')\n",
        "y_extra = pd.read_csv('y_extra.csv')\n",
        "\n",
        "X_test = pd.read_csv('X_test.csv')\n",
        "y_test = pd.read_csv('y_test.csv')\n",
        "\n",
        "X_val = pd.read_csv('X_val.csv')\n",
        "y_val = pd.read_csv('y_val.csv')"
      ]
    },
    {
      "cell_type": "code",
      "execution_count": 141,
      "metadata": {
        "colab": {
          "base_uri": "https://localhost:8080/"
        },
        "id": "61blt1Q_kOtc",
        "outputId": "77a8712d-a70e-4541-c1ae-c66a4bdcf4fc"
      },
      "outputs": [
        {
          "name": "stdout",
          "output_type": "stream",
          "text": [
            "(4647, 1) (4647, 1)\n",
            "(4952, 1) (4952, 1)\n"
          ]
        }
      ],
      "source": [
        "print(X_test.shape, y_test.shape)\n",
        "X_test = X_test.append(X_extra, ignore_index=True)\n",
        "y_test = y_test.append(y_extra, ignore_index=True)\n",
        "print(X_test.shape, y_test.shape)"
      ]
    },
    {
      "cell_type": "code",
      "execution_count": 142,
      "metadata": {
        "id": "3e5n9hTUkSf4"
      },
      "outputs": [],
      "source": [
        "MAX_LEN = 150"
      ]
    },
    {
      "cell_type": "code",
      "execution_count": 143,
      "metadata": {
        "id": "N23LpnqyeiqG"
      },
      "outputs": [],
      "source": [
        "from torch.utils.data import TensorDataset, DataLoader, RandomSampler, SequentialSampler\n",
        "\n",
        "batch_size = 64\n",
        "\n",
        "train_inputs, train_masks = c1.preprocessing_for_bert(data=X_train, MAX_LEN=MAX_LEN)\n",
        "train_labels = torch.tensor(y_train['label'].values)\n",
        "train_dataset = TensorDataset(train_inputs, train_masks, train_labels)\n",
        "train_sampler = RandomSampler(train_dataset) # RandomSampler\n",
        "train_dataloader = DataLoader(train_dataset, sampler=train_sampler, batch_size=batch_size)\n",
        "\n",
        "val_inputs, val_masks = c1.preprocessing_for_bert(X_val, MAX_LEN=MAX_LEN)\n",
        "val_labels = torch.tensor(y_val['label'].values)\n",
        "val_dataset = TensorDataset(val_inputs, val_masks, val_labels)\n",
        "val_sampler = SequentialSampler(val_dataset)\n",
        "val_dataloader = DataLoader(val_dataset, sampler=val_sampler, batch_size=batch_size)\n",
        "\n",
        "test_inputs, test_masks = c1.preprocessing_for_bert(X_test, MAX_LEN=MAX_LEN)\n",
        "test_dataset = TensorDataset(test_inputs, test_masks)\n",
        "test_sampler = SequentialSampler(test_dataset)\n",
        "test_dataloader = DataLoader(test_dataset, sampler=test_sampler, batch_size=32)"
      ]
    },
    {
      "attachments": {},
      "cell_type": "markdown",
      "metadata": {
        "id": "uGvT14xLpKNB"
      },
      "source": [
        "# MARBERT and fine-tuning it"
      ]
    },
    {
      "cell_type": "code",
      "execution_count": 144,
      "metadata": {
        "id": "tIMpMCbYki8H"
      },
      "outputs": [],
      "source": [
        "import torch.nn as nn\n",
        "class BertClassifier(nn.Module):\n",
        "    def __init__(self, freeze_bert=False):\n",
        "        super(BertClassifier, self).__init__()\n",
        "        # Specify hidden size of BERT, hidden size of our classifier, and number of labels\n",
        "        hidden_BERT = 768\n",
        "        hidden_FFNN = 50\n",
        "        labels_num = 2 # Normal=0, Hate Speech=1\n",
        "\n",
        "        # Instantiate BERT model\n",
        "        self.bert = AutoModel.from_pretrained(\"UBC-NLP/MARBERTv2\")\n",
        "        # Instantiate an one-layer feed-forward classifier\n",
        "        self.classifier = nn.Sequential(\n",
        "            nn.Linear(hidden_BERT, hidden_FFNN),\n",
        "            nn.ReLU(),\n",
        "            nn.Dropout(0.5),\n",
        "            nn.Linear(hidden_FFNN, labels_num)\n",
        "        )\n",
        "\n",
        "        # Freeze the BERT model\n",
        "        if freeze_bert:\n",
        "            for param in self.bert.parameters():\n",
        "                param.requires_grad = False\n",
        "        \n",
        "    def forward(self, input_ids, attention_mask):\n",
        "        # Feed input to BERT\n",
        "        outputs = self.bert(input_ids=input_ids, attention_mask=attention_mask)\n",
        "        \n",
        "        # Extract the last hidden state of the token `[CLS]` for classification task\n",
        "        last_hidden_state_cls = outputs[0][:, 0, :]\n",
        "\n",
        "        # Feed input to classifier to compute logits\n",
        "        logits = self.classifier(last_hidden_state_cls)\n",
        "\n",
        "        return logits"
      ]
    },
    {
      "cell_type": "code",
      "execution_count": 145,
      "metadata": {
        "id": "fyMjNUEAoII8"
      },
      "outputs": [],
      "source": [
        "from transformers import AdamW, get_linear_schedule_with_warmup\n",
        "def initialize_model(epochs=2):\n",
        "    # Instantiate Bert Classifier\n",
        "    bert_classifier = BertClassifier(freeze_bert=False)\n",
        "    # Tell PyTorch to run the model on GPU\n",
        "    bert_classifier.to(device)\n",
        "\n",
        "    # Create the optimizer\n",
        "    optimizer = AdamW(params=list(bert_classifier.parameters()), lr=5e-5, eps=1e-8)\n",
        "\n",
        "    # Total number of training steps\n",
        "    total_steps = len(train_dataloader) * epochs\n",
        "\n",
        "    # Set up the learning rate scheduler\n",
        "    scheduler = get_linear_schedule_with_warmup(optimizer, num_warmup_steps=0, num_training_steps=total_steps)\n",
        "    return bert_classifier, optimizer, scheduler"
      ]
    },
    {
      "cell_type": "code",
      "execution_count": 146,
      "metadata": {
        "id": "t9eAzmEtrKSM"
      },
      "outputs": [],
      "source": [
        "import random\n",
        "import time\n",
        "\n",
        "loss_fn = nn.CrossEntropyLoss()\n",
        "def set_seed(seed_value=42):\n",
        "    random.seed(seed_value)\n",
        "    np.random.seed(seed_value)\n",
        "    torch.manual_seed(seed_value)\n",
        "    torch.cuda.manual_seed_all(seed_value)\n",
        "\n",
        "def train(model, train_dataloader, val_dataloader=None, epochs=4, evaluation=False):\n",
        "    print(\"Start training...\\n\")\n",
        "    for epoch_i in range(epochs):\n",
        "        print(f\"{'Epoch':^7} | {'Batch':^7} | {'Train Loss':^12} | {'Val Loss':^10} | {'Val Acc':^9} | {'Elapsed':^9}\")\n",
        "        print(\"-\"*70)\n",
        "\n",
        "        # Measure the elapsed time of each epoch\n",
        "        t0_epoch, t0_batch = time.time(), time.time()\n",
        "\n",
        "        # Reset tracking variables at the beginning of each epoch\n",
        "        total_loss, batch_loss, batch_counts = 0, 0, 0\n",
        "\n",
        "        # Put the model into the training mode\n",
        "        model.train()\n",
        "\n",
        "        # For each batch of training data...\n",
        "        for step, batch in enumerate(train_dataloader):\n",
        "            batch_counts +=1\n",
        "            # Load batch to GPU\n",
        "            b_input_ids, b_attn_mask, b_labels = tuple(t.to(device) for t in batch)\n",
        "\n",
        "            # Zero out any previously calculated gradients\n",
        "            model.zero_grad()\n",
        "\n",
        "            # Perform a forward pass. This will return logits.\n",
        "            logits = model(b_input_ids, b_attn_mask)\n",
        "\n",
        "            # Compute loss and accumulate the loss values\n",
        "            loss = loss_fn(logits, b_labels)\n",
        "            batch_loss += loss.item()\n",
        "            total_loss += loss.item()\n",
        "\n",
        "            # Perform a backward pass to calculate gradients\n",
        "            loss.backward()\n",
        "\n",
        "            # Clip the norm of the gradients to 1.0 to prevent \"exploding gradients\"\n",
        "            torch.nn.utils.clip_grad_norm_(model.parameters(), 1.0)\n",
        "\n",
        "            # Update parameters and the learning rate\n",
        "            optimizer.step()\n",
        "            scheduler.step()\n",
        "\n",
        "            # Print the loss values and time elapsed for every 20 batches\n",
        "            if (step % 20 == 0 and step != 0) or (step == len(train_dataloader) - 1):\n",
        "                # Calculate time elapsed for 20 batches\n",
        "                time_elapsed = time.time() - t0_batch\n",
        "\n",
        "                # Print training results\n",
        "                print(f\"{epoch_i + 1:^7} | {step:^7} | {batch_loss / batch_counts:^12.6f} | {'-':^10} | {'-':^9} | {time_elapsed:^9.2f}\")\n",
        "\n",
        "                # Reset batch tracking variables\n",
        "                batch_loss, batch_counts = 0, 0\n",
        "                t0_batch = time.time()\n",
        "\n",
        "        # Calculate the average loss over the entire training data\n",
        "        avg_train_loss = total_loss / len(train_dataloader)\n",
        "\n",
        "        print(\"-\"*70)\n",
        "        if evaluation == True:\n",
        "            # After the completion of each training epoch, measure the model's performance\n",
        "            # on our validation set.\n",
        "            val_loss, val_accuracy = evaluate(model, val_dataloader)\n",
        "\n",
        "            # Print performance over the entire training data\n",
        "            time_elapsed = time.time() - t0_epoch\n",
        "            \n",
        "            print(f\"{epoch_i + 1:^7} | {'-':^7} | {avg_train_loss:^12.6f} | {val_loss:^10.6f} | {val_accuracy:^9.2f} | {time_elapsed:^9.2f}\")\n",
        "            print(\"-\"*70)\n",
        "        print(\"\\n\")\n",
        "    \n",
        "    print(\"Training complete!\")"
      ]
    },
    {
      "cell_type": "code",
      "execution_count": 147,
      "metadata": {
        "id": "jhlEwwM8slfB"
      },
      "outputs": [],
      "source": [
        "def evaluate(model, val_dataloader):\n",
        "    # Put the model into the evaluation mode. The dropout layers are disabled during\n",
        "    # the test time.\n",
        "    model.eval()\n",
        "\n",
        "    # Tracking variables\n",
        "    val_accuracy = []\n",
        "    val_loss = []\n",
        "\n",
        "    # For each batch in our validation set...\n",
        "    for batch in val_dataloader:\n",
        "        # Load batch to GPU\n",
        "        b_input_ids, b_attn_mask, b_labels = tuple(t.to(device) for t in batch)\n",
        "\n",
        "        # Compute logits\n",
        "        with torch.no_grad():\n",
        "            logits = model(b_input_ids, b_attn_mask)\n",
        "\n",
        "        # Compute loss\n",
        "        loss = loss_fn(logits, b_labels)\n",
        "        val_loss.append(loss.item())\n",
        "\n",
        "        # Get the predictions\n",
        "        preds = torch.argmax(logits, dim=1).flatten()\n",
        "\n",
        "        # Calculate the accuracy rate\n",
        "        accuracy = (preds == b_labels).cpu().numpy().mean() * 100\n",
        "        val_accuracy.append(accuracy)\n",
        "\n",
        "    # Compute the average accuracy and loss over the validation set.\n",
        "    val_loss = np.mean(val_loss)\n",
        "    val_accuracy = np.mean(val_accuracy)\n",
        "\n",
        "    return val_loss, val_accuracy"
      ]
    },
    {
      "cell_type": "code",
      "execution_count": 148,
      "metadata": {
        "id": "jJsT6TJus29H"
      },
      "outputs": [],
      "source": [
        "import torch.nn.functional as F\n",
        "\n",
        "def bert_predict(model, test_dataloader):\n",
        "    model.eval()\n",
        "\n",
        "    all_logits = []\n",
        "\n",
        "    # For each batch in our test set...\n",
        "    for batch in test_dataloader:\n",
        "        # Load batch to GPU\n",
        "        b_input_ids, b_attn_mask = tuple(t.to(device) for t in batch)[:2]\n",
        "\n",
        "        # Compute logits\n",
        "        with torch.no_grad():\n",
        "            logits = model(b_input_ids, b_attn_mask)\n",
        "        all_logits.append(logits)\n",
        "    \n",
        "    # Concatenate logits from each batch\n",
        "    all_logits = torch.cat(all_logits, dim=0)\n",
        "\n",
        "    # Apply softmax to calculate probabilities\n",
        "    probs = F.softmax(all_logits, dim=1).cpu().numpy()\n",
        "\n",
        "    return probs"
      ]
    },
    {
      "cell_type": "code",
      "execution_count": 149,
      "metadata": {
        "id": "7vNNb9GZtxtn"
      },
      "outputs": [],
      "source": [
        "from sklearn.metrics import accuracy_score, roc_curve, auc, f1_score, confusion_matrix, recall_score, precision_score\n",
        "import seaborn as sns\n",
        "import matplotlib.pyplot as plt\n",
        "\n",
        "def evaluate_metrics(probs, y_true, model_name, dataset_name, test_dataset_name):\n",
        "    preds = probs[:, 1]\n",
        "    fpr, tpr, threshold = roc_curve(y_true, preds)\n",
        "    roc_auc = auc(fpr, tpr)\n",
        "    print(f'AUC = {roc_auc:0.4f}')\n",
        "       \n",
        "    y_pred = np.where(preds >= 0.5, 1, 0)\n",
        "\n",
        "    print(f'Recall = {recall_score(y_true, y_pred):0.4f}')\n",
        "    print(f'Precision = {precision_score(y_true, y_pred):0.4f}')\n",
        "    print(f'F1_score = {f1_score(y_true, y_pred):0.4f}')\n",
        "    print(f'Accuracy = {accuracy_score(y_true, y_pred):0.4f}')\n",
        "    \n",
        "\n",
        "    cf_matrix = confusion_matrix(y_true, y_pred)\n",
        "    group_names = ['True Neg','False Pos','False Neg','True Pos']\n",
        "    group_counts = ['{0:0.0f}'.format(value) for value in\n",
        "                    cf_matrix.flatten()]\n",
        "    group_percentages = ['{0:.2%}'.format(value) for value in\n",
        "                         cf_matrix.flatten()/np.sum(cf_matrix)]\n",
        "    labels = [f'{v1}\\n{v2}\\n{v3}' for v1, v2, v3 in\n",
        "              zip(group_names,group_counts,group_percentages)]\n",
        "    labels = np.asarray(labels).reshape(2,2)\n",
        "    sns.heatmap(cf_matrix, annot=labels, fmt='', cmap='Blues')\n",
        "    plt.show()\n",
        "    \n",
        "    \n",
        "    # Plot ROC AUC\n",
        "    plt.title(f\" ROC of {model_name}  trained on {dataset_name} dataset & evaluated on the {test_dataset_name} dataset \")\n",
        "    plt.plot(fpr, tpr, 'b', label = 'AUC = %0.2f' % roc_auc)\n",
        "    plt.legend(loc = 'lower right')\n",
        "    plt.plot([0, 1], [0, 1],'r--')\n",
        "    plt.xlim([0, 1])\n",
        "    plt.ylim([0, 1])\n",
        "    plt.ylabel('True Positive Rate')\n",
        "    plt.xlabel('False Positive Rate')\n",
        "    plt.show()"
      ]
    },
    {
      "cell_type": "code",
      "execution_count": 150,
      "metadata": {
        "id": "MlYgAksTuEbj"
      },
      "outputs": [],
      "source": [
        "def evaluate_dataset(sents, labels, model_name, dataset_name, test_dataset_name, model):\n",
        "    test_inputs, test_masks = c1.preprocessing_for_bert(sents)\n",
        "\n",
        "    # Create the DataLoader for our test set\n",
        "    test_dataset = TensorDataset(test_inputs, test_masks)\n",
        "    test_sampler = SequentialSampler(test_dataset)\n",
        "    test_dataloader = DataLoader(test_dataset, sampler=test_sampler, batch_size=32)\n",
        "    # Compute predicted probabilities on the test set\n",
        "    probs = bert_predict(model, test_dataloader)\n",
        "\n",
        "    # Get predictions from the probabilities\n",
        "    threshold = 0.5\n",
        "    preds = np.where(probs[:, 1] > threshold, 1, 0)\n",
        "    auc_graph = evaluate_metrics(probs, labels, model_name, dataset_name, test_dataset_name)\n",
        "\n",
        "    return auc_graph"
      ]
    },
    {
      "cell_type": "code",
      "execution_count": 151,
      "metadata": {
        "colab": {
          "base_uri": "https://localhost:8080/"
        },
        "id": "ytINrCapud_k",
        "outputId": "6d5eb2a1-2487-4069-e5fd-a354ba01263f"
      },
      "outputs": [
        {
          "name": "stderr",
          "output_type": "stream",
          "text": [
            "Some weights of the model checkpoint at UBC-NLP/MARBERTv2 were not used when initializing BertModel: ['cls.seq_relationship.bias', 'cls.predictions.bias', 'cls.predictions.transform.dense.bias', 'cls.predictions.decoder.bias', 'cls.seq_relationship.weight', 'cls.predictions.transform.LayerNorm.weight', 'cls.predictions.decoder.weight', 'cls.predictions.transform.dense.weight', 'cls.predictions.transform.LayerNorm.bias']\n",
            "- This IS expected if you are initializing BertModel from the checkpoint of a model trained on another task or with another architecture (e.g. initializing a BertForSequenceClassification model from a BertForPreTraining model).\n",
            "- This IS NOT expected if you are initializing BertModel from the checkpoint of a model that you expect to be exactly identical (initializing a BertForSequenceClassification model from a BertForSequenceClassification model).\n"
          ]
        },
        {
          "name": "stdout",
          "output_type": "stream",
          "text": [
            "Start training...\n",
            "\n",
            " Epoch  |  Batch  |  Train Loss  |  Val Loss  |  Val Acc  |  Elapsed \n",
            "----------------------------------------------------------------------\n",
            "   1    |   20    |   0.467900   |     -      |     -     |   32.77  \n",
            "   1    |   40    |   0.366792   |     -      |     -     |   29.81  \n",
            "   1    |   60    |   0.327995   |     -      |     -     |   29.71  \n",
            "   1    |   80    |   0.320986   |     -      |     -     |   30.20  \n",
            "   1    |   100   |   0.313747   |     -      |     -     |   29.97  \n",
            "   1    |   120   |   0.276268   |     -      |     -     |   29.92  \n",
            "   1    |   140   |   0.234486   |     -      |     -     |   29.94  \n",
            "   1    |   152   |   0.243516   |     -      |     -     |   17.15  \n",
            "----------------------------------------------------------------------\n",
            "   1    |    -    |   0.323880   |  0.228664  |   90.30   |  266.42  \n",
            "----------------------------------------------------------------------\n",
            "\n",
            "\n",
            " Epoch  |  Batch  |  Train Loss  |  Val Loss  |  Val Acc  |  Elapsed \n",
            "----------------------------------------------------------------------\n",
            "   2    |   20    |   0.201798   |     -      |     -     |   31.41  \n",
            "   2    |   40    |   0.170036   |     -      |     -     |   29.92  \n",
            "   2    |   60    |   0.162676   |     -      |     -     |   29.94  \n",
            "   2    |   80    |   0.172930   |     -      |     -     |   29.93  \n",
            "   2    |   100   |   0.154084   |     -      |     -     |   29.95  \n",
            "   2    |   120   |   0.214742   |     -      |     -     |   29.98  \n",
            "   2    |   140   |   0.164264   |     -      |     -     |   29.99  \n",
            "   2    |   152   |   0.191818   |     -      |     -     |   17.20  \n",
            "----------------------------------------------------------------------\n",
            "   2    |    -    |   0.178524   |  0.241071  |   90.84   |  265.48  \n",
            "----------------------------------------------------------------------\n",
            "\n",
            "\n",
            "Training complete!\n",
            "CPU times: user 8min 52s, sys: 5.46 s, total: 8min 57s\n",
            "Wall time: 8min 54s\n"
          ]
        }
      ],
      "source": [
        "%%time\n",
        "set_seed(42) \n",
        "bert_classifier, optimizer, scheduler = initialize_model(epochs=2)\n",
        "train(bert_classifier, train_dataloader, val_dataloader, epochs=2, evaluation=True)"
      ]
    },
    {
      "cell_type": "code",
      "execution_count": 152,
      "metadata": {
        "id": "lIvMZ-WjxQ3Z"
      },
      "outputs": [],
      "source": [
        "import pickle\n",
        "filename = 'MARBERT_Arabic_Phoenix_model.sav'\n",
        "pickle.dump(bert_classifier, open(filename, 'wb'))"
      ]
    },
    {
      "cell_type": "code",
      "execution_count": 153,
      "metadata": {
        "id": "0Yrto8POSiY1"
      },
      "outputs": [],
      "source": [
        "torch.save(bert_classifier, 'MARBERT_Arabic_Phoenix_model.pt')"
      ]
    },
    {
      "cell_type": "code",
      "execution_count": 154,
      "metadata": {
        "colab": {
          "base_uri": "https://localhost:8080/",
          "height": 1000
        },
        "id": "PzIOVtWN0yVq",
        "outputId": "34f52227-2dc7-44bd-db4a-a668bbcad592"
      },
      "outputs": [
        {
          "name": "stdout",
          "output_type": "stream",
          "text": [
            "AUC = 0.9616\n",
            "Recall = 0.8712\n",
            "Precision = 0.8442\n",
            "F1_score = 0.8575\n",
            "Accuracy = 0.9251\n"
          ]
        },
        {
          "data": {
            "image/png": "[encoded data removed]",
            "text/plain": [
              "<Figure size 640x480 with 2 Axes>"
            ]
          },
          "metadata": {},
          "output_type": "display_data"
        },
        {
          "data": {
            "image/png": "[encoded data removed]",
            "text/plain": [
              "<Figure size 640x480 with 1 Axes>"
            ]
          },
          "metadata": {},
          "output_type": "display_data"
        },
        {
          "name": "stdout",
          "output_type": "stream",
          "text": [
            "CPU times: user 47.5 s, sys: 593 ms, total: 48.1 s\n",
            "Wall time: 47.5 s\n"
          ]
        }
      ],
      "source": [
        "%%time\n",
        "evaluate_dataset(X_test, y_test,\"MARBERT\", \"All hate speech\", \"All hate speech test data\", bert_classifier)"
      ]
    },
    {
      "cell_type": "code",
      "execution_count": 154,
      "metadata": {
        "id": "J6rD3wxHe88T"
      },
      "outputs": [],
      "source": []
    }
  ],
  "metadata": {
    "accelerator": "GPU",
    "colab": {
      "gpuType": "T4",
      "machine_shape": "hm",
      "provenance": []
    },
    "kernelspec": {
      "display_name": "Python 3",
      "name": "python3"
    },
    "language_info": {
      "name": "python"
    }
  },
  "nbformat": 4,
  "nbformat_minor": 0
}
